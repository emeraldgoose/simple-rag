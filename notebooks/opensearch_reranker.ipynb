{
 "cells": [
  {
   "cell_type": "code",
   "execution_count": 1,
   "metadata": {},
   "outputs": [
    {
     "data": {
      "text/plain": [
       "True"
      ]
     },
     "execution_count": 1,
     "metadata": {},
     "output_type": "execute_result"
    }
   ],
   "source": [
    "from dotenv import load_dotenv\n",
    "import nest_asyncio\n",
    "\n",
    "nest_asyncio.apply()\n",
    "load_dotenv(dotenv_path='../backend/secret.env')"
   ]
  },
  {
   "cell_type": "code",
   "execution_count": null,
   "metadata": {},
   "outputs": [
    {
     "name": "stderr",
     "output_type": "stream",
     "text": [
      "/Users/minseongkim/miniconda3/envs/rag/lib/python3.13/site-packages/opensearchpy/connection/http_urllib3.py:214: UserWarning: Connecting to https://localhost:9200 using SSL with verify_certs=False is insecure.\n",
      "  warnings.warn(\n",
      "/Users/minseongkim/miniconda3/envs/rag/lib/python3.13/site-packages/urllib3/connectionpool.py:1097: InsecureRequestWarning: Unverified HTTPS request is being made to host 'localhost'. Adding certificate verification is strongly advised. See: https://urllib3.readthedocs.io/en/latest/advanced-usage.html#tls-warnings\n",
      "  warnings.warn(\n"
     ]
    },
    {
     "data": {
      "text/plain": [
       "{'name': 'opensearch',\n",
       " 'cluster_name': 'docker-cluster',\n",
       " 'cluster_uuid': '5Q3nu-KVR7GEp7JMnmG1kg',\n",
       " 'version': {'distribution': 'opensearch',\n",
       "  'number': '2.19.0',\n",
       "  'build_type': 'tar',\n",
       "  'build_hash': 'fd9a9d90df25bea1af2c6a85039692e815b894f5',\n",
       "  'build_date': '2025-02-05T16:13:36.244552508Z',\n",
       "  'build_snapshot': False,\n",
       "  'lucene_version': '9.12.1',\n",
       "  'minimum_wire_compatibility_version': '7.10.0',\n",
       "  'minimum_index_compatibility_version': '7.0.0'},\n",
       " 'tagline': 'The OpenSearch Project: https://opensearch.org/'}"
      ]
     },
     "execution_count": 26,
     "metadata": {},
     "output_type": "execute_result"
    }
   ],
   "source": [
    "import os\n",
    "from opensearchpy import OpenSearch\n",
    "\n",
    "client = OpenSearch(\n",
    "    hosts=[\"https://localhost:9200\"],\n",
    "    http_compress=True,\n",
    "    http_auth=('',os.environ.get('OPENSEARCH_PASSWORD')),\n",
    "    use_ssl=True,\n",
    "    verify_certs=False,\n",
    ")\n",
    "client.info()"
   ]
  },
  {
   "cell_type": "code",
   "execution_count": 31,
   "metadata": {},
   "outputs": [],
   "source": [
    "from langchain.schema import Document\n",
    "\n",
    "query = \"2024 하반기 은행 가계대출 변화량에 대해 설명해봐\"\n",
    "results = [(Document(metadata={'source': './data/complex_pdf/pickle/parsed_llamaparse_2.md', 'text_as_html': '<table><tr><td/><td>8월</td><td>9월</td><td>10월</td><td>11월</td><td>12월</td><td>25.1월</td></tr><tr><td>아파트매매거래량(전국, 만호)1)</td><td>4.3</td><td>3.0</td><td>3.8</td><td>3.1</td><td>2.7</td><td>..</td></tr><tr><td>매매거래량(수도권, 만호)1)</td><td>2.2</td><td>1.3</td><td>1.5</td><td>1.2</td><td>1.0</td><td>..</td></tr><tr><td>매매거래량(서울, 만호)1)</td><td>0.6</td><td>0.3</td><td>0.4</td><td>0.3</td><td>0.3</td><td>..</td></tr><tr><td>전세거래량(전국, 〃)</td><td>5.1</td><td>4.3</td><td>5.2</td><td>4.4</td><td>4.1</td><td>..</td></tr><tr><td>분양물량 (전국, 〃)</td><td>1.7</td><td>1.8</td><td>2.5</td><td>3.2</td><td>2.0</td><td>1.0</td></tr><tr><td>입주물량 (전국, 〃)</td><td>3.2</td><td>2.6</td><td>3.0</td><td>3.4</td><td>3.1</td><td>3.8</td></tr></table> <table><tr><td/><td>2023</td><td>연중</td><td>1월</td><td>2024</td><td>연중</td><td>1월</td><td>10월</td><td>11월</td><td>12월</td><td>1월</td><td>잔액</td><td/><td/><td/><td/><td/><td/></tr><tr><td>은행가계대출1)</td><td>36.9</td><td>-4.7</td><td>46.0</td><td>3.3</td><td>3.8</td><td>1.9</td><td>-0.4</td><td>-0.5</td><td>1,140.5</td><td/><td/><td/><td/><td/><td/><td/><td/></tr><tr><td/><td>주택담보대출2)</td><td/><td/><td/><td/><td/><td>51.6</td><td/><td/><td>0.0</td><td>52.1</td><td>4.9</td><td>3.6</td><td>1.5</td><td>0.8</td><td>1.7</td><td>904.3</td></tr><tr><td/><td>기타대출3)</td><td/><td/><td/><td/><td/><td>-14.5</td><td/><td/><td>-4.6</td><td>-5.9</td><td>-1.5</td><td>0.3</td><td>0.4</td><td>-1.1</td><td>-2.1</td><td>235.3</td></tr></table>', 'orig_elements': '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', 'languages': ['kor'], 'file_directory': './data/complex_pdf/pickle', 'filename': 'parsed_llamaparse_2.md', 'filetype': 'text/markdown', 'last_modified': '2025-02-14T20:35:19', 'category': 'CompositeElement', 'element_id': 'da57ff0f75abfb74dfdba67c315d03e9', 'family_tree': 'child', 'parent_id': '6220a83b-ae41-417d-82b7-050ef83c5d2d', 'id': '9bde98b9-0a5a-49d9-82be-804e9c5a2e30'}, page_content='가계대출\\n\\n1월 은행 가계대출은 전월에이어 소폭 감소 (24.12월-0.4조원→25.1월-0.5조원;24.1월+3.3조원)\\n\\n주택담보대출은 연초 은행들의 가계대출 취급이 재개되었으나 주택 거래 둔화 등으로 낮은 증가세 지속(+0.8조원→+1.7조원)\\n\\n※전세자금대출증감(조원):24.11월+0.1→12월–0.0→25.1월+0.4(24.1월–0.2)\\n\\n기타대출은 명절·성과상여금 유입 등으로 감소폭이 확대 (-1.1조원→-2.1조원)\\n\\n8월 9월 10월 11월 12월 25.1월 아파트매매거래량(전국, 만호)1) 4.3 3.0 3.8 3.1 2.7 .. 매매거래량(수도권, 만호)1) 2.2 1.3 1.5 1.2 1.0 .. 매매거래량(서울, 만호)1) 0.6 0.3 0.4 0.3 0.3 .. 전세거래량(전국, 〃) 5.1 4.3 5.2 4.4 4.1 .. 분양물량 (전국, 〃) 1.7 1.8 2.5 3.2 2.0 1.0 입주물량 (전국, 〃) 3.2 2.6 3.0 3.4 3.1 3.8\\n\\n주:1)계약일 기준(2.11일 조회 기준, 계약 해제 건 제외)\\n\\n자료:국토교통부, 부동산114\\n\\n은행 가계대출\\n\\n2023 연중 1월 2024 연중 1월 10월 11월 12월 1월 잔액 은행가계대출1) 36.9 -4.7 46.0 3.3 3.8 1.9 -0.4 -0.5 1,140.5 주택담보대출2) 51.6 0.0 52.1 4.9 3.6 1.5 0.8 1.7 904.3 기타대출3) -14.5 -4.6 -5.9 -1.5 0.3 0.4 -1.1 -2.1 235.3\\n\\n주:1)예금은행(은행신탁 포함) 기준, 종별대출은 신탁 제외\\n\\n2)전세자금대출, 이주비·중도금대출 등 주택담보로 취급되지 않은 주택 관련 대출을 포함\\n\\n한국주택금융공사 정책 모기지 양도분 및 이차보전 방식의 주택도시기금 정책 대출 포함\\n\\n3)일반신용대출, 신용한도대출(마이너스통장대출), 상업용부동산(상가·오피스텔 등) 담보 대출, 기타대출(예·적금담보대출, 주식담보대출 등) 등으로 구성'), 0.016321044546851), (Document(metadata={'category': 'Table', 'origin_table': '<table><tr><td/><td>8월</td><td>9월</td><td>10월</td><td>11월</td><td>12월</td><td>25.1월</td></tr><tr><td>아파트매매거래량(전국, 만호)1)</td><td>4.3</td><td>3.0</td><td>3.8</td><td>3.1</td><td>2.7</td><td>..</td></tr><tr><td>매매거래량(수도권, 만호)1)</td><td>2.2</td><td>1.3</td><td>1.5</td><td>1.2</td><td>1.0</td><td>..</td></tr><tr><td>매매거래량(서울, 만호)1)</td><td>0.6</td><td>0.3</td><td>0.4</td><td>0.3</td><td>0.3</td><td>..</td></tr><tr><td>전세거래량(전국, 〃)</td><td>5.1</td><td>4.3</td><td>5.2</td><td>4.4</td><td>4.1</td><td>..</td></tr><tr><td>분양물량 (전국, 〃)</td><td>1.7</td><td>1.8</td><td>2.5</td><td>3.2</td><td>2.0</td><td>1.0</td></tr><tr><td>입주물량 (전국, 〃)</td><td>3.2</td><td>2.6</td><td>3.0</td><td>3.4</td><td>3.1</td><td>3.8</td></tr></table> <table><tr><td/><td>2023</td><td>연중</td><td>1월</td><td>2024</td><td>연중</td><td>1월</td><td>10월</td><td>11월</td><td>12월</td><td>1월</td><td>잔액</td><td/><td/><td/><td/><td/><td/></tr><tr><td>은행가계대출1)</td><td>36.9</td><td>-4.7</td><td>46.0</td><td>3.3</td><td>3.8</td><td>1.9</td><td>-0.4</td><td>-0.5</td><td>1,140.5</td><td/><td/><td/><td/><td/><td/><td/><td/></tr><tr><td/><td>주택담보대출2)</td><td/><td/><td/><td/><td/><td>51.6</td><td/><td/><td>0.0</td><td>52.1</td><td>4.9</td><td>3.6</td><td>1.5</td><td>0.8</td><td>1.7</td><td>904.3</td></tr><tr><td/><td>기타대출3)</td><td/><td/><td/><td/><td/><td>-14.5</td><td/><td/><td>-4.6</td><td>-5.9</td><td>-1.5</td><td>0.3</td><td>0.4</td><td>-1.1</td><td>-2.1</td><td>235.3</td></tr></table>', 'family_tree': 'parent_table', 'parent_id': 'NA', 'id': '027774f5-d42f-4b28-9bff-9f0a3c630bc9'}, page_content='제공된 표는 2023년 8월부터 12월까지의 아파트 매매 및 전세 거래량, 분양 및 입주 물량과 2023년과 2024년의 은행 가계 대출 변화를 보여줍니다. 아파트 매매 거래량은 전국적으로 8월에 4.3만 호에서 12월에 2.7만 호로 감소했습니다. 전세 거래량은 5.1만 호에서 4.1만 호로 비슷한 감소세를 보였습니다. 분양 물량은 1.7만 호에서 2.0만 호로 소폭 증가했고, 입주 물량은 3.2만 호에서 3.1만 호로 거의 변동이 없었습니다. 은행 가계 대출은 2023년에 감소했지만, 2024년에 다시 증가하는 추세를 보입니다. 주택담보대출은 2024년 1월에 1.7조원 증가하여 904.3조원의 잔액을 기록했습니다. 기타 대출은 감소세를 보였습니다.'), 0.01626388154415653), (Document(metadata={'category': 'Table', 'origin_table': '<table><tr><td>항목</td><td>24.8월</td><td>9월</td><td>10월</td><td>11월</td><td>12월</td><td>25.1월</td><td>25.1월말 잔액</td></tr><tr><td>은행가계대출1)</td><td>9.2</td><td>5.6</td><td>3.8</td><td>1.9</td><td>-0.4</td><td>-0.5</td><td>1,140.5</td></tr><tr><td>주택담보대출2)</td><td>8.2</td><td>6.1</td><td>3.6</td><td>1.5</td><td>0.8</td><td>1.7</td><td>904.3</td></tr><tr><td>기타대출3)</td><td>1.1</td><td>-0.5</td><td>0.3</td><td>0.4</td><td>-1.1</td><td>-2.1</td><td>235.3</td></tr><tr><td>은행기업대출1)</td><td>7.2</td><td>4.3</td><td>8.1</td><td>2.2</td><td>-11.5</td><td>7.8</td><td>1,322.9</td></tr><tr><td>대기업</td><td>1.9</td><td>0.8</td><td>2.9</td><td>0.2</td><td>-4.3</td><td>6.1</td><td>280.6</td></tr><tr><td>중소기업</td><td>5.3</td><td>3.5</td><td>5.3</td><td>2.0</td><td>-7.1</td><td>1.8</td><td>1,042.3</td></tr><tr><td>&lt;중소법인&gt;</td><td>4.5</td><td>3.3</td><td>4.9</td><td>1.5</td><td>-5.8</td><td>2.1</td><td>587.2</td></tr><tr><td>&lt;개인사업자&gt;</td><td>0.8</td><td>0.3</td><td>0.3</td><td>0.4</td><td>-1.3</td><td>-0.3</td><td>455.1</td></tr><tr><td>회사채 순발행4)</td><td>-0.5</td><td>-1.3</td><td>0.6</td><td>0.7</td><td>0.3</td><td>1.8</td><td>-</td></tr><tr><td>CP·단기사채순발행5)</td><td>-1.1</td><td>1.1</td><td>-1.5</td><td>-0.6</td><td>-4.4</td><td>9.1</td><td>62.7</td></tr></table>', 'family_tree': 'parent_table', 'parent_id': 'NA', 'id': '1ebca500-c131-498f-acde-7688e582e633'}, page_content='표는 2024년 8월부터 2025년 1월까지의 은행 가계대출, 기업대출, 회사채 및 CP·단기사채 순발행액 변동 추이를 보여줍니다. 가계대출은 점차 감소하는 추세이며, 기업대출은 변동성이 큽니다. 2025년 1월말 잔액은 가계대출이 1,140.5조원, 기업대출이 1,322.9조원입니다.'), 0.008032786885245903)]"
   ]
  },
  {
   "cell_type": "code",
   "execution_count": 30,
   "metadata": {},
   "outputs": [
    {
     "data": {
      "text/plain": [
       "['가계대출\\n\\n1월 은행 가계대출은 전월에이어 소폭 감소 (24.12월-0.4조원→25.1월-0.5조원;24.1월+3.3조원)\\n\\n주택담보대출은 연초 은행들의 가계대출 취급이 재개되었으나 주택 거래 둔화 등으로 낮은 증가세 지속(+0.8조원→+1.7조원)\\n\\n※전세자금대출증감(조원):24.11월+0.1→12월–0.0→25.1월+0.4(24.1월–0.2)\\n\\n기타대출은 명절·성과상여금 유입 등으로 감소폭이 확대 (-1.1조원→-2.1조원)\\n\\n8월 9월 10월 11월 12월 25.1월 아파트매매거래량(전국, 만호)1) 4.3 3.0 3.8 3.1 2.7 .. 매매거래량(수도권, 만호)1) 2.2 1.3 1.5 1.2 1.0 .. 매매거래량(서울, 만호)1) 0.6 0.3 0.4 0.3 0.3 .. 전세거래량(전국, 〃) 5.1 4.3 5.2 4.4 4.1 .. 분양물량 (전국, 〃) 1.7 1.8 2.5 3.2 2.0 1.0 입주물량 (전국, 〃) 3.2 2.6 3.0 3.4 3.1 3.8\\n\\n주:1)계약일 기준(2.11일 조회 기준, 계약 해제 건 제외)\\n\\n자료:국토교통부, 부동산114\\n\\n은행 가계대출\\n\\n2023 연중 1월 2024 연중 1월 10월 11월 12월 1월 잔액 은행가계대출1) 36.9 -4.7 46.0 3.3 3.8 1.9 -0.4 -0.5 1,140.5 주택담보대출2) 51.6 0.0 52.1 4.9 3.6 1.5 0.8 1.7 904.3 기타대출3) -14.5 -4.6 -5.9 -1.5 0.3 0.4 -1.1 -2.1 235.3\\n\\n주:1)예금은행(은행신탁 포함) 기준, 종별대출은 신탁 제외\\n\\n2)전세자금대출, 이주비·중도금대출 등 주택담보로 취급되지 않은 주택 관련 대출을 포함\\n\\n한국주택금융공사 정책 모기지 양도분 및 이차보전 방식의 주택도시기금 정책 대출 포함\\n\\n3)일반신용대출, 신용한도대출(마이너스통장대출), 상업용부동산(상가·오피스텔 등) 담보 대출, 기타대출(예·적금담보대출, 주식담보대출 등) 등으로 구성',\n",
       " '제공된 표는 2023년 8월부터 12월까지의 아파트 매매 및 전세 거래량, 분양 및 입주 물량과 2023년과 2024년의 은행 가계 대출 변화를 보여줍니다. 아파트 매매 거래량은 전국적으로 8월에 4.3만 호에서 12월에 2.7만 호로 감소했습니다. 전세 거래량은 5.1만 호에서 4.1만 호로 비슷한 감소세를 보였습니다. 분양 물량은 1.7만 호에서 2.0만 호로 소폭 증가했고, 입주 물량은 3.2만 호에서 3.1만 호로 거의 변동이 없었습니다. 은행 가계 대출은 2023년에 감소했지만, 2024년에 다시 증가하는 추세를 보입니다. 주택담보대출은 2024년 1월에 1.7조원 증가하여 904.3조원의 잔액을 기록했습니다. 기타 대출은 감소세를 보였습니다.',\n",
       " '표는 2024년 8월부터 2025년 1월까지의 은행 가계대출, 기업대출, 회사채 및 CP·단기사채 순발행액 변동 추이를 보여줍니다. 가계대출은 점차 감소하는 추세이며, 기업대출은 변동성이 큽니다. 2025년 1월말 잔액은 가계대출이 1,140.5조원, 기업대출이 1,322.9조원입니다.']"
      ]
     },
     "execution_count": 30,
     "metadata": {},
     "output_type": "execute_result"
    }
   ],
   "source": [
    "text_docs = [\n",
    "    doc.page_content for doc,_ in results\n",
    "]\n",
    "text_docs"
   ]
  },
  {
   "cell_type": "code",
   "execution_count": null,
   "metadata": {},
   "outputs": [
    {
     "name": "stderr",
     "output_type": "stream",
     "text": [
      "/Users/minseongkim/miniconda3/envs/rag/lib/python3.13/site-packages/urllib3/connectionpool.py:1097: InsecureRequestWarning: Unverified HTTPS request is being made to host 'localhost'. Adding certificate verification is strongly advised. See: https://urllib3.readthedocs.io/en/latest/advanced-usage.html#tls-warnings\n",
      "  warnings.warn(\n"
     ]
    },
    {
     "ename": "ConnectionTimeout",
     "evalue": "ConnectionTimeout caused by - ReadTimeoutError(HTTPSConnectionPool(host='localhost', port=9200): Read timed out. (read timeout=10))",
     "output_type": "error",
     "traceback": [
      "\u001b[0;31m---------------------------------------------------------------------------\u001b[0m",
      "\u001b[0;31mTimeoutError\u001b[0m                              Traceback (most recent call last)",
      "File \u001b[0;32m~/miniconda3/envs/rag/lib/python3.13/site-packages/urllib3/connectionpool.py:534\u001b[0m, in \u001b[0;36mHTTPConnectionPool._make_request\u001b[0;34m(self, conn, method, url, body, headers, retries, timeout, chunked, response_conn, preload_content, decode_content, enforce_content_length)\u001b[0m\n\u001b[1;32m    533\u001b[0m \u001b[38;5;28;01mtry\u001b[39;00m:\n\u001b[0;32m--> 534\u001b[0m     response \u001b[38;5;241m=\u001b[39m \u001b[43mconn\u001b[49m\u001b[38;5;241;43m.\u001b[39;49m\u001b[43mgetresponse\u001b[49m\u001b[43m(\u001b[49m\u001b[43m)\u001b[49m\n\u001b[1;32m    535\u001b[0m \u001b[38;5;28;01mexcept\u001b[39;00m (BaseSSLError, \u001b[38;5;167;01mOSError\u001b[39;00m) \u001b[38;5;28;01mas\u001b[39;00m e:\n",
      "File \u001b[0;32m~/miniconda3/envs/rag/lib/python3.13/site-packages/urllib3/connection.py:516\u001b[0m, in \u001b[0;36mHTTPConnection.getresponse\u001b[0;34m(self)\u001b[0m\n\u001b[1;32m    515\u001b[0m \u001b[38;5;66;03m# Get the response from http.client.HTTPConnection\u001b[39;00m\n\u001b[0;32m--> 516\u001b[0m httplib_response \u001b[38;5;241m=\u001b[39m \u001b[38;5;28;43msuper\u001b[39;49m\u001b[43m(\u001b[49m\u001b[43m)\u001b[49m\u001b[38;5;241;43m.\u001b[39;49m\u001b[43mgetresponse\u001b[49m\u001b[43m(\u001b[49m\u001b[43m)\u001b[49m\n\u001b[1;32m    518\u001b[0m \u001b[38;5;28;01mtry\u001b[39;00m:\n",
      "File \u001b[0;32m~/miniconda3/envs/rag/lib/python3.13/http/client.py:1430\u001b[0m, in \u001b[0;36mHTTPConnection.getresponse\u001b[0;34m(self)\u001b[0m\n\u001b[1;32m   1429\u001b[0m \u001b[38;5;28;01mtry\u001b[39;00m:\n\u001b[0;32m-> 1430\u001b[0m     \u001b[43mresponse\u001b[49m\u001b[38;5;241;43m.\u001b[39;49m\u001b[43mbegin\u001b[49m\u001b[43m(\u001b[49m\u001b[43m)\u001b[49m\n\u001b[1;32m   1431\u001b[0m \u001b[38;5;28;01mexcept\u001b[39;00m \u001b[38;5;167;01mConnectionError\u001b[39;00m:\n",
      "File \u001b[0;32m~/miniconda3/envs/rag/lib/python3.13/http/client.py:331\u001b[0m, in \u001b[0;36mHTTPResponse.begin\u001b[0;34m(self)\u001b[0m\n\u001b[1;32m    330\u001b[0m \u001b[38;5;28;01mwhile\u001b[39;00m \u001b[38;5;28;01mTrue\u001b[39;00m:\n\u001b[0;32m--> 331\u001b[0m     version, status, reason \u001b[38;5;241m=\u001b[39m \u001b[38;5;28;43mself\u001b[39;49m\u001b[38;5;241;43m.\u001b[39;49m\u001b[43m_read_status\u001b[49m\u001b[43m(\u001b[49m\u001b[43m)\u001b[49m\n\u001b[1;32m    332\u001b[0m     \u001b[38;5;28;01mif\u001b[39;00m status \u001b[38;5;241m!=\u001b[39m CONTINUE:\n",
      "File \u001b[0;32m~/miniconda3/envs/rag/lib/python3.13/http/client.py:292\u001b[0m, in \u001b[0;36mHTTPResponse._read_status\u001b[0;34m(self)\u001b[0m\n\u001b[1;32m    291\u001b[0m \u001b[38;5;28;01mdef\u001b[39;00m\u001b[38;5;250m \u001b[39m\u001b[38;5;21m_read_status\u001b[39m(\u001b[38;5;28mself\u001b[39m):\n\u001b[0;32m--> 292\u001b[0m     line \u001b[38;5;241m=\u001b[39m \u001b[38;5;28mstr\u001b[39m(\u001b[38;5;28;43mself\u001b[39;49m\u001b[38;5;241;43m.\u001b[39;49m\u001b[43mfp\u001b[49m\u001b[38;5;241;43m.\u001b[39;49m\u001b[43mreadline\u001b[49m\u001b[43m(\u001b[49m\u001b[43m_MAXLINE\u001b[49m\u001b[43m \u001b[49m\u001b[38;5;241;43m+\u001b[39;49m\u001b[43m \u001b[49m\u001b[38;5;241;43m1\u001b[39;49m\u001b[43m)\u001b[49m, \u001b[38;5;124m\"\u001b[39m\u001b[38;5;124miso-8859-1\u001b[39m\u001b[38;5;124m\"\u001b[39m)\n\u001b[1;32m    293\u001b[0m     \u001b[38;5;28;01mif\u001b[39;00m \u001b[38;5;28mlen\u001b[39m(line) \u001b[38;5;241m>\u001b[39m _MAXLINE:\n",
      "File \u001b[0;32m~/miniconda3/envs/rag/lib/python3.13/socket.py:719\u001b[0m, in \u001b[0;36mSocketIO.readinto\u001b[0;34m(self, b)\u001b[0m\n\u001b[1;32m    718\u001b[0m \u001b[38;5;28;01mtry\u001b[39;00m:\n\u001b[0;32m--> 719\u001b[0m     \u001b[38;5;28;01mreturn\u001b[39;00m \u001b[38;5;28;43mself\u001b[39;49m\u001b[38;5;241;43m.\u001b[39;49m\u001b[43m_sock\u001b[49m\u001b[38;5;241;43m.\u001b[39;49m\u001b[43mrecv_into\u001b[49m\u001b[43m(\u001b[49m\u001b[43mb\u001b[49m\u001b[43m)\u001b[49m\n\u001b[1;32m    720\u001b[0m \u001b[38;5;28;01mexcept\u001b[39;00m timeout:\n",
      "File \u001b[0;32m~/miniconda3/envs/rag/lib/python3.13/ssl.py:1304\u001b[0m, in \u001b[0;36mSSLSocket.recv_into\u001b[0;34m(self, buffer, nbytes, flags)\u001b[0m\n\u001b[1;32m   1301\u001b[0m         \u001b[38;5;28;01mraise\u001b[39;00m \u001b[38;5;167;01mValueError\u001b[39;00m(\n\u001b[1;32m   1302\u001b[0m           \u001b[38;5;124m\"\u001b[39m\u001b[38;5;124mnon-zero flags not allowed in calls to recv_into() on \u001b[39m\u001b[38;5;132;01m%s\u001b[39;00m\u001b[38;5;124m\"\u001b[39m \u001b[38;5;241m%\u001b[39m\n\u001b[1;32m   1303\u001b[0m           \u001b[38;5;28mself\u001b[39m\u001b[38;5;241m.\u001b[39m\u001b[38;5;18m__class__\u001b[39m)\n\u001b[0;32m-> 1304\u001b[0m     \u001b[38;5;28;01mreturn\u001b[39;00m \u001b[38;5;28;43mself\u001b[39;49m\u001b[38;5;241;43m.\u001b[39;49m\u001b[43mread\u001b[49m\u001b[43m(\u001b[49m\u001b[43mnbytes\u001b[49m\u001b[43m,\u001b[49m\u001b[43m \u001b[49m\u001b[43mbuffer\u001b[49m\u001b[43m)\u001b[49m\n\u001b[1;32m   1305\u001b[0m \u001b[38;5;28;01melse\u001b[39;00m:\n",
      "File \u001b[0;32m~/miniconda3/envs/rag/lib/python3.13/ssl.py:1138\u001b[0m, in \u001b[0;36mSSLSocket.read\u001b[0;34m(self, len, buffer)\u001b[0m\n\u001b[1;32m   1137\u001b[0m \u001b[38;5;28;01mif\u001b[39;00m buffer \u001b[38;5;129;01mis\u001b[39;00m \u001b[38;5;129;01mnot\u001b[39;00m \u001b[38;5;28;01mNone\u001b[39;00m:\n\u001b[0;32m-> 1138\u001b[0m     \u001b[38;5;28;01mreturn\u001b[39;00m \u001b[38;5;28;43mself\u001b[39;49m\u001b[38;5;241;43m.\u001b[39;49m\u001b[43m_sslobj\u001b[49m\u001b[38;5;241;43m.\u001b[39;49m\u001b[43mread\u001b[49m\u001b[43m(\u001b[49m\u001b[38;5;28;43mlen\u001b[39;49m\u001b[43m,\u001b[49m\u001b[43m \u001b[49m\u001b[43mbuffer\u001b[49m\u001b[43m)\u001b[49m\n\u001b[1;32m   1139\u001b[0m \u001b[38;5;28;01melse\u001b[39;00m:\n",
      "\u001b[0;31mTimeoutError\u001b[0m: The read operation timed out",
      "\nThe above exception was the direct cause of the following exception:\n",
      "\u001b[0;31mReadTimeoutError\u001b[0m                          Traceback (most recent call last)",
      "File \u001b[0;32m~/miniconda3/envs/rag/lib/python3.13/site-packages/opensearchpy/connection/http_urllib3.py:280\u001b[0m, in \u001b[0;36mUrllib3HttpConnection.perform_request\u001b[0;34m(self, method, url, params, body, timeout, ignore, headers)\u001b[0m\n\u001b[1;32m    278\u001b[0m \u001b[38;5;28mself\u001b[39m\u001b[38;5;241m.\u001b[39mmetrics\u001b[38;5;241m.\u001b[39mrequest_start()\n\u001b[0;32m--> 280\u001b[0m response \u001b[38;5;241m=\u001b[39m \u001b[38;5;28;43mself\u001b[39;49m\u001b[38;5;241;43m.\u001b[39;49m\u001b[43mpool\u001b[49m\u001b[38;5;241;43m.\u001b[39;49m\u001b[43murlopen\u001b[49m\u001b[43m(\u001b[49m\n\u001b[1;32m    281\u001b[0m \u001b[43m    \u001b[49m\u001b[43mmethod\u001b[49m\u001b[43m,\u001b[49m\u001b[43m \u001b[49m\u001b[43murl\u001b[49m\u001b[43m,\u001b[49m\u001b[43m \u001b[49m\u001b[43mbody\u001b[49m\u001b[43m,\u001b[49m\u001b[43m \u001b[49m\u001b[43mretries\u001b[49m\u001b[38;5;241;43m=\u001b[39;49m\u001b[43mRetry\u001b[49m\u001b[43m(\u001b[49m\u001b[38;5;28;43;01mFalse\u001b[39;49;00m\u001b[43m)\u001b[49m\u001b[43m,\u001b[49m\u001b[43m \u001b[49m\u001b[43mheaders\u001b[49m\u001b[38;5;241;43m=\u001b[39;49m\u001b[43mrequest_headers\u001b[49m\u001b[43m,\u001b[49m\u001b[43m \u001b[49m\u001b[38;5;241;43m*\u001b[39;49m\u001b[38;5;241;43m*\u001b[39;49m\u001b[43mkw\u001b[49m\n\u001b[1;32m    282\u001b[0m \u001b[43m\u001b[49m\u001b[43m)\u001b[49m\n\u001b[1;32m    283\u001b[0m duration \u001b[38;5;241m=\u001b[39m time\u001b[38;5;241m.\u001b[39mtime() \u001b[38;5;241m-\u001b[39m start\n",
      "File \u001b[0;32m~/miniconda3/envs/rag/lib/python3.13/site-packages/urllib3/connectionpool.py:841\u001b[0m, in \u001b[0;36mHTTPConnectionPool.urlopen\u001b[0;34m(self, method, url, body, headers, retries, redirect, assert_same_host, timeout, pool_timeout, release_conn, chunked, body_pos, preload_content, decode_content, **response_kw)\u001b[0m\n\u001b[1;32m    839\u001b[0m     new_e \u001b[38;5;241m=\u001b[39m ProtocolError(\u001b[38;5;124m\"\u001b[39m\u001b[38;5;124mConnection aborted.\u001b[39m\u001b[38;5;124m\"\u001b[39m, new_e)\n\u001b[0;32m--> 841\u001b[0m retries \u001b[38;5;241m=\u001b[39m \u001b[43mretries\u001b[49m\u001b[38;5;241;43m.\u001b[39;49m\u001b[43mincrement\u001b[49m\u001b[43m(\u001b[49m\n\u001b[1;32m    842\u001b[0m \u001b[43m    \u001b[49m\u001b[43mmethod\u001b[49m\u001b[43m,\u001b[49m\u001b[43m \u001b[49m\u001b[43murl\u001b[49m\u001b[43m,\u001b[49m\u001b[43m \u001b[49m\u001b[43merror\u001b[49m\u001b[38;5;241;43m=\u001b[39;49m\u001b[43mnew_e\u001b[49m\u001b[43m,\u001b[49m\u001b[43m \u001b[49m\u001b[43m_pool\u001b[49m\u001b[38;5;241;43m=\u001b[39;49m\u001b[38;5;28;43mself\u001b[39;49m\u001b[43m,\u001b[49m\u001b[43m \u001b[49m\u001b[43m_stacktrace\u001b[49m\u001b[38;5;241;43m=\u001b[39;49m\u001b[43msys\u001b[49m\u001b[38;5;241;43m.\u001b[39;49m\u001b[43mexc_info\u001b[49m\u001b[43m(\u001b[49m\u001b[43m)\u001b[49m\u001b[43m[\u001b[49m\u001b[38;5;241;43m2\u001b[39;49m\u001b[43m]\u001b[49m\n\u001b[1;32m    843\u001b[0m \u001b[43m\u001b[49m\u001b[43m)\u001b[49m\n\u001b[1;32m    844\u001b[0m retries\u001b[38;5;241m.\u001b[39msleep()\n",
      "File \u001b[0;32m~/miniconda3/envs/rag/lib/python3.13/site-packages/urllib3/util/retry.py:449\u001b[0m, in \u001b[0;36mRetry.increment\u001b[0;34m(self, method, url, response, error, _pool, _stacktrace)\u001b[0m\n\u001b[1;32m    447\u001b[0m \u001b[38;5;28;01mif\u001b[39;00m \u001b[38;5;28mself\u001b[39m\u001b[38;5;241m.\u001b[39mtotal \u001b[38;5;129;01mis\u001b[39;00m \u001b[38;5;28;01mFalse\u001b[39;00m \u001b[38;5;129;01mand\u001b[39;00m error:\n\u001b[1;32m    448\u001b[0m     \u001b[38;5;66;03m# Disabled, indicate to re-raise the error.\u001b[39;00m\n\u001b[0;32m--> 449\u001b[0m     \u001b[38;5;28;01mraise\u001b[39;00m \u001b[43mreraise\u001b[49m\u001b[43m(\u001b[49m\u001b[38;5;28;43mtype\u001b[39;49m\u001b[43m(\u001b[49m\u001b[43merror\u001b[49m\u001b[43m)\u001b[49m\u001b[43m,\u001b[49m\u001b[43m \u001b[49m\u001b[43merror\u001b[49m\u001b[43m,\u001b[49m\u001b[43m \u001b[49m\u001b[43m_stacktrace\u001b[49m\u001b[43m)\u001b[49m\n\u001b[1;32m    451\u001b[0m total \u001b[38;5;241m=\u001b[39m \u001b[38;5;28mself\u001b[39m\u001b[38;5;241m.\u001b[39mtotal\n",
      "File \u001b[0;32m~/miniconda3/envs/rag/lib/python3.13/site-packages/urllib3/util/util.py:39\u001b[0m, in \u001b[0;36mreraise\u001b[0;34m(tp, value, tb)\u001b[0m\n\u001b[1;32m     38\u001b[0m         \u001b[38;5;28;01mraise\u001b[39;00m value\u001b[38;5;241m.\u001b[39mwith_traceback(tb)\n\u001b[0;32m---> 39\u001b[0m     \u001b[38;5;28;01mraise\u001b[39;00m value\n\u001b[1;32m     40\u001b[0m \u001b[38;5;28;01mfinally\u001b[39;00m:\n",
      "File \u001b[0;32m~/miniconda3/envs/rag/lib/python3.13/site-packages/urllib3/connectionpool.py:787\u001b[0m, in \u001b[0;36mHTTPConnectionPool.urlopen\u001b[0;34m(self, method, url, body, headers, retries, redirect, assert_same_host, timeout, pool_timeout, release_conn, chunked, body_pos, preload_content, decode_content, **response_kw)\u001b[0m\n\u001b[1;32m    786\u001b[0m \u001b[38;5;66;03m# Make the request on the HTTPConnection object\u001b[39;00m\n\u001b[0;32m--> 787\u001b[0m response \u001b[38;5;241m=\u001b[39m \u001b[38;5;28;43mself\u001b[39;49m\u001b[38;5;241;43m.\u001b[39;49m\u001b[43m_make_request\u001b[49m\u001b[43m(\u001b[49m\n\u001b[1;32m    788\u001b[0m \u001b[43m    \u001b[49m\u001b[43mconn\u001b[49m\u001b[43m,\u001b[49m\n\u001b[1;32m    789\u001b[0m \u001b[43m    \u001b[49m\u001b[43mmethod\u001b[49m\u001b[43m,\u001b[49m\n\u001b[1;32m    790\u001b[0m \u001b[43m    \u001b[49m\u001b[43murl\u001b[49m\u001b[43m,\u001b[49m\n\u001b[1;32m    791\u001b[0m \u001b[43m    \u001b[49m\u001b[43mtimeout\u001b[49m\u001b[38;5;241;43m=\u001b[39;49m\u001b[43mtimeout_obj\u001b[49m\u001b[43m,\u001b[49m\n\u001b[1;32m    792\u001b[0m \u001b[43m    \u001b[49m\u001b[43mbody\u001b[49m\u001b[38;5;241;43m=\u001b[39;49m\u001b[43mbody\u001b[49m\u001b[43m,\u001b[49m\n\u001b[1;32m    793\u001b[0m \u001b[43m    \u001b[49m\u001b[43mheaders\u001b[49m\u001b[38;5;241;43m=\u001b[39;49m\u001b[43mheaders\u001b[49m\u001b[43m,\u001b[49m\n\u001b[1;32m    794\u001b[0m \u001b[43m    \u001b[49m\u001b[43mchunked\u001b[49m\u001b[38;5;241;43m=\u001b[39;49m\u001b[43mchunked\u001b[49m\u001b[43m,\u001b[49m\n\u001b[1;32m    795\u001b[0m \u001b[43m    \u001b[49m\u001b[43mretries\u001b[49m\u001b[38;5;241;43m=\u001b[39;49m\u001b[43mretries\u001b[49m\u001b[43m,\u001b[49m\n\u001b[1;32m    796\u001b[0m \u001b[43m    \u001b[49m\u001b[43mresponse_conn\u001b[49m\u001b[38;5;241;43m=\u001b[39;49m\u001b[43mresponse_conn\u001b[49m\u001b[43m,\u001b[49m\n\u001b[1;32m    797\u001b[0m \u001b[43m    \u001b[49m\u001b[43mpreload_content\u001b[49m\u001b[38;5;241;43m=\u001b[39;49m\u001b[43mpreload_content\u001b[49m\u001b[43m,\u001b[49m\n\u001b[1;32m    798\u001b[0m \u001b[43m    \u001b[49m\u001b[43mdecode_content\u001b[49m\u001b[38;5;241;43m=\u001b[39;49m\u001b[43mdecode_content\u001b[49m\u001b[43m,\u001b[49m\n\u001b[1;32m    799\u001b[0m \u001b[43m    \u001b[49m\u001b[38;5;241;43m*\u001b[39;49m\u001b[38;5;241;43m*\u001b[39;49m\u001b[43mresponse_kw\u001b[49m\u001b[43m,\u001b[49m\n\u001b[1;32m    800\u001b[0m \u001b[43m\u001b[49m\u001b[43m)\u001b[49m\n\u001b[1;32m    802\u001b[0m \u001b[38;5;66;03m# Everything went great!\u001b[39;00m\n",
      "File \u001b[0;32m~/miniconda3/envs/rag/lib/python3.13/site-packages/urllib3/connectionpool.py:536\u001b[0m, in \u001b[0;36mHTTPConnectionPool._make_request\u001b[0;34m(self, conn, method, url, body, headers, retries, timeout, chunked, response_conn, preload_content, decode_content, enforce_content_length)\u001b[0m\n\u001b[1;32m    535\u001b[0m \u001b[38;5;28;01mexcept\u001b[39;00m (BaseSSLError, \u001b[38;5;167;01mOSError\u001b[39;00m) \u001b[38;5;28;01mas\u001b[39;00m e:\n\u001b[0;32m--> 536\u001b[0m     \u001b[38;5;28;43mself\u001b[39;49m\u001b[38;5;241;43m.\u001b[39;49m\u001b[43m_raise_timeout\u001b[49m\u001b[43m(\u001b[49m\u001b[43merr\u001b[49m\u001b[38;5;241;43m=\u001b[39;49m\u001b[43me\u001b[49m\u001b[43m,\u001b[49m\u001b[43m \u001b[49m\u001b[43murl\u001b[49m\u001b[38;5;241;43m=\u001b[39;49m\u001b[43murl\u001b[49m\u001b[43m,\u001b[49m\u001b[43m \u001b[49m\u001b[43mtimeout_value\u001b[49m\u001b[38;5;241;43m=\u001b[39;49m\u001b[43mread_timeout\u001b[49m\u001b[43m)\u001b[49m\n\u001b[1;32m    537\u001b[0m     \u001b[38;5;28;01mraise\u001b[39;00m\n",
      "File \u001b[0;32m~/miniconda3/envs/rag/lib/python3.13/site-packages/urllib3/connectionpool.py:367\u001b[0m, in \u001b[0;36mHTTPConnectionPool._raise_timeout\u001b[0;34m(self, err, url, timeout_value)\u001b[0m\n\u001b[1;32m    366\u001b[0m \u001b[38;5;28;01mif\u001b[39;00m \u001b[38;5;28misinstance\u001b[39m(err, SocketTimeout):\n\u001b[0;32m--> 367\u001b[0m     \u001b[38;5;28;01mraise\u001b[39;00m ReadTimeoutError(\n\u001b[1;32m    368\u001b[0m         \u001b[38;5;28mself\u001b[39m, url, \u001b[38;5;124mf\u001b[39m\u001b[38;5;124m\"\u001b[39m\u001b[38;5;124mRead timed out. (read timeout=\u001b[39m\u001b[38;5;132;01m{\u001b[39;00mtimeout_value\u001b[38;5;132;01m}\u001b[39;00m\u001b[38;5;124m)\u001b[39m\u001b[38;5;124m\"\u001b[39m\n\u001b[1;32m    369\u001b[0m     ) \u001b[38;5;28;01mfrom\u001b[39;00m\u001b[38;5;250m \u001b[39m\u001b[38;5;21;01merr\u001b[39;00m\n\u001b[1;32m    371\u001b[0m \u001b[38;5;66;03m# See the above comment about EAGAIN in Python 3.\u001b[39;00m\n",
      "\u001b[0;31mReadTimeoutError\u001b[0m: HTTPSConnectionPool(host='localhost', port=9200): Read timed out. (read timeout=10)",
      "\nDuring handling of the above exception, another exception occurred:\n",
      "\u001b[0;31mConnectionTimeout\u001b[0m                         Traceback (most recent call last)",
      "Cell \u001b[0;32mIn[63], line 7\u001b[0m\n\u001b[1;32m      1\u001b[0m model_id \u001b[38;5;241m=\u001b[39m \u001b[38;5;124m'\u001b[39m\u001b[38;5;124mu5ZoEpUBPOHO5xCeyhP0\u001b[39m\u001b[38;5;124m'\u001b[39m\n\u001b[1;32m      2\u001b[0m payload \u001b[38;5;241m=\u001b[39m {\n\u001b[1;32m      3\u001b[0m     \u001b[38;5;124m\"\u001b[39m\u001b[38;5;124mquery_text\u001b[39m\u001b[38;5;124m\"\u001b[39m: query,\n\u001b[1;32m      4\u001b[0m     \u001b[38;5;124m\"\u001b[39m\u001b[38;5;124mtext_docs\u001b[39m\u001b[38;5;124m\"\u001b[39m: [\u001b[38;5;124m'\u001b[39m\u001b[38;5;124m제공된 표는 2023년 8월부터 12월까지의 아파트 매매 및 전세 거래량, 분양 및 입주 물량과 2023년과 2024년의 은행 가계 대출 변화를 보여줍니다. 아파트 매매 거래량은 전국적으로 8월에 4.3만 호에서 12월에 2.7만 호로 감소했습니다. 전세 거래량은 5.1만 호에서 4.1만 호로 비슷한 감소세를 보였습니다. 분양 물량은 1.7만 호에서 2.0만 호로 소폭 증가했고, 입주 물량은 3.2만 호에서 3.1만 호로 거의 변동이 없었습니다. 은행 가계 대출은 2023년에 감소했지만, 2024년에 다시 증가하는 추세를 보입니다. 주택담보대출은 2024년 1월에 1.7조원 증가하여 904.3조원의 잔액을 기록했습니다. 기타 대출은 감소세를 보였습니다.\u001b[39m\u001b[38;5;124m'\u001b[39m, \u001b[38;5;124m'\u001b[39m\u001b[38;5;124m표는 2024년 8월부터 2025년 1월까지의 은행 가계대출, 기업대출, 회사채 및 CP·단기사채 순발행액 변동 추이를 보여줍니다. 가계대출은 점차 감소하는 추세이며, 기업대출은 변동성이 큽니다. 2025년 1월말 잔액은 가계대출이 1,140.5조원, 기업대출이 1,322.9조원입니다.\u001b[39m\u001b[38;5;124m'\u001b[39m, \u001b[38;5;124m'\u001b[39m\u001b[38;5;124m가계대출\u001b[39m\u001b[38;5;130;01m\\n\u001b[39;00m\u001b[38;5;130;01m\\n\u001b[39;00m\u001b[38;5;124m1월 은행 가계대출은 전월에이어 소폭 감소 (24.12월-0.4조원→25.1월-0.5조원;24.1월+3.3조원)\u001b[39m\u001b[38;5;130;01m\\n\u001b[39;00m\u001b[38;5;130;01m\\n\u001b[39;00m\u001b[38;5;124m주택담보대출은 연초 은행들의 가계대출 취급이 재개되었으나 주택 거래 둔화 등으로 낮은 증가세 지속(+0.8조원→+1.7조원)\u001b[39m\u001b[38;5;130;01m\\n\u001b[39;00m\u001b[38;5;130;01m\\n\u001b[39;00m\u001b[38;5;124m※전세자금대출증감(조원):24.11월+0.1→12월–0.0→25.1월+0.4(24.1월–0.2)\u001b[39m\u001b[38;5;130;01m\\n\u001b[39;00m\u001b[38;5;130;01m\\n\u001b[39;00m\u001b[38;5;124m기타대출은 명절·성과상여금 유입 등으로 감소폭이 확대 (-1.1조원→-2.1조원)\u001b[39m\u001b[38;5;130;01m\\n\u001b[39;00m\u001b[38;5;130;01m\\n\u001b[39;00m\u001b[38;5;124m8월 9월 10월 11월 12월 25.1월 아파트매매거래량(전국, 만호)1) 4.3 3.0 3.8 3.1 2.7 .. 매매거래량(수도권, 만호)1) 2.2 1.3 1.5 1.2 1.0 .. 매매거래량(서울, 만호)1) 0.6 0.3 0.4 0.3 0.3 .. 전세거래량(전국, 〃) 5.1 4.3 5.2 4.4 4.1 .. 분양물량 (전국, 〃) 1.7 1.8 2.5 3.2 2.0 1.0 입주물량 (전국, 〃) 3.2 2.6 3.0 3.4 3.1 3.8\u001b[39m\u001b[38;5;130;01m\\n\u001b[39;00m\u001b[38;5;130;01m\\n\u001b[39;00m\u001b[38;5;124m주:1)계약일 기준(2.11일 조회 기준, 계약 해제 건 제외)\u001b[39m\u001b[38;5;130;01m\\n\u001b[39;00m\u001b[38;5;130;01m\\n\u001b[39;00m\u001b[38;5;124m자료:국토교통부, 부동산114\u001b[39m\u001b[38;5;130;01m\\n\u001b[39;00m\u001b[38;5;130;01m\\n\u001b[39;00m\u001b[38;5;124m은행 가계대출\u001b[39m\u001b[38;5;130;01m\\n\u001b[39;00m\u001b[38;5;130;01m\\n\u001b[39;00m\u001b[38;5;124m2023 연중 1월 2024 연중 1월 10월 11월 12월 1월 잔액 은행가계대출1) 36.9 -4.7 46.0 3.3 3.8 1.9 -0.4 -0.5 1,140.5 주택담보대출2) 51.6 0.0 52.1 4.9 3.6 1.5 0.8 1.7 904.3 기타대출3) -14.5 -4.6 -5.9 -1.5 0.3 0.4 -1.1 -2.1 235.3\u001b[39m\u001b[38;5;130;01m\\n\u001b[39;00m\u001b[38;5;130;01m\\n\u001b[39;00m\u001b[38;5;124m주:1)예금은행(은행신탁 포함) 기준, 종별대출은 신탁 제외\u001b[39m\u001b[38;5;130;01m\\n\u001b[39;00m\u001b[38;5;130;01m\\n\u001b[39;00m\u001b[38;5;124m2)전세자금대출, 이주비·중도금대출 등 주택담보로 취급되지 않은 주택 관련 대출을 포함\u001b[39m\u001b[38;5;130;01m\\n\u001b[39;00m\u001b[38;5;130;01m\\n\u001b[39;00m\u001b[38;5;124m한국주택금융공사 정책 모기지 양도분 및 이차보전 방식의 주택도시기금 정책 대출 포함\u001b[39m\u001b[38;5;130;01m\\n\u001b[39;00m\u001b[38;5;130;01m\\n\u001b[39;00m\u001b[38;5;124m3)일반신용대출, 신용한도대출(마이너스통장대출), 상업용부동산(상가·오피스텔 등) 담보 대출, 기타대출(예·적금담보대출, 주식담보대출 등) 등으로 구성\u001b[39m\u001b[38;5;124m'\u001b[39m, \u001b[38;5;124m'\u001b[39m\u001b[38;5;124m표는 2023년부터 2025년 1월까지의 은행 기업대출(원화), 회사채 순발행, CP·단기사채 순발행, 주식 발행액을 보여준다. 2023년 은행 기업대출은 77.4조 원이었고, 2024년 1월에는 7.9조 원 증가, 연중 67.4조 원 증가했다. 2025년 1월말 잔액은 1,322.9조 원이다. 회사채 순발행은 2023년에 -0.9조 원이었고, CP·단기사채 순발행은 -1.0조 원, 주식 발행은 11.0조 원이었다.\u001b[39m\u001b[38;5;124m'\u001b[39m, \u001b[38;5;124m'\u001b[39m\u001b[38;5;124m가계대출\u001b[39m\u001b[38;5;130;01m\\n\u001b[39;00m\u001b[38;5;130;01m\\n\u001b[39;00m\u001b[38;5;124m1월 은행 가계대출은 전월에이어 소폭 감소 (24.12월-0.4조원→25.1월-0.5조원;24.1월+3.3조원)\u001b[39m\u001b[38;5;130;01m\\n\u001b[39;00m\u001b[38;5;130;01m\\n\u001b[39;00m\u001b[38;5;124m주택담보대출은 연초 은행들의 가계대출 취급이 재개되었으나 주택 거래 둔화 등으로 낮은 증가세 지속(+0.8조원→+1.7조원)\u001b[39m\u001b[38;5;130;01m\\n\u001b[39;00m\u001b[38;5;130;01m\\n\u001b[39;00m\u001b[38;5;124m※전세자금대출증감(조원):24.11월+0.1→12월–0.0→25.1월+0.4(24.1월–0.2)\u001b[39m\u001b[38;5;130;01m\\n\u001b[39;00m\u001b[38;5;130;01m\\n\u001b[39;00m\u001b[38;5;124m기타대출은 명절·성과상여금 유입 등으로 감소폭이 확대 (-1.1조원→-2.1조원)\u001b[39m\u001b[38;5;130;01m\\n\u001b[39;00m\u001b[38;5;130;01m\\n\u001b[39;00m\u001b[38;5;124m8월 9월 10월 11월 12월 25.1월 아파트매매거래량(전국, 만호)1) 4.3 3.0 3.8 3.1 2.7 .. 매매거래량(수도권, 만호)1) 2.2 1.3 1.5 1.2 1.0 .. 매매거래량(서울, 만호)1) 0.6 0.3 0.4 0.3 0.3 .. 전세거래량(전국, 〃) 5.1 4.3 5.2 4.4 4.1 .. 분양물량 (전국, 〃) 1.7 1.8 2.5 3.2 2.0 1.0 입주물량 (전국, 〃) 3.2 2.6 3.0 3.4 3.1 3.8\u001b[39m\u001b[38;5;130;01m\\n\u001b[39;00m\u001b[38;5;130;01m\\n\u001b[39;00m\u001b[38;5;124m주:1)계약일 기준(2.11일 조회 기준, 계약 해제 건 제외)\u001b[39m\u001b[38;5;130;01m\\n\u001b[39;00m\u001b[38;5;130;01m\\n\u001b[39;00m\u001b[38;5;124m자료:국토교통부, 부동산114\u001b[39m\u001b[38;5;130;01m\\n\u001b[39;00m\u001b[38;5;130;01m\\n\u001b[39;00m\u001b[38;5;124m은행 가계대출\u001b[39m\u001b[38;5;130;01m\\n\u001b[39;00m\u001b[38;5;130;01m\\n\u001b[39;00m\u001b[38;5;124m2023 연중 1월 2024 연중 1월 10월 11월 12월 1월 잔액 은행가계대출1) 36.9 -4.7 46.0 3.3 3.8 1.9 -0.4 -0.5 1,140.5 주택담보대출2) 51.6 0.0 52.1 4.9 3.6 1.5 0.8 1.7 904.3 기타대출3) -14.5 -4.6 -5.9 -1.5 0.3 0.4 -1.1 -2.1 235.3\u001b[39m\u001b[38;5;130;01m\\n\u001b[39;00m\u001b[38;5;130;01m\\n\u001b[39;00m\u001b[38;5;124m주:1)예금은행(은행신탁 포함) 기준, 종별대출은 신탁 제외\u001b[39m\u001b[38;5;130;01m\\n\u001b[39;00m\u001b[38;5;130;01m\\n\u001b[39;00m\u001b[38;5;124m2)전세자금대출, 이주비·중도금대출 등 주택담보로 취급되지 않은 주택 관련 대출을 포함\u001b[39m\u001b[38;5;130;01m\\n\u001b[39;00m\u001b[38;5;130;01m\\n\u001b[39;00m\u001b[38;5;124m한국주택금융공사 정책 모기지 양도분 및 이차보전 방식의 주택도시기금 정책 대출 포함\u001b[39m\u001b[38;5;130;01m\\n\u001b[39;00m\u001b[38;5;130;01m\\n\u001b[39;00m\u001b[38;5;124m3)일반신용대출, 신용한도대출(마이너스통장대출), 상업용부동산(상가·오피스텔 등) 담보 대출, 기타대출(예·적금담보대출, 주식담보대출 등) 등으로 구성\u001b[39m\u001b[38;5;124m'\u001b[39m, \u001b[38;5;124m'\u001b[39m\u001b[38;5;124m2025년2월12일 공보 2025-02-03호\u001b[39m\u001b[38;5;130;01m\\n\u001b[39;00m\u001b[38;5;130;01m\\n\u001b[39;00m\u001b[38;5;124m이 주십시오. 단, 통신/방송/인터넷 매체는 자료는 2월 13일(목) 조간부터 취급하여 2월 12일(수) 12:00 이후부터 취급 가능\u001b[39m\u001b[38;5;130;01m\\n\u001b[39;00m\u001b[38;5;130;01m\\n\u001b[39;00m\u001b[38;5;124m제 목 : 2025년 1월중 금융시장동향\u001b[39m\u001b[38;5;130;01m\\n\u001b[39;00m\u001b[38;5;130;01m\\n\u001b[39;00m\u001b[38;5;124m국고채금리(3년)는 국내 경기 둔화 우려 등으로 하락하였다가 미 연준의 금리 인하지연 기대가 지속되면서 반등\u001b[39m\u001b[38;5;130;01m\\n\u001b[39;00m\u001b[38;5;130;01m\\n\u001b[39;00m\u001b[38;5;124m코스피는 연초 국내 주가 저평가 인식 부각 등으로 상당폭 반등하였으나 이후 미 신정부 관세 정책의 불확실성, 딥시크 관련 AI 투자 우려 등으로 추가 상승이 제한\u001b[39m\u001b[38;5;130;01m\\n\u001b[39;00m\u001b[38;5;130;01m\\n\u001b[39;00m\u001b[38;5;124m1월 은행 가계대출(24.12월-0.4조원→25.1월-0.5조원)은 전월에 이어 소폭 감소하였으며, 기업대출(-11.5조원 → +7.8조원)은 계절적 요인 등으로 증가 전환\u001b[39m\u001b[38;5;130;01m\\n\u001b[39;00m\u001b[38;5;130;01m\\n\u001b[39;00m\u001b[38;5;124m1월 금융권 수신은 은행(24.12월+16.5조원→25.1월–33.3조원)이 큰 폭 감소했으나 자산운용사(-23.3조원→+38.1조원)는 큰 폭 증가 전환\u001b[39m\u001b[38;5;130;01m\\n\u001b[39;00m\u001b[38;5;130;01m\\n\u001b[39;00m\u001b[38;5;124m※자세한 내용은 <붙임> 참조\u001b[39m\u001b[38;5;130;01m\\n\u001b[39;00m\u001b[38;5;130;01m\\n\u001b[39;00m\u001b[38;5;124m보도자료에 인용된 각종 수치는 통화정책 필요상 작성된 속보치이며 공식 통계치와 포괄 범위 등에서도 차이가 있으니 이용 시 유의하시기 바랍니다.\u001b[39m\u001b[38;5;130;01m\\n\u001b[39;00m\u001b[38;5;130;01m\\n\u001b[39;00m\u001b[38;5;124m문의처:\u001b[39m\u001b[38;5;130;01m\\n\u001b[39;00m\u001b[38;5;130;01m\\n\u001b[39;00m\u001b[38;5;124m금융시장국 시장총괄팀 차장 박민철 Tel : (02)759-4402\u001b[39m\u001b[38;5;130;01m\\n\u001b[39;00m\u001b[38;5;130;01m\\n\u001b[39;00m\u001b[38;5;124m과장 김민정 (02) 759-4516\u001b[39m\u001b[38;5;130;01m\\n\u001b[39;00m\u001b[38;5;130;01m\\n\u001b[39;00m\u001b[38;5;124m공보관:\u001b[39m\u001b[38;5;130;01m\\n\u001b[39;00m\u001b[38;5;130;01m\\n\u001b[39;00m\u001b[38;5;124mTel (02)759-4028, 4016\u001b[39m\u001b[38;5;130;01m\\n\u001b[39;00m\u001b[38;5;130;01m\\n\u001b[39;00m\u001b[38;5;124m“한국은행 보도자료는 인터넷(http://www.bok.or.kr)에도 수록되어 있습니다.”\u001b[39m\u001b[38;5;130;01m\\n\u001b[39;00m\u001b[38;5;130;01m\\n\u001b[39;00m\u001b[38;5;124m8328\u001b[39m\u001b[38;5;130;01m\\n\u001b[39;00m\u001b[38;5;130;01m\\n\u001b[39;00m\u001b[38;5;124mBANK OF KOREA\u001b[39m\u001b[38;5;124m'\u001b[39m, \u001b[38;5;124m'\u001b[39m\u001b[38;5;124m2025년2월12일 공보 2025-02-03호\u001b[39m\u001b[38;5;130;01m\\n\u001b[39;00m\u001b[38;5;130;01m\\n\u001b[39;00m\u001b[38;5;124m이 주십시오. 단, 통신/방송/인터넷 매체는 자료는 2월 13일(목) 조간부터 취급하여 2월 12일(수) 12:00 이후부터 취급 가능\u001b[39m\u001b[38;5;130;01m\\n\u001b[39;00m\u001b[38;5;130;01m\\n\u001b[39;00m\u001b[38;5;124m제 목 : 2025년 1월중 금융시장동향\u001b[39m\u001b[38;5;130;01m\\n\u001b[39;00m\u001b[38;5;130;01m\\n\u001b[39;00m\u001b[38;5;124m국고채금리(3년)는 국내 경기 둔화 우려 등으로 하락하였다가 미 연준의 금리 인하지연 기대가 지속되면서 반등\u001b[39m\u001b[38;5;130;01m\\n\u001b[39;00m\u001b[38;5;130;01m\\n\u001b[39;00m\u001b[38;5;124m코스피는 연초 국내 주가 저평가 인식 부각 등으로 상당폭 반등하였으나 이후 미 신정부 관세 정책의 불확실성, 딥시크 관련 AI 투자 우려 등으로 추가 상승이 제한\u001b[39m\u001b[38;5;130;01m\\n\u001b[39;00m\u001b[38;5;130;01m\\n\u001b[39;00m\u001b[38;5;124m1월 은행 가계대출(24.12월-0.4조원→25.1월-0.5조원)은 전월에 이어 소폭 감소하였으며, 기업대출(-11.5조원 → +7.8조원)은 계절적 요인 등으로 증가 전환\u001b[39m\u001b[38;5;130;01m\\n\u001b[39;00m\u001b[38;5;130;01m\\n\u001b[39;00m\u001b[38;5;124m1월 금융권 수신은 은행(24.12월+16.5조원→25.1월–33.3조원)이 큰 폭 감소했으나 자산운용사(-23.3조원→+38.1조원)는 큰 폭 증가 전환\u001b[39m\u001b[38;5;130;01m\\n\u001b[39;00m\u001b[38;5;130;01m\\n\u001b[39;00m\u001b[38;5;124m※자세한 내용은 <붙임> 참조\u001b[39m\u001b[38;5;130;01m\\n\u001b[39;00m\u001b[38;5;130;01m\\n\u001b[39;00m\u001b[38;5;124m보도자료에 인용된 각종 수치는 통화정책 필요상 작성된 속보치이며 공식 통계치와 포괄 범위 등에서도 차이가 있으니 이용 시 유의하시기 바랍니다.\u001b[39m\u001b[38;5;130;01m\\n\u001b[39;00m\u001b[38;5;130;01m\\n\u001b[39;00m\u001b[38;5;124m문의처:\u001b[39m\u001b[38;5;130;01m\\n\u001b[39;00m\u001b[38;5;130;01m\\n\u001b[39;00m\u001b[38;5;124m금융시장국 시장총괄팀 차장 박민철 Tel : (02)759-4402\u001b[39m\u001b[38;5;130;01m\\n\u001b[39;00m\u001b[38;5;130;01m\\n\u001b[39;00m\u001b[38;5;124m과장 김민정 (02) 759-4516\u001b[39m\u001b[38;5;130;01m\\n\u001b[39;00m\u001b[38;5;130;01m\\n\u001b[39;00m\u001b[38;5;124m공보관:\u001b[39m\u001b[38;5;130;01m\\n\u001b[39;00m\u001b[38;5;130;01m\\n\u001b[39;00m\u001b[38;5;124mTel (02)759-4028, 4016\u001b[39m\u001b[38;5;130;01m\\n\u001b[39;00m\u001b[38;5;130;01m\\n\u001b[39;00m\u001b[38;5;124m“한국은행 보도자료는 인터넷(http://www.bok.or.kr)에도 수록되어 있습니다.”\u001b[39m\u001b[38;5;130;01m\\n\u001b[39;00m\u001b[38;5;130;01m\\n\u001b[39;00m\u001b[38;5;124m8328\u001b[39m\u001b[38;5;130;01m\\n\u001b[39;00m\u001b[38;5;130;01m\\n\u001b[39;00m\u001b[38;5;124mBANK OF KOREA\u001b[39m\u001b[38;5;124m'\u001b[39m, \u001b[38;5;124m'\u001b[39m\u001b[38;5;124m표는 은행과 자산운용사의 2023년 및 2024년 1월 자금 흐름과 잔액을 보여줍니다. 은행은 수시입출식, 정기예금, CD, 은행채 등으로 구분되며, 자산운용사는 MMF 및 법인 자금(채권형, 주식형, 혼합형, 기타펀드)으로 나뉩니다. 각 항목별로 2023년 연중, 1월, 10월, 11월, 12월, 2024년 1월의 자금 흐름과 잔액이 표시되어 있습니다.\u001b[39m\u001b[38;5;124m'\u001b[39m, \u001b[38;5;124m'\u001b[39m\u001b[38;5;124m기업 자금조달\u001b[39m\u001b[38;5;130;01m\\n\u001b[39;00m\u001b[38;5;130;01m\\n\u001b[39;00m\u001b[38;5;124m□ 1월 은행 기업대출은 계절적요인 등으로 증가 전환 (24.12월-11.5조원→25.1월+7.8조원;24.1월+6.7조원)\u001b[39m\u001b[38;5;130;01m\\n\u001b[39;00m\u001b[38;5;130;01m\\n\u001b[39;00m\u001b[38;5;124m대기업대출(-4.3조원→+6.1조원)은 연말 재무비율 관리를 위해 일시 상환되었던 한도대출 재취급, 설 명절 자금수요 등으로 상당폭 증가\u001b[39m\u001b[38;5;130;01m\\n\u001b[39;00m\u001b[38;5;130;01m\\n\u001b[39;00m\u001b[38;5;124m중소기업대출(-7.1조원→+1.8조원)은 부가가치세 납부 및 명절 상여금 지급을 위한 자금수요 등으로 증가 전환\u001b[39m\u001b[38;5;130;01m\\n\u001b[39;00m\u001b[38;5;130;01m\\n\u001b[39;00m\u001b[38;5;124m□ 회사채는 연초 기관들의 자금운용 재개 등으로 순발행 규모 확대 (24.12월+0.3조원→25.1월+1.8조원;24.1월+4.5조원)\u001b[39m\u001b[38;5;130;01m\\n\u001b[39;00m\u001b[38;5;130;01m\\n\u001b[39;00m\u001b[38;5;124mCP·단기사채(-4.4조원 → +9.1조원)는 연말 일시 상환분 재발행, 일부 대기업의 운전자금수요 확대 등으로 큰 폭 순발행\u001b[39m\u001b[38;5;130;01m\\n\u001b[39;00m\u001b[38;5;130;01m\\n\u001b[39;00m\u001b[38;5;124m기업 자금조달 (기간중 잔액 증감, 조원)\u001b[39m\u001b[38;5;130;01m\\n\u001b[39;00m\u001b[38;5;130;01m\\n\u001b[39;00m\u001b[38;5;124m2023 연중 2024 2025 25.1월말 잔액 1월 연중 1월 10월 11월 12월 1월 잔액 ￭ 은행기업대출(원화)1) 77.4 7.9 67.4 6.7 8.1 2.2 -11.5 7.8 1,322.9 (대기업) 31.9 6.6 26.7 5.2 2.9 0.2 -4.3 6.1 280.6 (중소기업) 45.5 1.3 40.6 1.5 5.3 2.0 -7.1 1.8 1,042.3 <중소법인> 38.0 2.2 35.5 2.2 4.9 1.5 -5.8 2.1 587.2 <개인사업자> 7.5 -0.9 5.1 -0.7 0.3 0.4 -1.3 -0.3 455.1 ￭ 회사채 순발행2) -0.9 3.2 0.7 4.5 0.6 0.7 0.3 1.8 - ￭ CP·단기사채 순발행3) -1.0 6.9 -1.9 6.6 -1.5 -0.6 -4.4 9.1 62.7 ￭ 주식 발행4) 11.0 1.5 7.5 0.3 0.8 0.4 0.5 1.3 -\u001b[39m\u001b[38;5;130;01m\\n\u001b[39;00m\u001b[38;5;130;01m\\n\u001b[39;00m\u001b[38;5;124m주: 1) 예금은행(은행신탁 포함) 기준, 금융업 대출 및 일부 정책자금 대출(농축수산자금) 제외\u001b[39m\u001b[38;5;130;01m\\n\u001b[39;00m\u001b[38;5;130;01m\\n\u001b[39;00m\u001b[38;5;124m2) 공모회사채 기준(ABS 제외, P-CBO 포함)\u001b[39m\u001b[38;5;130;01m\\n\u001b[39;00m\u001b[38;5;130;01m\\n\u001b[39;00m\u001b[38;5;124m3) 일반기업 기준\u001b[39m\u001b[38;5;130;01m\\n\u001b[39;00m\u001b[38;5;130;01m\\n\u001b[39;00m\u001b[38;5;124m4) 유가증권시장 및 코스닥시장 합계\u001b[39m\u001b[38;5;124m'\u001b[39m, \u001b[38;5;124m'\u001b[39m\u001b[38;5;124m은행 가계대출 및 기업 자금조달 (기간중잔액 증감, 조원)\u001b[39m\u001b[38;5;130;01m\\n\u001b[39;00m\u001b[38;5;130;01m\\n\u001b[39;00m\u001b[38;5;124m항목 24.8월 9월 10월 11월 12월 25.1월 25.1월말 잔액 은행가계대출1) 9.2 5.6 3.8 1.9 -0.4 -0.5 1,140.5 주택담보대출2) 8.2 6.1 3.6 1.5 0.8 1.7 904.3 기타대출3) 1.1 -0.5 0.3 0.4 -1.1 -2.1 235.3 은행기업대출1) 7.2 4.3 8.1 2.2 -11.5 7.8 1,322.9 대기업 1.9 0.8 2.9 0.2 -4.3 6.1 280.6 중소기업 5.3 3.5 5.3 2.0 -7.1 1.8 1,042.3 <중소법인> 4.5 3.3 4.9 1.5 -5.8 2.1 587.2 <개인사업자> 0.8 0.3 0.3 0.4 -1.3 -0.3 455.1 회사채 순발행4) -0.5 -1.3 0.6 0.7 0.3 1.8 - CP·단기사채순발행5) -1.1 1.1 -1.5 -0.6 -4.4 9.1 62.7\u001b[39m\u001b[38;5;130;01m\\n\u001b[39;00m\u001b[38;5;130;01m\\n\u001b[39;00m\u001b[38;5;124m주: 1) 예금은행(은행신탁포함) 기준, 종별대출은 신탁 제외\u001b[39m\u001b[38;5;130;01m\\n\u001b[39;00m\u001b[38;5;130;01m\\n\u001b[39;00m\u001b[38;5;124m2) 전세자금대출, 이주비·중도금대출 등 주택담보로 취급되지 않은 주택관련대출을 포함. 한국주택금융공사 정책모기지 양도분 및 이차보전 방식의 주택도시기금 정책대출 포함\u001b[39m\u001b[38;5;130;01m\\n\u001b[39;00m\u001b[38;5;130;01m\\n\u001b[39;00m\u001b[38;5;124m3) 일반신용대출, 신용한도대출(마이너스통장대출), 상업용부동산(상가·오피스텔 등) 담보대출, 기타대출(예·적금담보대출, 주식담보대출 등) 등으로 구성\u001b[39m\u001b[38;5;130;01m\\n\u001b[39;00m\u001b[38;5;130;01m\\n\u001b[39;00m\u001b[38;5;124m4) 공모회사채 기준(ABS 제외, P-CBO 포함)\u001b[39m\u001b[38;5;130;01m\\n\u001b[39;00m\u001b[38;5;130;01m\\n\u001b[39;00m\u001b[38;5;124m5) 일반기업 기준\u001b[39m\u001b[38;5;124m'\u001b[39m, \u001b[38;5;124m'\u001b[39m\u001b[38;5;124m기업 자금조달\u001b[39m\u001b[38;5;130;01m\\n\u001b[39;00m\u001b[38;5;130;01m\\n\u001b[39;00m\u001b[38;5;124m□ 1월 은행 기업대출은 계절적요인 등으로 증가 전환 (24.12월-11.5조원→25.1월+7.8조원;24.1월+6.7조원)\u001b[39m\u001b[38;5;130;01m\\n\u001b[39;00m\u001b[38;5;130;01m\\n\u001b[39;00m\u001b[38;5;124m대기업대출(-4.3조원→+6.1조원)은 연말 재무비율 관리를 위해 일시 상환되었던 한도대출 재취급, 설 명절 자금수요 등으로 상당폭 증가\u001b[39m\u001b[38;5;130;01m\\n\u001b[39;00m\u001b[38;5;130;01m\\n\u001b[39;00m\u001b[38;5;124m중소기업대출(-7.1조원→+1.8조원)은 부가가치세 납부 및 명절 상여금 지급을 위한 자금수요 등으로 증가 전환\u001b[39m\u001b[38;5;130;01m\\n\u001b[39;00m\u001b[38;5;130;01m\\n\u001b[39;00m\u001b[38;5;124m□ 회사채는 연초 기관들의 자금운용 재개 등으로 순발행 규모 확대 (24.12월+0.3조원→25.1월+1.8조원;24.1월+4.5조원)\u001b[39m\u001b[38;5;130;01m\\n\u001b[39;00m\u001b[38;5;130;01m\\n\u001b[39;00m\u001b[38;5;124mCP·단기사채(-4.4조원 → +9.1조원)는 연말 일시 상환분 재발행, 일부 대기업의 운전자금수요 확대 등으로 큰 폭 순발행\u001b[39m\u001b[38;5;130;01m\\n\u001b[39;00m\u001b[38;5;130;01m\\n\u001b[39;00m\u001b[38;5;124m기업 자금조달 (기간중 잔액 증감, 조원)\u001b[39m\u001b[38;5;130;01m\\n\u001b[39;00m\u001b[38;5;130;01m\\n\u001b[39;00m\u001b[38;5;124m2023 연중 2024 2025 25.1월말 잔액 1월 연중 1월 10월 11월 12월 1월 잔액 ￭ 은행기업대출(원화)1) 77.4 7.9 67.4 6.7 8.1 2.2 -11.5 7.8 1,322.9 (대기업) 31.9 6.6 26.7 5.2 2.9 0.2 -4.3 6.1 280.6 (중소기업) 45.5 1.3 40.6 1.5 5.3 2.0 -7.1 1.8 1,042.3 <중소법인> 38.0 2.2 35.5 2.2 4.9 1.5 -5.8 2.1 587.2 <개인사업자> 7.5 -0.9 5.1 -0.7 0.3 0.4 -1.3 -0.3 455.1 ￭ 회사채 순발행2) -0.9 3.2 0.7 4.5 0.6 0.7 0.3 1.8 - ￭ CP·단기사채 순발행3) -1.0 6.9 -1.9 6.6 -1.5 -0.6 -4.4 9.1 62.7 ￭ 주식 발행4) 11.0 1.5 7.5 0.3 0.8 0.4 0.5 1.3 -\u001b[39m\u001b[38;5;130;01m\\n\u001b[39;00m\u001b[38;5;130;01m\\n\u001b[39;00m\u001b[38;5;124m주: 1) 예금은행(은행신탁 포함) 기준, 금융업 대출 및 일부 정책자금 대출(농축수산자금) 제외\u001b[39m\u001b[38;5;130;01m\\n\u001b[39;00m\u001b[38;5;130;01m\\n\u001b[39;00m\u001b[38;5;124m2) 공모회사채 기준(ABS 제외, P-CBO 포함)\u001b[39m\u001b[38;5;130;01m\\n\u001b[39;00m\u001b[38;5;130;01m\\n\u001b[39;00m\u001b[38;5;124m3) 일반기업 기준\u001b[39m\u001b[38;5;130;01m\\n\u001b[39;00m\u001b[38;5;130;01m\\n\u001b[39;00m\u001b[38;5;124m4) 유가증권시장 및 코스닥시장 합계\u001b[39m\u001b[38;5;124m'\u001b[39m, \u001b[38;5;124m'\u001b[39m\u001b[38;5;124m은행 가계대출 및 기업 자금조달 (기간중잔액 증감, 조원)\u001b[39m\u001b[38;5;130;01m\\n\u001b[39;00m\u001b[38;5;130;01m\\n\u001b[39;00m\u001b[38;5;124m항목 24.8월 9월 10월 11월 12월 25.1월 25.1월말 잔액 은행가계대출1) 9.2 5.6 3.8 1.9 -0.4 -0.5 1,140.5 주택담보대출2) 8.2 6.1 3.6 1.5 0.8 1.7 904.3 기타대출3) 1.1 -0.5 0.3 0.4 -1.1 -2.1 235.3 은행기업대출1) 7.2 4.3 8.1 2.2 -11.5 7.8 1,322.9 대기업 1.9 0.8 2.9 0.2 -4.3 6.1 280.6 중소기업 5.3 3.5 5.3 2.0 -7.1 1.8 1,042.3 <중소법인> 4.5 3.3 4.9 1.5 -5.8 2.1 587.2 <개인사업자> 0.8 0.3 0.3 0.4 -1.3 -0.3 455.1 회사채 순발행4) -0.5 -1.3 0.6 0.7 0.3 1.8 - CP·단기사채순발행5) -1.1 1.1 -1.5 -0.6 -4.4 9.1 62.7\u001b[39m\u001b[38;5;130;01m\\n\u001b[39;00m\u001b[38;5;130;01m\\n\u001b[39;00m\u001b[38;5;124m주: 1) 예금은행(은행신탁포함) 기준, 종별대출은 신탁 제외\u001b[39m\u001b[38;5;130;01m\\n\u001b[39;00m\u001b[38;5;130;01m\\n\u001b[39;00m\u001b[38;5;124m2) 전세자금대출, 이주비·중도금대출 등 주택담보로 취급되지 않은 주택관련대출을 포함. 한국주택금융공사 정책모기지 양도분 및 이차보전 방식의 주택도시기금 정책대출 포함\u001b[39m\u001b[38;5;130;01m\\n\u001b[39;00m\u001b[38;5;130;01m\\n\u001b[39;00m\u001b[38;5;124m3) 일반신용대출, 신용한도대출(마이너스통장대출), 상업용부동산(상가·오피스텔 등) 담보대출, 기타대출(예·적금담보대출, 주식담보대출 등) 등으로 구성\u001b[39m\u001b[38;5;130;01m\\n\u001b[39;00m\u001b[38;5;130;01m\\n\u001b[39;00m\u001b[38;5;124m4) 공모회사채 기준(ABS 제외, P-CBO 포함)\u001b[39m\u001b[38;5;130;01m\\n\u001b[39;00m\u001b[38;5;130;01m\\n\u001b[39;00m\u001b[38;5;124m5) 일반기업 기준\u001b[39m\u001b[38;5;124m'\u001b[39m, \u001b[38;5;124m'\u001b[39m\u001b[38;5;124m자금흐름\u001b[39m\u001b[38;5;130;01m\\n\u001b[39;00m\u001b[38;5;130;01m\\n\u001b[39;00m\u001b[38;5;124m□ 1월 은행 수신은 수시입출식예금을 중심으로 큰 폭 감소 (24.12월+16.5조원→ 25.1월 -33.3조원)\u001b[39m\u001b[38;5;130;01m\\n\u001b[39;00m\u001b[38;5;130;01m\\n\u001b[39;00m\u001b[38;5;124mo 수시입출식예금은 연말 재무비율 관리를 위해 일시 유입된 자금 유출, 부가세 납부 수요 등으로 법인자금을 중심으로 큰 폭 감소 (+43.5조원 → -32.3조원)\u001b[39m\u001b[38;5;130;01m\\n\u001b[39;00m\u001b[38;5;130;01m\\n\u001b[39;00m\u001b[38;5;124mo 정기예금은 대출 증가세 둔화 등으로 은행의 자금조달 유인이 낮아지면서 소폭 감소 (-21.0조원 → -2.4조원)\u001b[39m\u001b[38;5;130;01m\\n\u001b[39;00m\u001b[38;5;130;01m\\n\u001b[39;00m\u001b[38;5;124m□ 자산운용사 수신은 MMF, 채권형펀드를 중심으로 큰 폭 증가 전환 (24.12월 -23.3조원→ 25.1월 +38.1조원)\u001b[39m\u001b[38;5;130;01m\\n\u001b[39;00m\u001b[38;5;130;01m\\n\u001b[39;00m\u001b[38;5;124mo MMF는 연말 자본비율 관리 등을 위해 인출되었던 자금이 유입되면서 상당폭 증가 (-28.7조원 → +19.9조원)\u001b[39m\u001b[38;5;130;01m\\n\u001b[39;00m\u001b[38;5;130;01m\\n\u001b[39;00m\u001b[38;5;124mo 채권형펀드 (-8.7조원 → +8.6조원)는 큰 폭 유입으로 전환되었으며, 주식형펀드 (+5.3조원 → +5.4조원) 및 기타펀드 (+9.2조원 → +3.4조원)도 증가세 지속\u001b[39m\u001b[38;5;130;01m\\n\u001b[39;00m\u001b[38;5;130;01m\\n\u001b[39;00m\u001b[38;5;124m주요 금융기관 수신 (기간중 잔액증감, 조원)\u001b[39m\u001b[38;5;130;01m\\n\u001b[39;00m\u001b[38;5;130;01m\\n\u001b[39;00m\u001b[38;5;124m2023 연중 1월 2024 1월 잔액 1월 연중 1월 10월 11월 12월 1월 은행1) 76.4 -48.4 111.7 -28.8 8.4 18.9 16.5 -33.3 2,401.3 (수시입출식2)) -0.7 -59.5 34.1 -55.2 -12.5 5.9 43.5 -32.3 900.3 (정기예금) 24.8 -0.9 71.5 16.6 14.4 8.0 -21.0 -2.4 1,038.1 (C D) 25.4 2.4 -10.8 -2.3 -2.3 -0.9 0.3 -1.4 59.1 (은행채) 14.3 1.9 19.3 0.5 7.5 5.1 -6.0 2.2 334.9 자산운용사3) 93.7 50.4 117.2 36.2 29.6 8.7 -23.3 38.1 1,080.1 (MMF) 18.3 39.0 -2.9 26.1 17.5 1.9 -28.7 19.9 186.9 <법 인> 16.7 39.2 -5.8 25.5 17.6 1.4 -29.1 19.6 168.4 (채권형) 16.5 0.9 32.7 5.0 5.6 2.0 -8.7 8.6 177.8 (주식형) 12.1 4.1 22.3 -0.1 1.3 0.2 5.3 5.4 131.1 (혼합형) -3.7 -0.6 4.9 0.6 0.3 0.1 -0.5 0.8 29.5 (기타펀드4)) 50.5 6.9 60.1 4.7 4.8 4.5 9.2 3.4 554.8\u001b[39m\u001b[38;5;130;01m\\n\u001b[39;00m\u001b[38;5;130;01m\\n\u001b[39;00m\u001b[38;5;124m주: 1) 은행･중앙정부･비거주자예금제외 2) 실세요구불예금포함 3) 증권사사모펀드포함 4) 파생상품‧부동산‧재간접‧특별자산‧혼합자산펀드\u001b[39m\u001b[38;5;124m'\u001b[39m, \u001b[38;5;124m'\u001b[39m\u001b[38;5;124mo MMF는 연말 자본비율 관리 등을 위해 인출되었던 자금이 유입되면서 상당폭 증가 (-28.7조원 → +19.9조원)\u001b[39m\u001b[38;5;130;01m\\n\u001b[39;00m\u001b[38;5;130;01m\\n\u001b[39;00m\u001b[38;5;124mo 채권형펀드 (-8.7조원 → +8.6조원)는 큰 폭 유입으로 전환되었으며, 주식형펀드 (+5.3조원 → +5.4조원) 및 기타펀드 (+9.2조원 → +3.4조원)도 증가세 지속\u001b[39m\u001b[38;5;130;01m\\n\u001b[39;00m\u001b[38;5;130;01m\\n\u001b[39;00m\u001b[38;5;124m주요 금융기관 수신 (기간중 잔액증감, 조원)\u001b[39m\u001b[38;5;130;01m\\n\u001b[39;00m\u001b[38;5;130;01m\\n\u001b[39;00m\u001b[38;5;124m2023 연중 1월 2024 1월 잔액 1월 연중 1월 10월 11월 12월 1월 은행1) 76.4 -48.4 111.7 -28.8 8.4 18.9 16.5 -33.3 2,401.3 (수시입출식2)) -0.7 -59.5 34.1 -55.2 -12.5 5.9 43.5 -32.3 900.3 (정기예금) 24.8 -0.9 71.5 16.6 14.4 8.0 -21.0 -2.4 1,038.1 (C D) 25.4 2.4 -10.8 -2.3 -2.3 -0.9 0.3 -1.4 59.1 (은행채) 14.3 1.9 19.3 0.5 7.5 5.1 -6.0 2.2 334.9 자산운용사3) 93.7 50.4 117.2 36.2 29.6 8.7 -23.3 38.1 1,080.1 (MMF) 18.3 39.0 -2.9 26.1 17.5 1.9 -28.7 19.9 186.9 <법 인> 16.7 39.2 -5.8 25.5 17.6 1.4 -29.1 19.6 168.4 (채권형) 16.5 0.9 32.7 5.0 5.6 2.0 -8.7 8.6 177.8 (주식형) 12.1 4.1 22.3 -0.1 1.3 0.2 5.3 5.4 131.1 (혼합형) -3.7 -0.6 4.9 0.6 0.3 0.1 -0.5 0.8 29.5 (기타펀드4)) 50.5 6.9 60.1 4.7 4.8 4.5 9.2 3.4 554.8\u001b[39m\u001b[38;5;130;01m\\n\u001b[39;00m\u001b[38;5;130;01m\\n\u001b[39;00m\u001b[38;5;124m주: 1) 은행･중앙정부･비거주자예금제외 2) 실세요구불예금포함 3) 증권사사모펀드포함 4) 파생상품‧부동산‧재간접‧특별자산‧혼합자산펀드\u001b[39m\u001b[38;5;124m'\u001b[39m, \u001b[38;5;124m'\u001b[39m\u001b[38;5;124m제공된 표는 다양한 금융 기관의 월별 자금 흐름과 특정 시점의 잔액을 보여줍니다. 은행 계정은 24년 8월부터 25년 1월까지 변동성을 보이며, 25년 1월 말 잔액은 2,401.3입니다. 자산운용사, 은행신탁, 종금사, 우체국예금, 증권사투자자예탁금 또한 월별 자금 흐름에 변동이 있으며, 각기 다른 잔액을 기록했습니다.\u001b[39m\u001b[38;5;124m'\u001b[39m, \u001b[38;5;124m'\u001b[39m\u001b[38;5;124m금리 및 주가\u001b[39m\u001b[38;5;130;01m\\n\u001b[39;00m\u001b[38;5;130;01m\\n\u001b[39;00m\u001b[38;5;124m국고채금리(3년)는 국내 경기둔화 우려 등으로 하락하였다가 미 연준의 금리인하 지연 기대가 지속되면서 반등\u001b[39m\u001b[38;5;130;01m\\n\u001b[39;00m\u001b[38;5;130;01m\\n\u001b[39;00m\u001b[38;5;124m주요 단기시장금리는 기준금리 인하 기대 강화, 연초 기관들의 자금 집행 등으로 상당폭 하락\u001b[39m\u001b[38;5;130;01m\\n\u001b[39;00m\u001b[38;5;130;01m\\n\u001b[39;00m\u001b[38;5;124m코스피는 연초 국내 주가 저평가 인식 부각 등으로 상당폭 반등하였으나 이후 미 신정부 관세정책의 불확실성, 딥시크 관련 AI 과잉 투자 우려 등으로 추가 상승이 제한\u001b[39m\u001b[38;5;130;01m\\n\u001b[39;00m\u001b[38;5;130;01m\\n\u001b[39;00m\u001b[38;5;124m시장금리 및 주가 (기말기준, \u001b[39m\u001b[38;5;124m%\u001b[39m\u001b[38;5;124m, \u001b[39m\u001b[38;5;124m%\u001b[39m\u001b[38;5;124mp)\u001b[39m\u001b[38;5;130;01m\\n\u001b[39;00m\u001b[38;5;130;01m\\n\u001b[39;00m\u001b[38;5;124m|항목|기준일|기준일|기준일|기준일|기준일|기준일|B-A| | | | | | |---|---|---|---|---|---|---|---| | |22.12월|23.12월|24.11월|24.12월|25.1월|25.2.11일| | |국고채(3년)|3.72|3.15|2.61|2.60|2.57|2.63|0.03| |국고채(10년)|3.73|3.18|2.75|2.86|2.86|2.85|-0.01| |미국채(10년)|3.87|3.88|4.17|4.57|4.54|4.50|-0.07| |회사채(3년,AA-)|5.20|3.89|3.20|3.28|3.17|3.22|-0.06| |회사채(3년,A-)|6.19|5.27|4.21|4.28|4.20|4.26|-0.02| |회사채(3년,BBB+)|8.73|7.92|6.58|6.64|6.54|6.59|-0.05| |통안증권(91일)|3.53|3.46|2.98|2.96|2.86|2.86|-0.10| |은행채(3개월)|4.05|3.87|3.26|3.34|3.03|2.99|-0.35| |CD(91일)|3.98|3.83|3.29|3.39|3.03|2.99|-0.40| |CP(A1, 91일)|5.28|4.32|3.39|3.58|3.25|3.25|-0.33| |KOFR(익일물)|3.17|3.67|3.25|3.06|3.09|3.03|-0.03| |코스피|2,236|2,655|2,456|2,399|2,517|2,539|140| |코스닥|679|867|678|678|728|750|72|\u001b[39m\u001b[38;5;130;01m\\n\u001b[39;00m\u001b[38;5;130;01m\\n\u001b[39;00m\u001b[38;5;124m주: 1) 민간채권평가사 4사 평균\u001b[39m\u001b[38;5;130;01m\\n\u001b[39;00m\u001b[38;5;130;01m\\n\u001b[39;00m\u001b[38;5;124m2) 2.10일 기준\u001b[39m\u001b[38;5;130;01m\\n\u001b[39;00m\u001b[38;5;130;01m\\n\u001b[39;00m\u001b[38;5;124m3) KOFR(Korea Overnight Financing Repo Rate), 기간중 평균 (25.2월은 1~10일 기준)\u001b[39m\u001b[38;5;124m'\u001b[39m, \u001b[38;5;124m'\u001b[39m\u001b[38;5;124m자금흐름\u001b[39m\u001b[38;5;130;01m\\n\u001b[39;00m\u001b[38;5;130;01m\\n\u001b[39;00m\u001b[38;5;124m□ 1월 은행 수신은 수시입출식예금을 중심으로 큰 폭 감소 (24.12월+16.5조원→ 25.1월 -33.3조원)\u001b[39m\u001b[38;5;130;01m\\n\u001b[39;00m\u001b[38;5;130;01m\\n\u001b[39;00m\u001b[38;5;124mo 수시입출식예금은 연말 재무비율 관리를 위해 일시 유입된 자금 유출, 부가세 납부 수요 등으로 법인자금을 중심으로 큰 폭 감소 (+43.5조원 → -32.3조원)\u001b[39m\u001b[38;5;130;01m\\n\u001b[39;00m\u001b[38;5;130;01m\\n\u001b[39;00m\u001b[38;5;124mo 정기예금은 대출 증가세 둔화 등으로 은행의 자금조달 유인이 낮아지면서 소폭 감소 (-21.0조원 → -2.4조원)\u001b[39m\u001b[38;5;130;01m\\n\u001b[39;00m\u001b[38;5;130;01m\\n\u001b[39;00m\u001b[38;5;124m□ 자산운용사 수신은 MMF, 채권형펀드를 중심으로 큰 폭 증가 전환 (24.12월 -23.3조원→ 25.1월 +38.1조원)\u001b[39m\u001b[38;5;130;01m\\n\u001b[39;00m\u001b[38;5;130;01m\\n\u001b[39;00m\u001b[38;5;124mo MMF는 연말 자본비율 관리 등을 위해 인출되었던 자금이 유입되면서 상당폭 증가 (-28.7조원 → +19.9조원)\u001b[39m\u001b[38;5;130;01m\\n\u001b[39;00m\u001b[38;5;130;01m\\n\u001b[39;00m\u001b[38;5;124mo 채권형펀드 (-8.7조원 → +8.6조원)는 큰 폭 유입으로 전환되었으며, 주식형펀드 (+5.3조원 → +5.4조원) 및 기타펀드 (+9.2조원 → +3.4조원)도 증가세 지속\u001b[39m\u001b[38;5;130;01m\\n\u001b[39;00m\u001b[38;5;130;01m\\n\u001b[39;00m\u001b[38;5;124m주요 금융기관 수신 (기간중 잔액증감, 조원)\u001b[39m\u001b[38;5;124m'\u001b[39m, \u001b[38;5;124m'\u001b[39m\u001b[38;5;124m주요 금융기관 수신 (기간중 잔액 증감, 조원)\u001b[39m\u001b[38;5;130;01m\\n\u001b[39;00m\u001b[38;5;130;01m\\n\u001b[39;00m\u001b[38;5;124m기관 24.8월 9월 10월 11월 12월 25.1월 25.1월말 잔액 은행계정1) 21.5 18.9 8.4 18.9 16.5 -33.3 2,401.3 실세요구불예금 10.8 1.6 -9.7 5.1 4.3 -3.1 307.8 저축성예금 17.7 17.3 12.7 9.5 18.3 -33.1 1,694.9 (정기예금) 14.1 6.3 14.4 8.0 -21.0 -2.4 1,038.1 (수시입출식) 2.7 9.3 -2.8 0.8 39.2 -29.2 592.5 CD+RP+표지어음 -5.3 -7.2 -2.1 -0.8 -0.1 0.8 63.8 은행채 -1.8 7.2 7.5 5.1 -6.0 2.2 334.9 자산운용사2) -0.9 -14.6 29.6 8.7 -23.3 38.1 1,080.1 M M F -7.6 -19.3 17.5 1.9 -28.7 19.9 186.9 채권형펀드 4.1 -0.3 5.6 2.0 -8.7 8.6 177.8 주식형펀드 -0.1 1.2 1.3 0.2 5.3 5.4 131.1 혼합형펀드 0.6 0.3 0.3 0.1 -0.5 0.8 29.5 기타 펀드3) 2.1 3.5 4.8 4.5 9.2 3.4 554.8 은행신탁 1.1 -17.4 17.8 3.7 -7.6 13.7 401.6 특정금전신탁 0.8 -18.2 17.0 1.6 -18.7 13.1 186.7 종 금 사 -0.3 -0.9 0.5 0.2 -2.7 2.6 22.6 발행어음 0.0 -1.4 0.7 -0.3 -2.0 2.9 17.2 C M A -0.3 0.5 -0.2 0.5 -0.7 -0.3 5.5 (매출어음) 0.0 -0.5 1.2 -0.9 -1.7 1.5 24.3 우체국예금 0.6 -0.4 -0.1 -0.4 0.4 1.1 88.8 증권사투자자예탁금 -2.2 4.7 -6.2 1.7 1.9 1.3 55.6\u001b[39m\u001b[38;5;130;01m\\n\u001b[39;00m\u001b[38;5;130;01m\\n\u001b[39;00m\u001b[38;5;124m주: 1) 은행･중앙정부･비거주자예금 제외 기준\u001b[39m\u001b[38;5;130;01m\\n\u001b[39;00m\u001b[38;5;130;01m\\n\u001b[39;00m\u001b[38;5;124m2) 증권사 사모펀드 포함\u001b[39m\u001b[38;5;130;01m\\n\u001b[39;00m\u001b[38;5;130;01m\\n\u001b[39;00m\u001b[38;5;124m3) 파생상품‧부동산‧재간접‧특별자산‧혼합자산 펀드\u001b[39m\u001b[38;5;124m'\u001b[39m, \u001b[38;5;124m'\u001b[39m\u001b[38;5;124m금리 및 주가\u001b[39m\u001b[38;5;130;01m\\n\u001b[39;00m\u001b[38;5;130;01m\\n\u001b[39;00m\u001b[38;5;124m국고채금리(3년)는 국내 경기둔화 우려 등으로 하락하였다가 미 연준의 금리인하 지연 기대가 지속되면서 반등\u001b[39m\u001b[38;5;130;01m\\n\u001b[39;00m\u001b[38;5;130;01m\\n\u001b[39;00m\u001b[38;5;124m주요 단기시장금리는 기준금리 인하 기대 강화, 연초 기관들의 자금 집행 등으로 상당폭 하락\u001b[39m\u001b[38;5;130;01m\\n\u001b[39;00m\u001b[38;5;130;01m\\n\u001b[39;00m\u001b[38;5;124m코스피는 연초 국내 주가 저평가 인식 부각 등으로 상당폭 반등하였으나 이후 미 신정부 관세정책의 불확실성, 딥시크 관련 AI 과잉 투자 우려 등으로 추가 상승이 제한\u001b[39m\u001b[38;5;130;01m\\n\u001b[39;00m\u001b[38;5;130;01m\\n\u001b[39;00m\u001b[38;5;124m시장금리 및 주가 (기말기준, \u001b[39m\u001b[38;5;124m%\u001b[39m\u001b[38;5;124m, \u001b[39m\u001b[38;5;124m%\u001b[39m\u001b[38;5;124mp)\u001b[39m\u001b[38;5;130;01m\\n\u001b[39;00m\u001b[38;5;130;01m\\n\u001b[39;00m\u001b[38;5;124m|항목|기준일|기준일|기준일|기준일|기준일|기준일|B-A| | | | | | |---|---|---|---|---|---|---|---| | |22.12월|23.12월|24.11월|24.12월|25.1월|25.2.11일| | |국고채(3년)|3.72|3.15|2.61|2.60|2.57|2.63|0.03| |국고채(10년)|3.73|3.18|2.75|2.86|2.86|2.85|-0.01| |미국채(10년)|3.87|3.88|4.17|4.57|4.54|4.50|-0.07| |회사채(3년,AA-)|5.20|3.89|3.20|3.28|3.17|3.22|-0.06| |회사채(3년,A-)|6.19|5.27|4.21|4.28|4.20|4.26|-0.02| |회사채(3년,BBB+)|8.73|7.92|6.58|6.64|6.54|6.59|-0.05| |통안증권(91일)|3.53|3.46|2.98|2.96|2.86|2.86|-0.10| |은행채(3개월)|4.05|3.87|3.26|3.34|3.03|2.99|-0.35| |CD(91일)|3.98|3.83|3.29|3.39|3.03|2.99|-0.40| |CP(A1, 91일)|5.28|4.32|3.39|3.58|3.25|3.25|-0.33| |KOFR(익일물)|3.17|3.67|3.25|3.06|3.09|3.03|-0.03| |코스피|2,236|2,655|2,456|2,399|2,517|2,539|140| |코스닥|679|867|678|678|728|750|72|\u001b[39m\u001b[38;5;130;01m\\n\u001b[39;00m\u001b[38;5;130;01m\\n\u001b[39;00m\u001b[38;5;124m주: 1) 민간채권평가사 4사 평균\u001b[39m\u001b[38;5;130;01m\\n\u001b[39;00m\u001b[38;5;130;01m\\n\u001b[39;00m\u001b[38;5;124m2) 2.10일 기준\u001b[39m\u001b[38;5;124m'\u001b[39m, \u001b[38;5;124m'\u001b[39m\u001b[38;5;124m주요 금융기관 수신 (기간중 잔액 증감, 조원)\u001b[39m\u001b[38;5;130;01m\\n\u001b[39;00m\u001b[38;5;130;01m\\n\u001b[39;00m\u001b[38;5;124m기관 24.8월 9월 10월 11월 12월 25.1월 25.1월말 잔액 은행계정1) 21.5 18.9 8.4 18.9 16.5 -33.3 2,401.3 실세요구불예금 10.8 1.6 -9.7 5.1 4.3 -3.1 307.8 저축성예금 17.7 17.3 12.7 9.5 18.3 -33.1 1,694.9 (정기예금) 14.1 6.3 14.4 8.0 -21.0 -2.4 1,038.1 (수시입출식) 2.7 9.3 -2.8 0.8 39.2 -29.2 592.5 CD+RP+표지어음 -5.3 -7.2 -2.1 -0.8 -0.1 0.8 63.8 은행채 -1.8 7.2 7.5 5.1 -6.0 2.2 334.9 자산운용사2) -0.9 -14.6 29.6 8.7 -23.3 38.1 1,080.1 M M F -7.6 -19.3 17.5 1.9 -28.7 19.9 186.9 채권형펀드 4.1 -0.3 5.6 2.0 -8.7 8.6 177.8 주식형펀드 -0.1 1.2 1.3 0.2 5.3 5.4 131.1 혼합형펀드 0.6 0.3 0.3 0.1 -0.5 0.8 29.5 기타 펀드3) 2.1 3.5 4.8 4.5 9.2 3.4 554.8 은행신탁 1.1 -17.4 17.8 3.7 -7.6 13.7 401.6 특정금전신탁 0.8 -18.2 17.0 1.6 -18.7 13.1 186.7 종 금 사 -0.3 -0.9 0.5 0.2 -2.7 2.6 22.6 발행어음 0.0 -1.4 0.7 -0.3 -2.0 2.9 17.2 C M A -0.3 0.5 -0.2 0.5 -0.7 -0.3 5.5 (매출어음) 0.0 -0.5 1.2 -0.9 -1.7 1.5 24.3 우체국예금 0.6 -0.4 -0.1 -0.4 0.4 1.1 88.8 증권사투자자예탁금 -2.2 4.7 -6.2 1.7 1.9 1.3 55.6\u001b[39m\u001b[38;5;130;01m\\n\u001b[39;00m\u001b[38;5;130;01m\\n\u001b[39;00m\u001b[38;5;124m주: 1) 은행･중앙정부･비거주자예금 제외 기준\u001b[39m\u001b[38;5;130;01m\\n\u001b[39;00m\u001b[38;5;130;01m\\n\u001b[39;00m\u001b[38;5;124m2) 증권사 사모펀드 포함\u001b[39m\u001b[38;5;130;01m\\n\u001b[39;00m\u001b[38;5;130;01m\\n\u001b[39;00m\u001b[38;5;124m3) 파생상품‧부동산‧재간접‧특별자산‧혼합자산 펀드\u001b[39m\u001b[38;5;124m'\u001b[39m, \u001b[38;5;124m'\u001b[39m\u001b[38;5;124m주: 1) 민간채권평가사 4사 평균\u001b[39m\u001b[38;5;130;01m\\n\u001b[39;00m\u001b[38;5;130;01m\\n\u001b[39;00m\u001b[38;5;124m2) 2.10일 기준\u001b[39m\u001b[38;5;130;01m\\n\u001b[39;00m\u001b[38;5;130;01m\\n\u001b[39;00m\u001b[38;5;124m3) KOFR(Korea Overnight Financing Repo Rate), 기간중 평균 (25.2월은 1~10일 기준)\u001b[39m\u001b[38;5;124m'\u001b[39m]\n\u001b[1;32m      5\u001b[0m }\n\u001b[0;32m----> 7\u001b[0m response \u001b[38;5;241m=\u001b[39m \u001b[43mclient\u001b[49m\u001b[38;5;241;43m.\u001b[39;49m\u001b[43mtransport\u001b[49m\u001b[38;5;241;43m.\u001b[39;49m\u001b[43mperform_request\u001b[49m\u001b[43m(\u001b[49m\n\u001b[1;32m      8\u001b[0m \u001b[43m    \u001b[49m\u001b[43mmethod\u001b[49m\u001b[38;5;241;43m=\u001b[39;49m\u001b[38;5;124;43m'\u001b[39;49m\u001b[38;5;124;43mPOST\u001b[39;49m\u001b[38;5;124;43m'\u001b[39;49m\u001b[43m,\u001b[49m\n\u001b[1;32m      9\u001b[0m \u001b[43m    \u001b[49m\u001b[43murl\u001b[49m\u001b[38;5;241;43m=\u001b[39;49m\u001b[38;5;124;43mf\u001b[39;49m\u001b[38;5;124;43m'\u001b[39;49m\u001b[38;5;124;43m/_plugins/_ml/models/\u001b[39;49m\u001b[38;5;132;43;01m{\u001b[39;49;00m\u001b[43mmodel_id\u001b[49m\u001b[38;5;132;43;01m}\u001b[39;49;00m\u001b[38;5;124;43m/_predict\u001b[39;49m\u001b[38;5;124;43m'\u001b[39;49m\u001b[43m,\u001b[49m\n\u001b[1;32m     10\u001b[0m \u001b[43m    \u001b[49m\u001b[43mbody\u001b[49m\u001b[38;5;241;43m=\u001b[39;49m\u001b[43mpayload\u001b[49m\u001b[43m,\u001b[49m\n\u001b[1;32m     11\u001b[0m \u001b[43m)\u001b[49m\n\u001b[1;32m     12\u001b[0m response\n",
      "File \u001b[0;32m~/miniconda3/envs/rag/lib/python3.13/site-packages/opensearchpy/transport.py:457\u001b[0m, in \u001b[0;36mTransport.perform_request\u001b[0;34m(self, method, url, params, body, timeout, ignore, headers)\u001b[0m\n\u001b[1;32m    455\u001b[0m             \u001b[38;5;28;01mraise\u001b[39;00m e\n\u001b[1;32m    456\u001b[0m     \u001b[38;5;28;01melse\u001b[39;00m:\n\u001b[0;32m--> 457\u001b[0m         \u001b[38;5;28;01mraise\u001b[39;00m e\n\u001b[1;32m    459\u001b[0m \u001b[38;5;28;01melse\u001b[39;00m:\n\u001b[1;32m    460\u001b[0m     \u001b[38;5;66;03m# connection didn't fail, confirm its live status\u001b[39;00m\n\u001b[1;32m    461\u001b[0m     \u001b[38;5;28mself\u001b[39m\u001b[38;5;241m.\u001b[39mconnection_pool\u001b[38;5;241m.\u001b[39mmark_live(connection)\n",
      "File \u001b[0;32m~/miniconda3/envs/rag/lib/python3.13/site-packages/opensearchpy/transport.py:418\u001b[0m, in \u001b[0;36mTransport.perform_request\u001b[0;34m(self, method, url, params, body, timeout, ignore, headers)\u001b[0m\n\u001b[1;32m    415\u001b[0m connection \u001b[38;5;241m=\u001b[39m \u001b[38;5;28mself\u001b[39m\u001b[38;5;241m.\u001b[39mget_connection()\n\u001b[1;32m    417\u001b[0m \u001b[38;5;28;01mtry\u001b[39;00m:\n\u001b[0;32m--> 418\u001b[0m     status, headers_response, data \u001b[38;5;241m=\u001b[39m \u001b[43mconnection\u001b[49m\u001b[38;5;241;43m.\u001b[39;49m\u001b[43mperform_request\u001b[49m\u001b[43m(\u001b[49m\n\u001b[1;32m    419\u001b[0m \u001b[43m        \u001b[49m\u001b[43mmethod\u001b[49m\u001b[43m,\u001b[49m\n\u001b[1;32m    420\u001b[0m \u001b[43m        \u001b[49m\u001b[43murl\u001b[49m\u001b[43m,\u001b[49m\n\u001b[1;32m    421\u001b[0m \u001b[43m        \u001b[49m\u001b[43mparams\u001b[49m\u001b[43m,\u001b[49m\n\u001b[1;32m    422\u001b[0m \u001b[43m        \u001b[49m\u001b[43mbody\u001b[49m\u001b[43m,\u001b[49m\n\u001b[1;32m    423\u001b[0m \u001b[43m        \u001b[49m\u001b[43mheaders\u001b[49m\u001b[38;5;241;43m=\u001b[39;49m\u001b[43mheaders\u001b[49m\u001b[43m,\u001b[49m\n\u001b[1;32m    424\u001b[0m \u001b[43m        \u001b[49m\u001b[43mignore\u001b[49m\u001b[38;5;241;43m=\u001b[39;49m\u001b[43mignore\u001b[49m\u001b[43m,\u001b[49m\n\u001b[1;32m    425\u001b[0m \u001b[43m        \u001b[49m\u001b[43mtimeout\u001b[49m\u001b[38;5;241;43m=\u001b[39;49m\u001b[43mtimeout\u001b[49m\u001b[43m,\u001b[49m\n\u001b[1;32m    426\u001b[0m \u001b[43m    \u001b[49m\u001b[43m)\u001b[49m\n\u001b[1;32m    428\u001b[0m     \u001b[38;5;66;03m# Lowercase all the header names for consistency in accessing them.\u001b[39;00m\n\u001b[1;32m    429\u001b[0m     headers_response \u001b[38;5;241m=\u001b[39m {\n\u001b[1;32m    430\u001b[0m         header\u001b[38;5;241m.\u001b[39mlower(): value \u001b[38;5;28;01mfor\u001b[39;00m header, value \u001b[38;5;129;01min\u001b[39;00m headers_response\u001b[38;5;241m.\u001b[39mitems()\n\u001b[1;32m    431\u001b[0m     }\n",
      "File \u001b[0;32m~/miniconda3/envs/rag/lib/python3.13/site-packages/opensearchpy/connection/http_urllib3.py:294\u001b[0m, in \u001b[0;36mUrllib3HttpConnection.perform_request\u001b[0;34m(self, method, url, params, body, timeout, ignore, headers)\u001b[0m\n\u001b[1;32m    292\u001b[0m         \u001b[38;5;28;01mraise\u001b[39;00m SSLError(\u001b[38;5;124m\"\u001b[39m\u001b[38;5;124mN/A\u001b[39m\u001b[38;5;124m\"\u001b[39m, \u001b[38;5;28mstr\u001b[39m(e), e)\n\u001b[1;32m    293\u001b[0m     \u001b[38;5;28;01mif\u001b[39;00m \u001b[38;5;28misinstance\u001b[39m(e, ReadTimeoutError):\n\u001b[0;32m--> 294\u001b[0m         \u001b[38;5;28;01mraise\u001b[39;00m ConnectionTimeout(\u001b[38;5;124m\"\u001b[39m\u001b[38;5;124mTIMEOUT\u001b[39m\u001b[38;5;124m\"\u001b[39m, \u001b[38;5;28mstr\u001b[39m(e), e)\n\u001b[1;32m    295\u001b[0m     \u001b[38;5;28;01mraise\u001b[39;00m \u001b[38;5;167;01mConnectionError\u001b[39;00m(\u001b[38;5;124m\"\u001b[39m\u001b[38;5;124mN/A\u001b[39m\u001b[38;5;124m\"\u001b[39m, \u001b[38;5;28mstr\u001b[39m(e), e)\n\u001b[1;32m    296\u001b[0m \u001b[38;5;28;01mfinally\u001b[39;00m:\n",
      "\u001b[0;31mConnectionTimeout\u001b[0m: ConnectionTimeout caused by - ReadTimeoutError(HTTPSConnectionPool(host='localhost', port=9200): Read timed out. (read timeout=10))"
     ]
    }
   ],
   "source": [
    "model_id = 'u5ZoEpUBPOHO5xCeyhP0'\n",
    "payload = {\n",
    "    \"query_text\": query,\n",
    "    \"text_docs\": text_docs\n",
    "}\n",
    "\n",
    "response = client.transport.perform_request(\n",
    "    method='POST',\n",
    "    url=f'/_plugins/_ml/models/{model_id}/_predict',\n",
    "    body=payload,\n",
    ")\n",
    "response"
   ]
  },
  {
   "cell_type": "code",
   "execution_count": 60,
   "metadata": {},
   "outputs": [
    {
     "data": {
      "text/plain": [
       "[(Document(metadata={'category': 'Table', 'origin_table': '<table><tr><td>항목</td><td>24.8월</td><td>9월</td><td>10월</td><td>11월</td><td>12월</td><td>25.1월</td><td>25.1월말 잔액</td></tr><tr><td>은행가계대출1)</td><td>9.2</td><td>5.6</td><td>3.8</td><td>1.9</td><td>-0.4</td><td>-0.5</td><td>1,140.5</td></tr><tr><td>주택담보대출2)</td><td>8.2</td><td>6.1</td><td>3.6</td><td>1.5</td><td>0.8</td><td>1.7</td><td>904.3</td></tr><tr><td>기타대출3)</td><td>1.1</td><td>-0.5</td><td>0.3</td><td>0.4</td><td>-1.1</td><td>-2.1</td><td>235.3</td></tr><tr><td>은행기업대출1)</td><td>7.2</td><td>4.3</td><td>8.1</td><td>2.2</td><td>-11.5</td><td>7.8</td><td>1,322.9</td></tr><tr><td>대기업</td><td>1.9</td><td>0.8</td><td>2.9</td><td>0.2</td><td>-4.3</td><td>6.1</td><td>280.6</td></tr><tr><td>중소기업</td><td>5.3</td><td>3.5</td><td>5.3</td><td>2.0</td><td>-7.1</td><td>1.8</td><td>1,042.3</td></tr><tr><td>&lt;중소법인&gt;</td><td>4.5</td><td>3.3</td><td>4.9</td><td>1.5</td><td>-5.8</td><td>2.1</td><td>587.2</td></tr><tr><td>&lt;개인사업자&gt;</td><td>0.8</td><td>0.3</td><td>0.3</td><td>0.4</td><td>-1.3</td><td>-0.3</td><td>455.1</td></tr><tr><td>회사채 순발행4)</td><td>-0.5</td><td>-1.3</td><td>0.6</td><td>0.7</td><td>0.3</td><td>1.8</td><td>-</td></tr><tr><td>CP·단기사채순발행5)</td><td>-1.1</td><td>1.1</td><td>-1.5</td><td>-0.6</td><td>-4.4</td><td>9.1</td><td>62.7</td></tr></table>', 'family_tree': 'parent_table', 'parent_id': 'NA', 'id': '1ebca500-c131-498f-acde-7688e582e633'}, page_content='표는 2024년 8월부터 2025년 1월까지의 은행 가계대출, 기업대출, 회사채 및 CP·단기사채 순발행액 변동 추이를 보여줍니다. 가계대출은 점차 감소하는 추세이며, 기업대출은 변동성이 큽니다. 2025년 1월말 잔액은 가계대출이 1,140.5조원, 기업대출이 1,322.9조원입니다.'),\n",
       "  8.258794),\n",
       " (Document(metadata={'category': 'Table', 'origin_table': '<table><tr><td/><td>8월</td><td>9월</td><td>10월</td><td>11월</td><td>12월</td><td>25.1월</td></tr><tr><td>아파트매매거래량(전국, 만호)1)</td><td>4.3</td><td>3.0</td><td>3.8</td><td>3.1</td><td>2.7</td><td>..</td></tr><tr><td>매매거래량(수도권, 만호)1)</td><td>2.2</td><td>1.3</td><td>1.5</td><td>1.2</td><td>1.0</td><td>..</td></tr><tr><td>매매거래량(서울, 만호)1)</td><td>0.6</td><td>0.3</td><td>0.4</td><td>0.3</td><td>0.3</td><td>..</td></tr><tr><td>전세거래량(전국, 〃)</td><td>5.1</td><td>4.3</td><td>5.2</td><td>4.4</td><td>4.1</td><td>..</td></tr><tr><td>분양물량 (전국, 〃)</td><td>1.7</td><td>1.8</td><td>2.5</td><td>3.2</td><td>2.0</td><td>1.0</td></tr><tr><td>입주물량 (전국, 〃)</td><td>3.2</td><td>2.6</td><td>3.0</td><td>3.4</td><td>3.1</td><td>3.8</td></tr></table> <table><tr><td/><td>2023</td><td>연중</td><td>1월</td><td>2024</td><td>연중</td><td>1월</td><td>10월</td><td>11월</td><td>12월</td><td>1월</td><td>잔액</td><td/><td/><td/><td/><td/><td/></tr><tr><td>은행가계대출1)</td><td>36.9</td><td>-4.7</td><td>46.0</td><td>3.3</td><td>3.8</td><td>1.9</td><td>-0.4</td><td>-0.5</td><td>1,140.5</td><td/><td/><td/><td/><td/><td/><td/><td/></tr><tr><td/><td>주택담보대출2)</td><td/><td/><td/><td/><td/><td>51.6</td><td/><td/><td>0.0</td><td>52.1</td><td>4.9</td><td>3.6</td><td>1.5</td><td>0.8</td><td>1.7</td><td>904.3</td></tr><tr><td/><td>기타대출3)</td><td/><td/><td/><td/><td/><td>-14.5</td><td/><td/><td>-4.6</td><td>-5.9</td><td>-1.5</td><td>0.3</td><td>0.4</td><td>-1.1</td><td>-2.1</td><td>235.3</td></tr></table>', 'family_tree': 'parent_table', 'parent_id': 'NA', 'id': '027774f5-d42f-4b28-9bff-9f0a3c630bc9'}, page_content='제공된 표는 2023년 8월부터 12월까지의 아파트 매매 및 전세 거래량, 분양 및 입주 물량과 2023년과 2024년의 은행 가계 대출 변화를 보여줍니다. 아파트 매매 거래량은 전국적으로 8월에 4.3만 호에서 12월에 2.7만 호로 감소했습니다. 전세 거래량은 5.1만 호에서 4.1만 호로 비슷한 감소세를 보였습니다. 분양 물량은 1.7만 호에서 2.0만 호로 소폭 증가했고, 입주 물량은 3.2만 호에서 3.1만 호로 거의 변동이 없었습니다. 은행 가계 대출은 2023년에 감소했지만, 2024년에 다시 증가하는 추세를 보입니다. 주택담보대출은 2024년 1월에 1.7조원 증가하여 904.3조원의 잔액을 기록했습니다. 기타 대출은 감소세를 보였습니다.'),\n",
       "  7.951606),\n",
       " (Document(metadata={'source': './data/complex_pdf/pickle/parsed_llamaparse_2.md', 'text_as_html': '<table><tr><td/><td>8월</td><td>9월</td><td>10월</td><td>11월</td><td>12월</td><td>25.1월</td></tr><tr><td>아파트매매거래량(전국, 만호)1)</td><td>4.3</td><td>3.0</td><td>3.8</td><td>3.1</td><td>2.7</td><td>..</td></tr><tr><td>매매거래량(수도권, 만호)1)</td><td>2.2</td><td>1.3</td><td>1.5</td><td>1.2</td><td>1.0</td><td>..</td></tr><tr><td>매매거래량(서울, 만호)1)</td><td>0.6</td><td>0.3</td><td>0.4</td><td>0.3</td><td>0.3</td><td>..</td></tr><tr><td>전세거래량(전국, 〃)</td><td>5.1</td><td>4.3</td><td>5.2</td><td>4.4</td><td>4.1</td><td>..</td></tr><tr><td>분양물량 (전국, 〃)</td><td>1.7</td><td>1.8</td><td>2.5</td><td>3.2</td><td>2.0</td><td>1.0</td></tr><tr><td>입주물량 (전국, 〃)</td><td>3.2</td><td>2.6</td><td>3.0</td><td>3.4</td><td>3.1</td><td>3.8</td></tr></table> <table><tr><td/><td>2023</td><td>연중</td><td>1월</td><td>2024</td><td>연중</td><td>1월</td><td>10월</td><td>11월</td><td>12월</td><td>1월</td><td>잔액</td><td/><td/><td/><td/><td/><td/></tr><tr><td>은행가계대출1)</td><td>36.9</td><td>-4.7</td><td>46.0</td><td>3.3</td><td>3.8</td><td>1.9</td><td>-0.4</td><td>-0.5</td><td>1,140.5</td><td/><td/><td/><td/><td/><td/><td/><td/></tr><tr><td/><td>주택담보대출2)</td><td/><td/><td/><td/><td/><td>51.6</td><td/><td/><td>0.0</td><td>52.1</td><td>4.9</td><td>3.6</td><td>1.5</td><td>0.8</td><td>1.7</td><td>904.3</td></tr><tr><td/><td>기타대출3)</td><td/><td/><td/><td/><td/><td>-14.5</td><td/><td/><td>-4.6</td><td>-5.9</td><td>-1.5</td><td>0.3</td><td>0.4</td><td>-1.1</td><td>-2.1</td><td>235.3</td></tr></table>', 'orig_elements': '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', 'languages': ['kor'], 'file_directory': './data/complex_pdf/pickle', 'filename': 'parsed_llamaparse_2.md', 'filetype': 'text/markdown', 'last_modified': '2025-02-14T20:35:19', 'category': 'CompositeElement', 'element_id': 'da57ff0f75abfb74dfdba67c315d03e9', 'family_tree': 'child', 'parent_id': '6220a83b-ae41-417d-82b7-050ef83c5d2d', 'id': '9bde98b9-0a5a-49d9-82be-804e9c5a2e30'}, page_content='가계대출\\n\\n1월 은행 가계대출은 전월에이어 소폭 감소 (24.12월-0.4조원→25.1월-0.5조원;24.1월+3.3조원)\\n\\n주택담보대출은 연초 은행들의 가계대출 취급이 재개되었으나 주택 거래 둔화 등으로 낮은 증가세 지속(+0.8조원→+1.7조원)\\n\\n※전세자금대출증감(조원):24.11월+0.1→12월–0.0→25.1월+0.4(24.1월–0.2)\\n\\n기타대출은 명절·성과상여금 유입 등으로 감소폭이 확대 (-1.1조원→-2.1조원)\\n\\n8월 9월 10월 11월 12월 25.1월 아파트매매거래량(전국, 만호)1) 4.3 3.0 3.8 3.1 2.7 .. 매매거래량(수도권, 만호)1) 2.2 1.3 1.5 1.2 1.0 .. 매매거래량(서울, 만호)1) 0.6 0.3 0.4 0.3 0.3 .. 전세거래량(전국, 〃) 5.1 4.3 5.2 4.4 4.1 .. 분양물량 (전국, 〃) 1.7 1.8 2.5 3.2 2.0 1.0 입주물량 (전국, 〃) 3.2 2.6 3.0 3.4 3.1 3.8\\n\\n주:1)계약일 기준(2.11일 조회 기준, 계약 해제 건 제외)\\n\\n자료:국토교통부, 부동산114\\n\\n은행 가계대출\\n\\n2023 연중 1월 2024 연중 1월 10월 11월 12월 1월 잔액 은행가계대출1) 36.9 -4.7 46.0 3.3 3.8 1.9 -0.4 -0.5 1,140.5 주택담보대출2) 51.6 0.0 52.1 4.9 3.6 1.5 0.8 1.7 904.3 기타대출3) -14.5 -4.6 -5.9 -1.5 0.3 0.4 -1.1 -2.1 235.3\\n\\n주:1)예금은행(은행신탁 포함) 기준, 종별대출은 신탁 제외\\n\\n2)전세자금대출, 이주비·중도금대출 등 주택담보로 취급되지 않은 주택 관련 대출을 포함\\n\\n한국주택금융공사 정책 모기지 양도분 및 이차보전 방식의 주택도시기금 정책 대출 포함\\n\\n3)일반신용대출, 신용한도대출(마이너스통장대출), 상업용부동산(상가·오피스텔 등) 담보 대출, 기타대출(예·적금담보대출, 주식담보대출 등) 등으로 구성'),\n",
       "  4.250247)]"
      ]
     },
     "execution_count": 60,
     "metadata": {},
     "output_type": "execute_result"
    }
   ],
   "source": [
    "sorted([(doc,res['output'][0]['data'][0])for res, (doc, _) in zip(response['inference_results'],results)],key=lambda x: x[1], reverse=True)"
   ]
  },
  {
   "cell_type": "code",
   "execution_count": 57,
   "metadata": {},
   "outputs": [
    {
     "name": "stderr",
     "output_type": "stream",
     "text": [
      "/Users/minseongkim/miniconda3/envs/rag/lib/python3.13/site-packages/urllib3/connectionpool.py:1097: InsecureRequestWarning: Unverified HTTPS request is being made to host 'localhost'. Adding certificate verification is strongly advised. See: https://urllib3.readthedocs.io/en/latest/advanced-usage.html#tls-warnings\n",
      "  warnings.warn(\n"
     ]
    },
    {
     "data": {
      "text/plain": [
       "{'took': 5503,\n",
       " 'timed_out': False,\n",
       " '_shards': {'total': 1, 'successful': 1, 'skipped': 0, 'failed': 0},\n",
       " 'hits': {'total': {'value': 15, 'relation': 'eq'},\n",
       "  'max_score': 0.063497394,\n",
       "  'hits': [{'_index': '.plugins-ml-model',\n",
       "    '_id': 'u5ZoEpUBPOHO5xCeyhP0_0',\n",
       "    '_version': 1,\n",
       "    '_seq_no': 1,\n",
       "    '_primary_term': 1,\n",
       "    '_score': 0.063497394,\n",
       "    '_source': {'model_version': '1',\n",
       "     'created_time': 1739770635644,\n",
       "     'chunk_number': 0,\n",
       "     'last_updated_time': 1739770635644,\n",
       "     'model_format': 'TORCH_SCRIPT',\n",
       "     'name': 'cross-encoder/ms-marco-MiniLM-L-12-v2',\n",
       "     'is_hidden': False,\n",
       "     'model_id': 'u5ZoEpUBPOHO5xCeyhP0',\n",
       "     'total_chunks': 14,\n",
       "     'algorithm': 'TEXT_SIMILARITY'}},\n",
       "   {'_index': '.plugins-ml-model',\n",
       "    '_id': 'u5ZoEpUBPOHO5xCeyhP0_1',\n",
       "    '_version': 1,\n",
       "    '_seq_no': 2,\n",
       "    '_primary_term': 1,\n",
       "    '_score': 0.063497394,\n",
       "    '_source': {'model_version': '1',\n",
       "     'created_time': 1739770636809,\n",
       "     'chunk_number': 1,\n",
       "     'last_updated_time': 1739770636809,\n",
       "     'model_format': 'TORCH_SCRIPT',\n",
       "     'name': 'cross-encoder/ms-marco-MiniLM-L-12-v2',\n",
       "     'is_hidden': False,\n",
       "     'model_id': 'u5ZoEpUBPOHO5xCeyhP0',\n",
       "     'total_chunks': 14,\n",
       "     'algorithm': 'TEXT_SIMILARITY'}},\n",
       "   {'_index': '.plugins-ml-model',\n",
       "    '_id': 'u5ZoEpUBPOHO5xCeyhP0_2',\n",
       "    '_version': 1,\n",
       "    '_seq_no': 3,\n",
       "    '_primary_term': 1,\n",
       "    '_score': 0.063497394,\n",
       "    '_source': {'model_version': '1',\n",
       "     'created_time': 1739770637748,\n",
       "     'chunk_number': 2,\n",
       "     'last_updated_time': 1739770637748,\n",
       "     'model_format': 'TORCH_SCRIPT',\n",
       "     'name': 'cross-encoder/ms-marco-MiniLM-L-12-v2',\n",
       "     'is_hidden': False,\n",
       "     'model_id': 'u5ZoEpUBPOHO5xCeyhP0',\n",
       "     'total_chunks': 14,\n",
       "     'algorithm': 'TEXT_SIMILARITY'}},\n",
       "   {'_index': '.plugins-ml-model',\n",
       "    '_id': 'u5ZoEpUBPOHO5xCeyhP0_3',\n",
       "    '_version': 1,\n",
       "    '_seq_no': 4,\n",
       "    '_primary_term': 1,\n",
       "    '_score': 0.063497394,\n",
       "    '_source': {'model_version': '1',\n",
       "     'created_time': 1739770638244,\n",
       "     'chunk_number': 3,\n",
       "     'last_updated_time': 1739770638244,\n",
       "     'model_format': 'TORCH_SCRIPT',\n",
       "     'name': 'cross-encoder/ms-marco-MiniLM-L-12-v2',\n",
       "     'is_hidden': False,\n",
       "     'model_id': 'u5ZoEpUBPOHO5xCeyhP0',\n",
       "     'total_chunks': 14,\n",
       "     'algorithm': 'TEXT_SIMILARITY'}},\n",
       "   {'_index': '.plugins-ml-model',\n",
       "    '_id': 'u5ZoEpUBPOHO5xCeyhP0_4',\n",
       "    '_version': 1,\n",
       "    '_seq_no': 5,\n",
       "    '_primary_term': 1,\n",
       "    '_score': 0.063497394,\n",
       "    '_source': {'model_version': '1',\n",
       "     'created_time': 1739770638774,\n",
       "     'chunk_number': 4,\n",
       "     'last_updated_time': 1739770638774,\n",
       "     'model_format': 'TORCH_SCRIPT',\n",
       "     'name': 'cross-encoder/ms-marco-MiniLM-L-12-v2',\n",
       "     'is_hidden': False,\n",
       "     'model_id': 'u5ZoEpUBPOHO5xCeyhP0',\n",
       "     'total_chunks': 14,\n",
       "     'algorithm': 'TEXT_SIMILARITY'}},\n",
       "   {'_index': '.plugins-ml-model',\n",
       "    '_id': 'u5ZoEpUBPOHO5xCeyhP0_5',\n",
       "    '_version': 1,\n",
       "    '_seq_no': 6,\n",
       "    '_primary_term': 1,\n",
       "    '_score': 0.063497394,\n",
       "    '_source': {'model_version': '1',\n",
       "     'created_time': 1739770639311,\n",
       "     'chunk_number': 5,\n",
       "     'last_updated_time': 1739770639311,\n",
       "     'model_format': 'TORCH_SCRIPT',\n",
       "     'name': 'cross-encoder/ms-marco-MiniLM-L-12-v2',\n",
       "     'is_hidden': False,\n",
       "     'model_id': 'u5ZoEpUBPOHO5xCeyhP0',\n",
       "     'total_chunks': 14,\n",
       "     'algorithm': 'TEXT_SIMILARITY'}},\n",
       "   {'_index': '.plugins-ml-model',\n",
       "    '_id': 'u5ZoEpUBPOHO5xCeyhP0_6',\n",
       "    '_version': 1,\n",
       "    '_seq_no': 7,\n",
       "    '_primary_term': 1,\n",
       "    '_score': 0.063497394,\n",
       "    '_source': {'model_version': '1',\n",
       "     'created_time': 1739770639727,\n",
       "     'chunk_number': 6,\n",
       "     'last_updated_time': 1739770639727,\n",
       "     'model_format': 'TORCH_SCRIPT',\n",
       "     'name': 'cross-encoder/ms-marco-MiniLM-L-12-v2',\n",
       "     'is_hidden': False,\n",
       "     'model_id': 'u5ZoEpUBPOHO5xCeyhP0',\n",
       "     'total_chunks': 14,\n",
       "     'algorithm': 'TEXT_SIMILARITY'}},\n",
       "   {'_index': '.plugins-ml-model',\n",
       "    '_id': 'u5ZoEpUBPOHO5xCeyhP0_7',\n",
       "    '_version': 1,\n",
       "    '_seq_no': 8,\n",
       "    '_primary_term': 1,\n",
       "    '_score': 0.063497394,\n",
       "    '_source': {'model_version': '1',\n",
       "     'created_time': 1739770640178,\n",
       "     'chunk_number': 7,\n",
       "     'last_updated_time': 1739770640178,\n",
       "     'model_format': 'TORCH_SCRIPT',\n",
       "     'name': 'cross-encoder/ms-marco-MiniLM-L-12-v2',\n",
       "     'is_hidden': False,\n",
       "     'model_id': 'u5ZoEpUBPOHO5xCeyhP0',\n",
       "     'total_chunks': 14,\n",
       "     'algorithm': 'TEXT_SIMILARITY'}},\n",
       "   {'_index': '.plugins-ml-model',\n",
       "    '_id': 'u5ZoEpUBPOHO5xCeyhP0_8',\n",
       "    '_version': 1,\n",
       "    '_seq_no': 9,\n",
       "    '_primary_term': 1,\n",
       "    '_score': 0.063497394,\n",
       "    '_source': {'model_version': '1',\n",
       "     'created_time': 1739770640740,\n",
       "     'chunk_number': 8,\n",
       "     'last_updated_time': 1739770640740,\n",
       "     'model_format': 'TORCH_SCRIPT',\n",
       "     'name': 'cross-encoder/ms-marco-MiniLM-L-12-v2',\n",
       "     'is_hidden': False,\n",
       "     'model_id': 'u5ZoEpUBPOHO5xCeyhP0',\n",
       "     'total_chunks': 14,\n",
       "     'algorithm': 'TEXT_SIMILARITY'}},\n",
       "   {'_index': '.plugins-ml-model',\n",
       "    '_id': 'u5ZoEpUBPOHO5xCeyhP0_9',\n",
       "    '_version': 1,\n",
       "    '_seq_no': 10,\n",
       "    '_primary_term': 1,\n",
       "    '_score': 0.063497394,\n",
       "    '_source': {'model_version': '1',\n",
       "     'created_time': 1739770641774,\n",
       "     'chunk_number': 9,\n",
       "     'last_updated_time': 1739770641774,\n",
       "     'model_format': 'TORCH_SCRIPT',\n",
       "     'name': 'cross-encoder/ms-marco-MiniLM-L-12-v2',\n",
       "     'is_hidden': False,\n",
       "     'model_id': 'u5ZoEpUBPOHO5xCeyhP0',\n",
       "     'total_chunks': 14,\n",
       "     'algorithm': 'TEXT_SIMILARITY'}}]}}"
      ]
     },
     "execution_count": 57,
     "metadata": {},
     "output_type": "execute_result"
    }
   ],
   "source": [
    "client.ml.search_models(\n",
    "    body={\n",
    "        'query': {\n",
    "            'bool': {\n",
    "                'should': [\n",
    "                    {\n",
    "                        \"match\": {\n",
    "                            \"name\": \"cross-encoder\"\n",
    "                        }\n",
    "                    }\n",
    "                ]\n",
    "            }\n",
    "        },\n",
    "        'size': 10\n",
    "    }\n",
    ")"
   ]
  }
 ],
 "metadata": {
  "kernelspec": {
   "display_name": "rag",
   "language": "python",
   "name": "python3"
  },
  "language_info": {
   "codemirror_mode": {
    "name": "ipython",
    "version": 3
   },
   "file_extension": ".py",
   "mimetype": "text/x-python",
   "name": "python",
   "nbconvert_exporter": "python",
   "pygments_lexer": "ipython3",
   "version": "3.13.2"
  }
 },
 "nbformat": 4,
 "nbformat_minor": 2
}
