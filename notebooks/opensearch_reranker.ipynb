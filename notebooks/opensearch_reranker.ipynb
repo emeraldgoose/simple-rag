{
 "cells": [
  {
   "cell_type": "code",
   "execution_count": 1,
   "metadata": {},
   "outputs": [
    {
     "data": {
      "text/plain": [
       "True"
      ]
     },
     "execution_count": 1,
     "metadata": {},
     "output_type": "execute_result"
    }
   ],
   "source": [
    "from dotenv import load_dotenv\n",
    "import nest_asyncio\n",
    "\n",
    "nest_asyncio.apply()\n",
    "load_dotenv(dotenv_path='../backend/secret.env')"
   ]
  },
  {
   "cell_type": "code",
   "execution_count": null,
   "metadata": {},
   "outputs": [],
   "source": [
    "import os\n",
    "from opensearchpy import OpenSearch\n",
    "\n",
    "client = OpenSearch(\n",
    "    hosts=[\"https://localhost:9200\"],\n",
    "    http_compress=True,\n",
    "    http_auth=('',os.environ.get('OPENSEARCH_PASSWORD')),\n",
    "    use_ssl=True,\n",
    "    verify_certs=False,\n",
    ")\n",
    "client.info()"
   ]
  },
  {
   "cell_type": "code",
   "execution_count": 31,
   "metadata": {},
   "outputs": [],
   "source": [
    "from langchain.schema import Document\n",
    "\n",
    "query = \"2024 하반기 은행 가계대출 변화량에 대해 설명해봐\"\n",
    "results = [(Document(metadata={'source': './data/complex_pdf/pickle/parsed_llamaparse_2.md', 'text_as_html': '<table><tr><td/><td>8월</td><td>9월</td><td>10월</td><td>11월</td><td>12월</td><td>25.1월</td></tr><tr><td>아파트매매거래량(전국, 만호)1)</td><td>4.3</td><td>3.0</td><td>3.8</td><td>3.1</td><td>2.7</td><td>..</td></tr><tr><td>매매거래량(수도권, 만호)1)</td><td>2.2</td><td>1.3</td><td>1.5</td><td>1.2</td><td>1.0</td><td>..</td></tr><tr><td>매매거래량(서울, 만호)1)</td><td>0.6</td><td>0.3</td><td>0.4</td><td>0.3</td><td>0.3</td><td>..</td></tr><tr><td>전세거래량(전국, 〃)</td><td>5.1</td><td>4.3</td><td>5.2</td><td>4.4</td><td>4.1</td><td>..</td></tr><tr><td>분양물량 (전국, 〃)</td><td>1.7</td><td>1.8</td><td>2.5</td><td>3.2</td><td>2.0</td><td>1.0</td></tr><tr><td>입주물량 (전국, 〃)</td><td>3.2</td><td>2.6</td><td>3.0</td><td>3.4</td><td>3.1</td><td>3.8</td></tr></table> <table><tr><td/><td>2023</td><td>연중</td><td>1월</td><td>2024</td><td>연중</td><td>1월</td><td>10월</td><td>11월</td><td>12월</td><td>1월</td><td>잔액</td><td/><td/><td/><td/><td/><td/></tr><tr><td>은행가계대출1)</td><td>36.9</td><td>-4.7</td><td>46.0</td><td>3.3</td><td>3.8</td><td>1.9</td><td>-0.4</td><td>-0.5</td><td>1,140.5</td><td/><td/><td/><td/><td/><td/><td/><td/></tr><tr><td/><td>주택담보대출2)</td><td/><td/><td/><td/><td/><td>51.6</td><td/><td/><td>0.0</td><td>52.1</td><td>4.9</td><td>3.6</td><td>1.5</td><td>0.8</td><td>1.7</td><td>904.3</td></tr><tr><td/><td>기타대출3)</td><td/><td/><td/><td/><td/><td>-14.5</td><td/><td/><td>-4.6</td><td>-5.9</td><td>-1.5</td><td>0.3</td><td>0.4</td><td>-1.1</td><td>-2.1</td><td>235.3</td></tr></table>', 'orig_elements': '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', 'languages': ['kor'], 'file_directory': './data/complex_pdf/pickle', 'filename': 'parsed_llamaparse_2.md', 'filetype': 'text/markdown', 'last_modified': '2025-02-14T20:35:19', 'category': 'CompositeElement', 'element_id': 'da57ff0f75abfb74dfdba67c315d03e9', 'family_tree': 'child', 'parent_id': '6220a83b-ae41-417d-82b7-050ef83c5d2d', 'id': '9bde98b9-0a5a-49d9-82be-804e9c5a2e30'}, page_content='가계대출\\n\\n1월 은행 가계대출은 전월에이어 소폭 감소 (24.12월-0.4조원→25.1월-0.5조원;24.1월+3.3조원)\\n\\n주택담보대출은 연초 은행들의 가계대출 취급이 재개되었으나 주택 거래 둔화 등으로 낮은 증가세 지속(+0.8조원→+1.7조원)\\n\\n※전세자금대출증감(조원):24.11월+0.1→12월–0.0→25.1월+0.4(24.1월–0.2)\\n\\n기타대출은 명절·성과상여금 유입 등으로 감소폭이 확대 (-1.1조원→-2.1조원)\\n\\n8월 9월 10월 11월 12월 25.1월 아파트매매거래량(전국, 만호)1) 4.3 3.0 3.8 3.1 2.7 .. 매매거래량(수도권, 만호)1) 2.2 1.3 1.5 1.2 1.0 .. 매매거래량(서울, 만호)1) 0.6 0.3 0.4 0.3 0.3 .. 전세거래량(전국, 〃) 5.1 4.3 5.2 4.4 4.1 .. 분양물량 (전국, 〃) 1.7 1.8 2.5 3.2 2.0 1.0 입주물량 (전국, 〃) 3.2 2.6 3.0 3.4 3.1 3.8\\n\\n주:1)계약일 기준(2.11일 조회 기준, 계약 해제 건 제외)\\n\\n자료:국토교통부, 부동산114\\n\\n은행 가계대출\\n\\n2023 연중 1월 2024 연중 1월 10월 11월 12월 1월 잔액 은행가계대출1) 36.9 -4.7 46.0 3.3 3.8 1.9 -0.4 -0.5 1,140.5 주택담보대출2) 51.6 0.0 52.1 4.9 3.6 1.5 0.8 1.7 904.3 기타대출3) -14.5 -4.6 -5.9 -1.5 0.3 0.4 -1.1 -2.1 235.3\\n\\n주:1)예금은행(은행신탁 포함) 기준, 종별대출은 신탁 제외\\n\\n2)전세자금대출, 이주비·중도금대출 등 주택담보로 취급되지 않은 주택 관련 대출을 포함\\n\\n한국주택금융공사 정책 모기지 양도분 및 이차보전 방식의 주택도시기금 정책 대출 포함\\n\\n3)일반신용대출, 신용한도대출(마이너스통장대출), 상업용부동산(상가·오피스텔 등) 담보 대출, 기타대출(예·적금담보대출, 주식담보대출 등) 등으로 구성'), 0.016321044546851), (Document(metadata={'category': 'Table', 'origin_table': '<table><tr><td/><td>8월</td><td>9월</td><td>10월</td><td>11월</td><td>12월</td><td>25.1월</td></tr><tr><td>아파트매매거래량(전국, 만호)1)</td><td>4.3</td><td>3.0</td><td>3.8</td><td>3.1</td><td>2.7</td><td>..</td></tr><tr><td>매매거래량(수도권, 만호)1)</td><td>2.2</td><td>1.3</td><td>1.5</td><td>1.2</td><td>1.0</td><td>..</td></tr><tr><td>매매거래량(서울, 만호)1)</td><td>0.6</td><td>0.3</td><td>0.4</td><td>0.3</td><td>0.3</td><td>..</td></tr><tr><td>전세거래량(전국, 〃)</td><td>5.1</td><td>4.3</td><td>5.2</td><td>4.4</td><td>4.1</td><td>..</td></tr><tr><td>분양물량 (전국, 〃)</td><td>1.7</td><td>1.8</td><td>2.5</td><td>3.2</td><td>2.0</td><td>1.0</td></tr><tr><td>입주물량 (전국, 〃)</td><td>3.2</td><td>2.6</td><td>3.0</td><td>3.4</td><td>3.1</td><td>3.8</td></tr></table> <table><tr><td/><td>2023</td><td>연중</td><td>1월</td><td>2024</td><td>연중</td><td>1월</td><td>10월</td><td>11월</td><td>12월</td><td>1월</td><td>잔액</td><td/><td/><td/><td/><td/><td/></tr><tr><td>은행가계대출1)</td><td>36.9</td><td>-4.7</td><td>46.0</td><td>3.3</td><td>3.8</td><td>1.9</td><td>-0.4</td><td>-0.5</td><td>1,140.5</td><td/><td/><td/><td/><td/><td/><td/><td/></tr><tr><td/><td>주택담보대출2)</td><td/><td/><td/><td/><td/><td>51.6</td><td/><td/><td>0.0</td><td>52.1</td><td>4.9</td><td>3.6</td><td>1.5</td><td>0.8</td><td>1.7</td><td>904.3</td></tr><tr><td/><td>기타대출3)</td><td/><td/><td/><td/><td/><td>-14.5</td><td/><td/><td>-4.6</td><td>-5.9</td><td>-1.5</td><td>0.3</td><td>0.4</td><td>-1.1</td><td>-2.1</td><td>235.3</td></tr></table>', 'family_tree': 'parent_table', 'parent_id': 'NA', 'id': '027774f5-d42f-4b28-9bff-9f0a3c630bc9'}, page_content='제공된 표는 2023년 8월부터 12월까지의 아파트 매매 및 전세 거래량, 분양 및 입주 물량과 2023년과 2024년의 은행 가계 대출 변화를 보여줍니다. 아파트 매매 거래량은 전국적으로 8월에 4.3만 호에서 12월에 2.7만 호로 감소했습니다. 전세 거래량은 5.1만 호에서 4.1만 호로 비슷한 감소세를 보였습니다. 분양 물량은 1.7만 호에서 2.0만 호로 소폭 증가했고, 입주 물량은 3.2만 호에서 3.1만 호로 거의 변동이 없었습니다. 은행 가계 대출은 2023년에 감소했지만, 2024년에 다시 증가하는 추세를 보입니다. 주택담보대출은 2024년 1월에 1.7조원 증가하여 904.3조원의 잔액을 기록했습니다. 기타 대출은 감소세를 보였습니다.'), 0.01626388154415653), (Document(metadata={'category': 'Table', 'origin_table': '<table><tr><td>항목</td><td>24.8월</td><td>9월</td><td>10월</td><td>11월</td><td>12월</td><td>25.1월</td><td>25.1월말 잔액</td></tr><tr><td>은행가계대출1)</td><td>9.2</td><td>5.6</td><td>3.8</td><td>1.9</td><td>-0.4</td><td>-0.5</td><td>1,140.5</td></tr><tr><td>주택담보대출2)</td><td>8.2</td><td>6.1</td><td>3.6</td><td>1.5</td><td>0.8</td><td>1.7</td><td>904.3</td></tr><tr><td>기타대출3)</td><td>1.1</td><td>-0.5</td><td>0.3</td><td>0.4</td><td>-1.1</td><td>-2.1</td><td>235.3</td></tr><tr><td>은행기업대출1)</td><td>7.2</td><td>4.3</td><td>8.1</td><td>2.2</td><td>-11.5</td><td>7.8</td><td>1,322.9</td></tr><tr><td>대기업</td><td>1.9</td><td>0.8</td><td>2.9</td><td>0.2</td><td>-4.3</td><td>6.1</td><td>280.6</td></tr><tr><td>중소기업</td><td>5.3</td><td>3.5</td><td>5.3</td><td>2.0</td><td>-7.1</td><td>1.8</td><td>1,042.3</td></tr><tr><td>&lt;중소법인&gt;</td><td>4.5</td><td>3.3</td><td>4.9</td><td>1.5</td><td>-5.8</td><td>2.1</td><td>587.2</td></tr><tr><td>&lt;개인사업자&gt;</td><td>0.8</td><td>0.3</td><td>0.3</td><td>0.4</td><td>-1.3</td><td>-0.3</td><td>455.1</td></tr><tr><td>회사채 순발행4)</td><td>-0.5</td><td>-1.3</td><td>0.6</td><td>0.7</td><td>0.3</td><td>1.8</td><td>-</td></tr><tr><td>CP·단기사채순발행5)</td><td>-1.1</td><td>1.1</td><td>-1.5</td><td>-0.6</td><td>-4.4</td><td>9.1</td><td>62.7</td></tr></table>', 'family_tree': 'parent_table', 'parent_id': 'NA', 'id': '1ebca500-c131-498f-acde-7688e582e633'}, page_content='표는 2024년 8월부터 2025년 1월까지의 은행 가계대출, 기업대출, 회사채 및 CP·단기사채 순발행액 변동 추이를 보여줍니다. 가계대출은 점차 감소하는 추세이며, 기업대출은 변동성이 큽니다. 2025년 1월말 잔액은 가계대출이 1,140.5조원, 기업대출이 1,322.9조원입니다.'), 0.008032786885245903)]"
   ]
  },
  {
   "cell_type": "code",
   "execution_count": 30,
   "metadata": {},
   "outputs": [
    {
     "data": {
      "text/plain": [
       "['가계대출\\n\\n1월 은행 가계대출은 전월에이어 소폭 감소 (24.12월-0.4조원→25.1월-0.5조원;24.1월+3.3조원)\\n\\n주택담보대출은 연초 은행들의 가계대출 취급이 재개되었으나 주택 거래 둔화 등으로 낮은 증가세 지속(+0.8조원→+1.7조원)\\n\\n※전세자금대출증감(조원):24.11월+0.1→12월–0.0→25.1월+0.4(24.1월–0.2)\\n\\n기타대출은 명절·성과상여금 유입 등으로 감소폭이 확대 (-1.1조원→-2.1조원)\\n\\n8월 9월 10월 11월 12월 25.1월 아파트매매거래량(전국, 만호)1) 4.3 3.0 3.8 3.1 2.7 .. 매매거래량(수도권, 만호)1) 2.2 1.3 1.5 1.2 1.0 .. 매매거래량(서울, 만호)1) 0.6 0.3 0.4 0.3 0.3 .. 전세거래량(전국, 〃) 5.1 4.3 5.2 4.4 4.1 .. 분양물량 (전국, 〃) 1.7 1.8 2.5 3.2 2.0 1.0 입주물량 (전국, 〃) 3.2 2.6 3.0 3.4 3.1 3.8\\n\\n주:1)계약일 기준(2.11일 조회 기준, 계약 해제 건 제외)\\n\\n자료:국토교통부, 부동산114\\n\\n은행 가계대출\\n\\n2023 연중 1월 2024 연중 1월 10월 11월 12월 1월 잔액 은행가계대출1) 36.9 -4.7 46.0 3.3 3.8 1.9 -0.4 -0.5 1,140.5 주택담보대출2) 51.6 0.0 52.1 4.9 3.6 1.5 0.8 1.7 904.3 기타대출3) -14.5 -4.6 -5.9 -1.5 0.3 0.4 -1.1 -2.1 235.3\\n\\n주:1)예금은행(은행신탁 포함) 기준, 종별대출은 신탁 제외\\n\\n2)전세자금대출, 이주비·중도금대출 등 주택담보로 취급되지 않은 주택 관련 대출을 포함\\n\\n한국주택금융공사 정책 모기지 양도분 및 이차보전 방식의 주택도시기금 정책 대출 포함\\n\\n3)일반신용대출, 신용한도대출(마이너스통장대출), 상업용부동산(상가·오피스텔 등) 담보 대출, 기타대출(예·적금담보대출, 주식담보대출 등) 등으로 구성',\n",
       " '제공된 표는 2023년 8월부터 12월까지의 아파트 매매 및 전세 거래량, 분양 및 입주 물량과 2023년과 2024년의 은행 가계 대출 변화를 보여줍니다. 아파트 매매 거래량은 전국적으로 8월에 4.3만 호에서 12월에 2.7만 호로 감소했습니다. 전세 거래량은 5.1만 호에서 4.1만 호로 비슷한 감소세를 보였습니다. 분양 물량은 1.7만 호에서 2.0만 호로 소폭 증가했고, 입주 물량은 3.2만 호에서 3.1만 호로 거의 변동이 없었습니다. 은행 가계 대출은 2023년에 감소했지만, 2024년에 다시 증가하는 추세를 보입니다. 주택담보대출은 2024년 1월에 1.7조원 증가하여 904.3조원의 잔액을 기록했습니다. 기타 대출은 감소세를 보였습니다.',\n",
       " '표는 2024년 8월부터 2025년 1월까지의 은행 가계대출, 기업대출, 회사채 및 CP·단기사채 순발행액 변동 추이를 보여줍니다. 가계대출은 점차 감소하는 추세이며, 기업대출은 변동성이 큽니다. 2025년 1월말 잔액은 가계대출이 1,140.5조원, 기업대출이 1,322.9조원입니다.']"
      ]
     },
     "execution_count": 30,
     "metadata": {},
     "output_type": "execute_result"
    }
   ],
   "source": [
    "text_docs = [\n",
    "    doc.page_content for doc,_ in results\n",
    "]\n",
    "text_docs"
   ]
  },
  {
   "cell_type": "code",
   "execution_count": null,
   "metadata": {},
   "outputs": [],
   "source": [
    "model_id = 'u5ZoEpUBPOHO5xCeyhP0'\n",
    "payload = {\n",
    "    \"query_text\": query,\n",
    "    \"text_docs\": text_docs\n",
    "}\n",
    "\n",
    "response = client.transport.perform_request(\n",
    "    method='POST',\n",
    "    url=f'/_plugins/_ml/models/{model_id}/_predict',\n",
    "    body=payload,\n",
    ")\n",
    "response"
   ]
  },
  {
   "cell_type": "code",
   "execution_count": 60,
   "metadata": {},
   "outputs": [
    {
     "data": {
      "text/plain": [
       "[(Document(metadata={'category': 'Table', 'origin_table': '<table><tr><td>항목</td><td>24.8월</td><td>9월</td><td>10월</td><td>11월</td><td>12월</td><td>25.1월</td><td>25.1월말 잔액</td></tr><tr><td>은행가계대출1)</td><td>9.2</td><td>5.6</td><td>3.8</td><td>1.9</td><td>-0.4</td><td>-0.5</td><td>1,140.5</td></tr><tr><td>주택담보대출2)</td><td>8.2</td><td>6.1</td><td>3.6</td><td>1.5</td><td>0.8</td><td>1.7</td><td>904.3</td></tr><tr><td>기타대출3)</td><td>1.1</td><td>-0.5</td><td>0.3</td><td>0.4</td><td>-1.1</td><td>-2.1</td><td>235.3</td></tr><tr><td>은행기업대출1)</td><td>7.2</td><td>4.3</td><td>8.1</td><td>2.2</td><td>-11.5</td><td>7.8</td><td>1,322.9</td></tr><tr><td>대기업</td><td>1.9</td><td>0.8</td><td>2.9</td><td>0.2</td><td>-4.3</td><td>6.1</td><td>280.6</td></tr><tr><td>중소기업</td><td>5.3</td><td>3.5</td><td>5.3</td><td>2.0</td><td>-7.1</td><td>1.8</td><td>1,042.3</td></tr><tr><td>&lt;중소법인&gt;</td><td>4.5</td><td>3.3</td><td>4.9</td><td>1.5</td><td>-5.8</td><td>2.1</td><td>587.2</td></tr><tr><td>&lt;개인사업자&gt;</td><td>0.8</td><td>0.3</td><td>0.3</td><td>0.4</td><td>-1.3</td><td>-0.3</td><td>455.1</td></tr><tr><td>회사채 순발행4)</td><td>-0.5</td><td>-1.3</td><td>0.6</td><td>0.7</td><td>0.3</td><td>1.8</td><td>-</td></tr><tr><td>CP·단기사채순발행5)</td><td>-1.1</td><td>1.1</td><td>-1.5</td><td>-0.6</td><td>-4.4</td><td>9.1</td><td>62.7</td></tr></table>', 'family_tree': 'parent_table', 'parent_id': 'NA', 'id': '1ebca500-c131-498f-acde-7688e582e633'}, page_content='표는 2024년 8월부터 2025년 1월까지의 은행 가계대출, 기업대출, 회사채 및 CP·단기사채 순발행액 변동 추이를 보여줍니다. 가계대출은 점차 감소하는 추세이며, 기업대출은 변동성이 큽니다. 2025년 1월말 잔액은 가계대출이 1,140.5조원, 기업대출이 1,322.9조원입니다.'),\n",
       "  8.258794),\n",
       " (Document(metadata={'category': 'Table', 'origin_table': '<table><tr><td/><td>8월</td><td>9월</td><td>10월</td><td>11월</td><td>12월</td><td>25.1월</td></tr><tr><td>아파트매매거래량(전국, 만호)1)</td><td>4.3</td><td>3.0</td><td>3.8</td><td>3.1</td><td>2.7</td><td>..</td></tr><tr><td>매매거래량(수도권, 만호)1)</td><td>2.2</td><td>1.3</td><td>1.5</td><td>1.2</td><td>1.0</td><td>..</td></tr><tr><td>매매거래량(서울, 만호)1)</td><td>0.6</td><td>0.3</td><td>0.4</td><td>0.3</td><td>0.3</td><td>..</td></tr><tr><td>전세거래량(전국, 〃)</td><td>5.1</td><td>4.3</td><td>5.2</td><td>4.4</td><td>4.1</td><td>..</td></tr><tr><td>분양물량 (전국, 〃)</td><td>1.7</td><td>1.8</td><td>2.5</td><td>3.2</td><td>2.0</td><td>1.0</td></tr><tr><td>입주물량 (전국, 〃)</td><td>3.2</td><td>2.6</td><td>3.0</td><td>3.4</td><td>3.1</td><td>3.8</td></tr></table> <table><tr><td/><td>2023</td><td>연중</td><td>1월</td><td>2024</td><td>연중</td><td>1월</td><td>10월</td><td>11월</td><td>12월</td><td>1월</td><td>잔액</td><td/><td/><td/><td/><td/><td/></tr><tr><td>은행가계대출1)</td><td>36.9</td><td>-4.7</td><td>46.0</td><td>3.3</td><td>3.8</td><td>1.9</td><td>-0.4</td><td>-0.5</td><td>1,140.5</td><td/><td/><td/><td/><td/><td/><td/><td/></tr><tr><td/><td>주택담보대출2)</td><td/><td/><td/><td/><td/><td>51.6</td><td/><td/><td>0.0</td><td>52.1</td><td>4.9</td><td>3.6</td><td>1.5</td><td>0.8</td><td>1.7</td><td>904.3</td></tr><tr><td/><td>기타대출3)</td><td/><td/><td/><td/><td/><td>-14.5</td><td/><td/><td>-4.6</td><td>-5.9</td><td>-1.5</td><td>0.3</td><td>0.4</td><td>-1.1</td><td>-2.1</td><td>235.3</td></tr></table>', 'family_tree': 'parent_table', 'parent_id': 'NA', 'id': '027774f5-d42f-4b28-9bff-9f0a3c630bc9'}, page_content='제공된 표는 2023년 8월부터 12월까지의 아파트 매매 및 전세 거래량, 분양 및 입주 물량과 2023년과 2024년의 은행 가계 대출 변화를 보여줍니다. 아파트 매매 거래량은 전국적으로 8월에 4.3만 호에서 12월에 2.7만 호로 감소했습니다. 전세 거래량은 5.1만 호에서 4.1만 호로 비슷한 감소세를 보였습니다. 분양 물량은 1.7만 호에서 2.0만 호로 소폭 증가했고, 입주 물량은 3.2만 호에서 3.1만 호로 거의 변동이 없었습니다. 은행 가계 대출은 2023년에 감소했지만, 2024년에 다시 증가하는 추세를 보입니다. 주택담보대출은 2024년 1월에 1.7조원 증가하여 904.3조원의 잔액을 기록했습니다. 기타 대출은 감소세를 보였습니다.'),\n",
       "  7.951606),\n",
       " (Document(metadata={'source': './data/complex_pdf/pickle/parsed_llamaparse_2.md', 'text_as_html': '<table><tr><td/><td>8월</td><td>9월</td><td>10월</td><td>11월</td><td>12월</td><td>25.1월</td></tr><tr><td>아파트매매거래량(전국, 만호)1)</td><td>4.3</td><td>3.0</td><td>3.8</td><td>3.1</td><td>2.7</td><td>..</td></tr><tr><td>매매거래량(수도권, 만호)1)</td><td>2.2</td><td>1.3</td><td>1.5</td><td>1.2</td><td>1.0</td><td>..</td></tr><tr><td>매매거래량(서울, 만호)1)</td><td>0.6</td><td>0.3</td><td>0.4</td><td>0.3</td><td>0.3</td><td>..</td></tr><tr><td>전세거래량(전국, 〃)</td><td>5.1</td><td>4.3</td><td>5.2</td><td>4.4</td><td>4.1</td><td>..</td></tr><tr><td>분양물량 (전국, 〃)</td><td>1.7</td><td>1.8</td><td>2.5</td><td>3.2</td><td>2.0</td><td>1.0</td></tr><tr><td>입주물량 (전국, 〃)</td><td>3.2</td><td>2.6</td><td>3.0</td><td>3.4</td><td>3.1</td><td>3.8</td></tr></table> <table><tr><td/><td>2023</td><td>연중</td><td>1월</td><td>2024</td><td>연중</td><td>1월</td><td>10월</td><td>11월</td><td>12월</td><td>1월</td><td>잔액</td><td/><td/><td/><td/><td/><td/></tr><tr><td>은행가계대출1)</td><td>36.9</td><td>-4.7</td><td>46.0</td><td>3.3</td><td>3.8</td><td>1.9</td><td>-0.4</td><td>-0.5</td><td>1,140.5</td><td/><td/><td/><td/><td/><td/><td/><td/></tr><tr><td/><td>주택담보대출2)</td><td/><td/><td/><td/><td/><td>51.6</td><td/><td/><td>0.0</td><td>52.1</td><td>4.9</td><td>3.6</td><td>1.5</td><td>0.8</td><td>1.7</td><td>904.3</td></tr><tr><td/><td>기타대출3)</td><td/><td/><td/><td/><td/><td>-14.5</td><td/><td/><td>-4.6</td><td>-5.9</td><td>-1.5</td><td>0.3</td><td>0.4</td><td>-1.1</td><td>-2.1</td><td>235.3</td></tr></table>', 'orig_elements': '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', 'languages': ['kor'], 'file_directory': './data/complex_pdf/pickle', 'filename': 'parsed_llamaparse_2.md', 'filetype': 'text/markdown', 'last_modified': '2025-02-14T20:35:19', 'category': 'CompositeElement', 'element_id': 'da57ff0f75abfb74dfdba67c315d03e9', 'family_tree': 'child', 'parent_id': '6220a83b-ae41-417d-82b7-050ef83c5d2d', 'id': '9bde98b9-0a5a-49d9-82be-804e9c5a2e30'}, page_content='가계대출\\n\\n1월 은행 가계대출은 전월에이어 소폭 감소 (24.12월-0.4조원→25.1월-0.5조원;24.1월+3.3조원)\\n\\n주택담보대출은 연초 은행들의 가계대출 취급이 재개되었으나 주택 거래 둔화 등으로 낮은 증가세 지속(+0.8조원→+1.7조원)\\n\\n※전세자금대출증감(조원):24.11월+0.1→12월–0.0→25.1월+0.4(24.1월–0.2)\\n\\n기타대출은 명절·성과상여금 유입 등으로 감소폭이 확대 (-1.1조원→-2.1조원)\\n\\n8월 9월 10월 11월 12월 25.1월 아파트매매거래량(전국, 만호)1) 4.3 3.0 3.8 3.1 2.7 .. 매매거래량(수도권, 만호)1) 2.2 1.3 1.5 1.2 1.0 .. 매매거래량(서울, 만호)1) 0.6 0.3 0.4 0.3 0.3 .. 전세거래량(전국, 〃) 5.1 4.3 5.2 4.4 4.1 .. 분양물량 (전국, 〃) 1.7 1.8 2.5 3.2 2.0 1.0 입주물량 (전국, 〃) 3.2 2.6 3.0 3.4 3.1 3.8\\n\\n주:1)계약일 기준(2.11일 조회 기준, 계약 해제 건 제외)\\n\\n자료:국토교통부, 부동산114\\n\\n은행 가계대출\\n\\n2023 연중 1월 2024 연중 1월 10월 11월 12월 1월 잔액 은행가계대출1) 36.9 -4.7 46.0 3.3 3.8 1.9 -0.4 -0.5 1,140.5 주택담보대출2) 51.6 0.0 52.1 4.9 3.6 1.5 0.8 1.7 904.3 기타대출3) -14.5 -4.6 -5.9 -1.5 0.3 0.4 -1.1 -2.1 235.3\\n\\n주:1)예금은행(은행신탁 포함) 기준, 종별대출은 신탁 제외\\n\\n2)전세자금대출, 이주비·중도금대출 등 주택담보로 취급되지 않은 주택 관련 대출을 포함\\n\\n한국주택금융공사 정책 모기지 양도분 및 이차보전 방식의 주택도시기금 정책 대출 포함\\n\\n3)일반신용대출, 신용한도대출(마이너스통장대출), 상업용부동산(상가·오피스텔 등) 담보 대출, 기타대출(예·적금담보대출, 주식담보대출 등) 등으로 구성'),\n",
       "  4.250247)]"
      ]
     },
     "execution_count": 60,
     "metadata": {},
     "output_type": "execute_result"
    }
   ],
   "source": [
    "sorted([(doc,res['output'][0]['data'][0])for res, (doc, _) in zip(response['inference_results'],results)],key=lambda x: x[1], reverse=True)"
   ]
  },
  {
   "cell_type": "code",
   "execution_count": null,
   "metadata": {},
   "outputs": [],
   "source": [
    "client.ml.search_models(\n",
    "    body={\n",
    "        'query': {\n",
    "            'bool': {\n",
    "                'should': [\n",
    "                    {\n",
    "                        \"match\": {\n",
    "                            \"name\": \"cross-encoder\"\n",
    "                        }\n",
    "                    }\n",
    "                ]\n",
    "            }\n",
    "        },\n",
    "        'size': 10\n",
    "    }\n",
    ")"
   ]
  }
 ],
 "metadata": {
  "kernelspec": {
   "display_name": "rag",
   "language": "python",
   "name": "python3"
  },
  "language_info": {
   "codemirror_mode": {
    "name": "ipython",
    "version": 3
   },
   "file_extension": ".py",
   "mimetype": "text/x-python",
   "name": "python",
   "nbconvert_exporter": "python",
   "pygments_lexer": "ipython3",
   "version": "3.13.2"
  }
 },
 "nbformat": 4,
 "nbformat_minor": 2
}
