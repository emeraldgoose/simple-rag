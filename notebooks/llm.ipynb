{
 "cells": [
  {
   "cell_type": "code",
   "execution_count": 1,
   "metadata": {},
   "outputs": [
    {
     "data": {
      "text/plain": [
       "True"
      ]
     },
     "execution_count": 1,
     "metadata": {},
     "output_type": "execute_result"
    }
   ],
   "source": [
    "from dotenv import load_dotenv\n",
    "load_dotenv('secret.env')"
   ]
  },
  {
   "cell_type": "code",
   "execution_count": 40,
   "metadata": {},
   "outputs": [],
   "source": [
    "invoke_args = {\n",
    "    'question': \"2024 하반기 은행 가계대출 변화량을 설명해봐\",\n",
    "    'contexts': \"\"\"가계대출\\n\\n1월 은행 가계대출은 전월에이어 소폭 감소 (24.12월-0.4조원→25.1월-0.5조원;24.1월+3.3조원)\\n\\n주택담보대출은 연초 은행들의 가계대출 취급이 재개되었으나 주택 거래 둔화 등으로 낮은 증가세 지속(+0.8조원→+1.7조원)\\n\\n※전세자금대출증감(조원):24.11월+0.1→12월–0.0→25.1월+0.4(24.1월–0.2)\\n\\n기타대출은 명절·성과상여금 유입 등으로 감소폭이 확대 (-1.1조원→-2.1조원)\\n\\n8월 9월 10월 11월 12월 25.1월 아파트매매거래량(전국, 만호)1) 4.3 3.0 3.8 3.1 2.7 .. 매매거래량(수도권, 만호)1) 2.2 1.3 1.5 1.2 1.0 .. 매매거래량(서울, 만호)1) 0.6 0.3 0.4 0.3 0.3 .. 전세거래량(전국, 〃) 5.1 4.3 5.2 4.4 4.1 .. 분양물량 (전국, 〃) 1.7 1.8 2.5 3.2 2.0 1.0 입주물량 (전국, 〃) 3.2 2.6 3.0 3.4 3.1 3.8\\n\\n주:1)계약일 기준(2.11일 조회 기준, 계약 해제 건 제외)\\n\\n자료:국토교통부, 부동산114\\n\\n은행 가계대출\\n\\n2023 연중 1월 2024 연중 1월 10월 11월 12월 1월 잔액 은행가계대출1) 36.9 -4.7 46.0 3.3 3.8 1.9 -0.4 -0.5 1,140.5 주택담보대출2) 51.6 0.0 52.1 4.9 3.6 1.5 0.8 1.7 904.3 기타대출3) -14.5 -4.6 -5.9 -1.5 0.3 0.4 -1.1 -2.1 235.3\\n\\n주:1)예금은행(은행신탁 포함) 기준, 종별대출은 신탁 제외\\n\\n2)전세자금대출, 이주비·중도금대출 등 주택담보로 취급되지 않은 주택 관련 대출을 포함\\n\\n한국주택금융공사 정책 모기지 양도분 및 이차보전 방식의 주택도시기금 정책 대출 포함\\n\\n3)일반신용대출, 신용한도대출(마이너스통장대출), 상업용부동산(상가·오피스텔 등) 담보 대출, 기타대출(예·적금담보대출, 주식담보대출 등) 등으로 구성\\n\\n제공된 표는 2023년 8월부터 12월까지의 아파트 매매 및 전세 거래량, 분양 및 입주 물량과 2023년과 2024년의 은행 가계 대출 변화를 보여줍니다. 아파트 매매 거래량은 전국적으로 8월에 4.3만 호에서 12월에 2.7만 호로 감소했습니다. 전세 거래량은 5.1만 호에서 4.1만 호로 비슷한 감소세를 보였습니다. 분양 물량은 1.7만 호에서 2.0만 호로 소폭 증가했고, 입주 물량은 3.2만 호에서 3.1만 호로 거의 변동이 없었습니다. 은행 가계 대출은 2023년에 감소했지만, 2024년에 다시 증가하는 추세를 보입니다. 주택담보대출은 2024년 1월에 1.7조원 증가하여 904.3조원의 잔액을 기록했습니다. 기타 대출은 감소세를 보였습니다.\\n\\n표는 2024년 8월부터 2025년 1월까지의 은행 가계대출, 기업대출, 회사채 및 CP·단기사채 순발행액 변동 추이를 보여줍니다. 가계대출은 점차 감소하는 추세이며, 기업대출은 변동성이 큽니다. 2025년 1월말 잔액은 가계대출이 1,140.5조원, 기업대출이 1,322.9조원입니다.\"\"\",\n",
    "    'tables_html': \"\"\"<table><tr><td/><td>8월</td><td>9월</td><td>10월</td><td>11월</td><td>12월</td><td>25.1월</td></tr><tr><td>아파트매매거래량(전국, 만호)1)</td><td>4.3</td><td>3.0</td><td>3.8</td><td>3.1</td><td>2.7</td><td>..</td></tr><tr><td>매매거래량(수도권, 만호)1)</td><td>2.2</td><td>1.3</td><td>1.5</td><td>1.2</td><td>1.0</td><td>..</td></tr><tr><td>매매거래량(서울, 만호)1)</td><td>0.6</td><td>0.3</td><td>0.4</td><td>0.3</td><td>0.3</td><td>..</td></tr><tr><td>전세거래량(전국, 〃)</td><td>5.1</td><td>4.3</td><td>5.2</td><td>4.4</td><td>4.1</td><td>..</td></tr><tr><td>분양물량 (전국, 〃)</td><td>1.7</td><td>1.8</td><td>2.5</td><td>3.2</td><td>2.0</td><td>1.0</td></tr><tr><td>입주물량 (전국, 〃)</td><td>3.2</td><td>2.6</td><td>3.0</td><td>3.4</td><td>3.1</td><td>3.8</td></tr></table> <table><tr><td/><td>2023</td><td>연중</td><td>1월</td><td>2024</td><td>연중</td><td>1월</td><td>10월</td><td>11월</td><td>12월</td><td>1월</td><td>잔액</td><td/><td/><td/><td/><td/><td/></tr><tr><td>은행가계대출1)</td><td>36.9</td><td>-4.7</td><td>46.0</td><td>3.3</td><td>3.8</td><td>1.9</td><td>-0.4</td><td>-0.5</td><td>1,140.5</td><td/><td/><td/><td/><td/><td/><td/><td/></tr><tr><td/><td>주택담보대출2)</td><td/><td/><td/><td/><td/><td>51.6</td><td/><td/><td>0.0</td><td>52.1</td><td>4.9</td><td>3.6</td><td>1.5</td><td>0.8</td><td>1.7</td><td>904.3</td></tr><tr><td/><td>기타대출3)</td><td/><td/><td/><td/><td/><td>-14.5</td><td/><td/><td>-4.6</td><td>-5.9</td><td>-1.5</td><td>0.3</td><td>0.4</td><td>-1.1</td><td>-2.1</td><td>235.3</td></tr></table>\\n\\n<table><tr><td/><td>8월</td><td>9월</td><td>10월</td><td>11월</td><td>12월</td><td>25.1월</td></tr><tr><td>아파트매매거래량(전국, 만호)1)</td><td>4.3</td><td>3.0</td><td>3.8</td><td>3.1</td><td>2.7</td><td>..</td></tr><tr><td>매매거래량(수도권, 만호)1)</td><td>2.2</td><td>1.3</td><td>1.5</td><td>1.2</td><td>1.0</td><td>..</td></tr><tr><td>매매거래량(서울, 만호)1)</td><td>0.6</td><td>0.3</td><td>0.4</td><td>0.3</td><td>0.3</td><td>..</td></tr><tr><td>전세거래량(전국, 〃)</td><td>5.1</td><td>4.3</td><td>5.2</td><td>4.4</td><td>4.1</td><td>..</td></tr><tr><td>분양물량 (전국, 〃)</td><td>1.7</td><td>1.8</td><td>2.5</td><td>3.2</td><td>2.0</td><td>1.0</td></tr><tr><td>입주물량 (전국, 〃)</td><td>3.2</td><td>2.6</td><td>3.0</td><td>3.4</td><td>3.1</td><td>3.8</td></tr></table> <table><tr><td/><td>2023</td><td>연중</td><td>1월</td><td>2024</td><td>연중</td><td>1월</td><td>10월</td><td>11월</td><td>12월</td><td>1월</td><td>잔액</td><td/><td/><td/><td/><td/><td/></tr><tr><td>은행가계대출1)</td><td>36.9</td><td>-4.7</td><td>46.0</td><td>3.3</td><td>3.8</td><td>1.9</td><td>-0.4</td><td>-0.5</td><td>1,140.5</td><td/><td/><td/><td/><td/><td/><td/><td/></tr><tr><td/><td>주택담보대출2)</td><td/><td/><td/><td/><td/><td>51.6</td><td/><td/><td>0.0</td><td>52.1</td><td>4.9</td><td>3.6</td><td>1.5</td><td>0.8</td><td>1.7</td><td>904.3</td></tr><tr><td/><td>기타대출3)</td><td/><td/><td/><td/><td/><td>-14.5</td><td/><td/><td>-4.6</td><td>-5.9</td><td>-1.5</td><td>0.3</td><td>0.4</td><td>-1.1</td><td>-2.1</td><td>235.3</td></tr></table>\\n\\n<table><tr><td>항목</td><td>24.8월</td><td>9월</td><td>10월</td><td>11월</td><td>12월</td><td>25.1월</td><td>25.1월말 잔액</td></tr><tr><td>은행가계대출1)</td><td>9.2</td><td>5.6</td><td>3.8</td><td>1.9</td><td>-0.4</td><td>-0.5</td><td>1,140.5</td></tr><tr><td>주택담보대출2)</td><td>8.2</td><td>6.1</td><td>3.6</td><td>1.5</td><td>0.8</td><td>1.7</td><td>904.3</td></tr><tr><td>기타대출3)</td><td>1.1</td><td>-0.5</td><td>0.3</td><td>0.4</td><td>-1.1</td><td>-2.1</td><td>235.3</td></tr><tr><td>은행기업대출1)</td><td>7.2</td><td>4.3</td><td>8.1</td><td>2.2</td><td>-11.5</td><td>7.8</td><td>1,322.9</td></tr><tr><td>대기업</td><td>1.9</td><td>0.8</td><td>2.9</td><td>0.2</td><td>-4.3</td><td>6.1</td><td>280.6</td></tr><tr><td>중소기업</td><td>5.3</td><td>3.5</td><td>5.3</td><td>2.0</td><td>-7.1</td><td>1.8</td><td>1,042.3</td></tr><tr><td>&lt;중소법인&gt;</td><td>4.5</td><td>3.3</td><td>4.9</td><td>1.5</td><td>-5.8</td><td>2.1</td><td>587.2</td></tr><tr><td>&lt;개인사업자&gt;</td><td>0.8</td><td>0.3</td><td>0.3</td><td>0.4</td><td>-1.3</td><td>-0.3</td><td>455.1</td></tr><tr><td>회사채 순발행4)</td><td>-0.5</td><td>-1.3</td><td>0.6</td><td>0.7</td><td>0.3</td><td>1.8</td><td>-</td></tr><tr><td>CP·단기사채순발행5)</td><td>-1.1</td><td>1.1</td><td>-1.5</td><td>-0.6</td><td>-4.4</td><td>9.1</td><td>62.7</td></tr></table>\"\"\"\n",
    "}"
   ]
  },
  {
   "cell_type": "code",
   "execution_count": 41,
   "metadata": {},
   "outputs": [],
   "source": [
    "system_prompt = \"\"\"You are a master answer bot designed to answer user's question.\n",
    "I'm going to give you contexts which consist of texts, tables and images.\n",
    "Read the contexts carefully, because I'm going to ask you a question about it.\n",
    "\"\"\"\n",
    "\n",
    "text_template = \"\"\"Here is the contexts as texts: <context>{contexts}</context>\n",
    "TABLE_PROMPT\n",
    "\n",
    "First, find a few paragraphs or sentences from the contexts that are most relevant to answering the question.\n",
    "Then, answer the question as much as you can.\n",
    "\n",
    "Skip the preamble and go straight into the answer.\n",
    "Don't insert any XML tag such as <contexts> and </contexts> when answering.\n",
    "Answer in Korean.\n",
    "\n",
    "Here is the question: <question>{question}</question>\n",
    "\n",
    "If the question cannot be answered by the contexts. say \"No relevant contexts\".\n",
    "\"\"\"\n",
    "\n",
    "table_prompt = \"\"\"Here is the contexts as tables (table as html): <table_summary>{tables_html}</tables_summary>\"\"\""
   ]
  },
  {
   "cell_type": "code",
   "execution_count": 43,
   "metadata": {},
   "outputs": [
    {
     "name": "stdout",
     "output_type": "stream",
     "text": [
      "ChatPromptTemplate(input_variables=['contexts', 'question', 'tables_html'], input_types={}, partial_variables={}, messages=[HumanMessagePromptTemplate(prompt=PromptTemplate(input_variables=[], input_types={}, partial_variables={}, template=\"You are a master answer bot designed to answer user's question.\\nI'm going to give you contexts which consist of texts, tables and images.\\nRead the contexts carefully, because I'm going to ask you a question about it.\\n\"), additional_kwargs={}), HumanMessagePromptTemplate(prompt=PromptTemplate(input_variables=['contexts', 'question', 'tables_html'], input_types={}, partial_variables={}, template='Here is the contexts as texts: <context>{contexts}</context>\\nHere is the contexts as tables (table as html): <table_summary>{tables_html}</tables_summary>\\n\\nFirst, find a few paragraphs or sentences from the contexts that are most relevant to answering the question.\\nThen, answer the question as much as you can.\\n\\nSkip the preamble and go straight into the answer.\\nDon\\'t insert any XML tag such as <contexts> and </contexts> when answering.\\nAnswer in Korean.\\n\\nHere is the question: <question>{question}</question>\\n\\nIf the question cannot be answered by the contexts. say \"No relevant contexts\".\\n'), additional_kwargs={})])\n"
     ]
    }
   ],
   "source": [
    "from pprint import pprint\n",
    "from langchain_core.prompts import ChatPromptTemplate, HumanMessagePromptTemplate, SystemMessagePromptTemplate\n",
    "\n",
    "system_message_template = SystemMessagePromptTemplate.from_template(system_prompt)\n",
    "human_prompt = text_template.replace('TABLE_PROMPT',table_prompt if 'tables_html' in invoke_args.keys() else '')\n",
    "human_message_template = HumanMessagePromptTemplate.from_template(human_prompt)\n",
    "\n",
    "prompt = ChatPromptTemplate.from_messages([system_prompt, human_message_template])\n",
    "pprint(prompt)"
   ]
  },
  {
   "cell_type": "code",
   "execution_count": 44,
   "metadata": {},
   "outputs": [
    {
     "data": {
      "text/plain": [
       "GoogleGenerativeAI(model='gemini-2.0-flash-001', google_api_key=SecretStr('**********'), temperature=0.0, client=genai.GenerativeModel(\n",
       "    model_name='models/gemini-2.0-flash-001',\n",
       "    generation_config={},\n",
       "    safety_settings={},\n",
       "    tools=None,\n",
       "    system_instruction=None,\n",
       "    cached_content=None\n",
       "))"
      ]
     },
     "execution_count": 44,
     "metadata": {},
     "output_type": "execute_result"
    }
   ],
   "source": [
    "import os\n",
    "from langchain_google_genai import GoogleGenerativeAI\n",
    "\n",
    "llm = GoogleGenerativeAI(model='gemini-2.0-flash-001',temperature=0.0)\n",
    "llm"
   ]
  },
  {
   "cell_type": "code",
   "execution_count": 45,
   "metadata": {},
   "outputs": [],
   "source": [
    "from langchain.schema import StrOutputParser\n",
    "from langchain_core.tracers import ConsoleCallbackHandler\n",
    "\n",
    "chain = prompt | llm | StrOutputParser()"
   ]
  },
  {
   "cell_type": "code",
   "execution_count": 46,
   "metadata": {},
   "outputs": [
    {
     "name": "stdout",
     "output_type": "stream",
     "text": [
      "\u001b[32;1m\u001b[1;3m[chain/start]\u001b[0m \u001b[1m[chain:RunnableSequence] Entering Chain run with input:\n",
      "\u001b[0m{\n",
      "  \"question\": \"2024 하반기 은행 가계대출 변화량을 설명해봐\",\n",
      "  \"contexts\": \"가계대출\\n\\n1월 은행 가계대출은 전월에이어 소폭 감소 (24.12월-0.4조원→25.1월-0.5조원;24.1월+3.3조원)\\n\\n주택담보대출은 연초 은행들의 가계대출 취급이 재개되었으나 주택 거래 둔화 등으로 낮은 증가세 지속(+0.8조원→+1.7조원)\\n\\n※전세자금대출증감(조원):24.11월+0.1→12월–0.0→25.1월+0.4(24.1월–0.2)\\n\\n기타대출은 명절·성과상여금 유입 등으로 감소폭이 확대 (-1.1조원→-2.1조원)\\n\\n8월 9월 10월 11월 12월 25.1월 아파트매매거래량(전국, 만호)1) 4.3 3.0 3.8 3.1 2.7 .. 매매거래량(수도권, 만호)1) 2.2 1.3 1.5 1.2 1.0 .. 매매거래량(서울, 만호)1) 0.6 0.3 0.4 0.3 0.3 .. 전세거래량(전국, 〃) 5.1 4.3 5.2 4.4 4.1 .. 분양물량 (전국, 〃) 1.7 1.8 2.5 3.2 2.0 1.0 입주물량 (전국, 〃) 3.2 2.6 3.0 3.4 3.1 3.8\\n\\n주:1)계약일 기준(2.11일 조회 기준, 계약 해제 건 제외)\\n\\n자료:국토교통부, 부동산114\\n\\n은행 가계대출\\n\\n2023 연중 1월 2024 연중 1월 10월 11월 12월 1월 잔액 은행가계대출1) 36.9 -4.7 46.0 3.3 3.8 1.9 -0.4 -0.5 1,140.5 주택담보대출2) 51.6 0.0 52.1 4.9 3.6 1.5 0.8 1.7 904.3 기타대출3) -14.5 -4.6 -5.9 -1.5 0.3 0.4 -1.1 -2.1 235.3\\n\\n주:1)예금은행(은행신탁 포함) 기준, 종별대출은 신탁 제외\\n\\n2)전세자금대출, 이주비·중도금대출 등 주택담보로 취급되지 않은 주택 관련 대출을 포함\\n\\n한국주택금융공사 정책 모기지 양도분 및 이차보전 방식의 주택도시기금 정책 대출 포함\\n\\n3)일반신용대출, 신용한도대출(마이너스통장대출), 상업용부동산(상가·오피스텔 등) 담보 대출, 기타대출(예·적금담보대출, 주식담보대출 등) 등으로 구성\\n\\n제공된 표는 2023년 8월부터 12월까지의 아파트 매매 및 전세 거래량, 분양 및 입주 물량과 2023년과 2024년의 은행 가계 대출 변화를 보여줍니다. 아파트 매매 거래량은 전국적으로 8월에 4.3만 호에서 12월에 2.7만 호로 감소했습니다. 전세 거래량은 5.1만 호에서 4.1만 호로 비슷한 감소세를 보였습니다. 분양 물량은 1.7만 호에서 2.0만 호로 소폭 증가했고, 입주 물량은 3.2만 호에서 3.1만 호로 거의 변동이 없었습니다. 은행 가계 대출은 2023년에 감소했지만, 2024년에 다시 증가하는 추세를 보입니다. 주택담보대출은 2024년 1월에 1.7조원 증가하여 904.3조원의 잔액을 기록했습니다. 기타 대출은 감소세를 보였습니다.\\n\\n표는 2024년 8월부터 2025년 1월까지의 은행 가계대출, 기업대출, 회사채 및 CP·단기사채 순발행액 변동 추이를 보여줍니다. 가계대출은 점차 감소하는 추세이며, 기업대출은 변동성이 큽니다. 2025년 1월말 잔액은 가계대출이 1,140.5조원, 기업대출이 1,322.9조원입니다.\",\n",
      "  \"tables_html\": \"<table><tr><td/><td>8월</td><td>9월</td><td>10월</td><td>11월</td><td>12월</td><td>25.1월</td></tr><tr><td>아파트매매거래량(전국, 만호)1)</td><td>4.3</td><td>3.0</td><td>3.8</td><td>3.1</td><td>2.7</td><td>..</td></tr><tr><td>매매거래량(수도권, 만호)1)</td><td>2.2</td><td>1.3</td><td>1.5</td><td>1.2</td><td>1.0</td><td>..</td></tr><tr><td>매매거래량(서울, 만호)1)</td><td>0.6</td><td>0.3</td><td>0.4</td><td>0.3</td><td>0.3</td><td>..</td></tr><tr><td>전세거래량(전국, 〃)</td><td>5.1</td><td>4.3</td><td>5.2</td><td>4.4</td><td>4.1</td><td>..</td></tr><tr><td>분양물량 (전국, 〃)</td><td>1.7</td><td>1.8</td><td>2.5</td><td>3.2</td><td>2.0</td><td>1.0</td></tr><tr><td>입주물량 (전국, 〃)</td><td>3.2</td><td>2.6</td><td>3.0</td><td>3.4</td><td>3.1</td><td>3.8</td></tr></table> <table><tr><td/><td>2023</td><td>연중</td><td>1월</td><td>2024</td><td>연중</td><td>1월</td><td>10월</td><td>11월</td><td>12월</td><td>1월</td><td>잔액</td><td/><td/><td/><td/><td/><td/></tr><tr><td>은행가계대출1)</td><td>36.9</td><td>-4.7</td><td>46.0</td><td>3.3</td><td>3.8</td><td>1.9</td><td>-0.4</td><td>-0.5</td><td>1,140.5</td><td/><td/><td/><td/><td/><td/><td/><td/></tr><tr><td/><td>주택담보대출2)</td><td/><td/><td/><td/><td/><td>51.6</td><td/><td/><td>0.0</td><td>52.1</td><td>4.9</td><td>3.6</td><td>1.5</td><td>0.8</td><td>1.7</td><td>904.3</td></tr><tr><td/><td>기타대출3)</td><td/><td/><td/><td/><td/><td>-14.5</td><td/><td/><td>-4.6</td><td>-5.9</td><td>-1.5</td><td>0.3</td><td>0.4</td><td>-1.1</td><td>-2.1</td><td>235.3</td></tr></table>\\n\\n<table><tr><td/><td>8월</td><td>9월</td><td>10월</td><td>11월</td><td>12월</td><td>25.1월</td></tr><tr><td>아파트매매거래량(전국, 만호)1)</td><td>4.3</td><td>3.0</td><td>3.8</td><td>3.1</td><td>2.7</td><td>..</td></tr><tr><td>매매거래량(수도권, 만호)1)</td><td>2.2</td><td>1.3</td><td>1.5</td><td>1.2</td><td>1.0</td><td>..</td></tr><tr><td>매매거래량(서울, 만호)1)</td><td>0.6</td><td>0.3</td><td>0.4</td><td>0.3</td><td>0.3</td><td>..</td></tr><tr><td>전세거래량(전국, 〃)</td><td>5.1</td><td>4.3</td><td>5.2</td><td>4.4</td><td>4.1</td><td>..</td></tr><tr><td>분양물량 (전국, 〃)</td><td>1.7</td><td>1.8</td><td>2.5</td><td>3.2</td><td>2.0</td><td>1.0</td></tr><tr><td>입주물량 (전국, 〃)</td><td>3.2</td><td>2.6</td><td>3.0</td><td>3.4</td><td>3.1</td><td>3.8</td></tr></table> <table><tr><td/><td>2023</td><td>연중</td><td>1월</td><td>2024</td><td>연중</td><td>1월</td><td>10월</td><td>11월</td><td>12월</td><td>1월</td><td>잔액</td><td/><td/><td/><td/><td/><td/></tr><tr><td>은행가계대출1)</td><td>36.9</td><td>-4.7</td><td>46.0</td><td>3.3</td><td>3.8</td><td>1.9</td><td>-0.4</td><td>-0.5</td><td>1,140.5</td><td/><td/><td/><td/><td/><td/><td/><td/></tr><tr><td/><td>주택담보대출2)</td><td/><td/><td/><td/><td/><td>51.6</td><td/><td/><td>0.0</td><td>52.1</td><td>4.9</td><td>3.6</td><td>1.5</td><td>0.8</td><td>1.7</td><td>904.3</td></tr><tr><td/><td>기타대출3)</td><td/><td/><td/><td/><td/><td>-14.5</td><td/><td/><td>-4.6</td><td>-5.9</td><td>-1.5</td><td>0.3</td><td>0.4</td><td>-1.1</td><td>-2.1</td><td>235.3</td></tr></table>\\n\\n<table><tr><td>항목</td><td>24.8월</td><td>9월</td><td>10월</td><td>11월</td><td>12월</td><td>25.1월</td><td>25.1월말 잔액</td></tr><tr><td>은행가계대출1)</td><td>9.2</td><td>5.6</td><td>3.8</td><td>1.9</td><td>-0.4</td><td>-0.5</td><td>1,140.5</td></tr><tr><td>주택담보대출2)</td><td>8.2</td><td>6.1</td><td>3.6</td><td>1.5</td><td>0.8</td><td>1.7</td><td>904.3</td></tr><tr><td>기타대출3)</td><td>1.1</td><td>-0.5</td><td>0.3</td><td>0.4</td><td>-1.1</td><td>-2.1</td><td>235.3</td></tr><tr><td>은행기업대출1)</td><td>7.2</td><td>4.3</td><td>8.1</td><td>2.2</td><td>-11.5</td><td>7.8</td><td>1,322.9</td></tr><tr><td>대기업</td><td>1.9</td><td>0.8</td><td>2.9</td><td>0.2</td><td>-4.3</td><td>6.1</td><td>280.6</td></tr><tr><td>중소기업</td><td>5.3</td><td>3.5</td><td>5.3</td><td>2.0</td><td>-7.1</td><td>1.8</td><td>1,042.3</td></tr><tr><td>&lt;중소법인&gt;</td><td>4.5</td><td>3.3</td><td>4.9</td><td>1.5</td><td>-5.8</td><td>2.1</td><td>587.2</td></tr><tr><td>&lt;개인사업자&gt;</td><td>0.8</td><td>0.3</td><td>0.3</td><td>0.4</td><td>-1.3</td><td>-0.3</td><td>455.1</td></tr><tr><td>회사채 순발행4)</td><td>-0.5</td><td>-1.3</td><td>0.6</td><td>0.7</td><td>0.3</td><td>1.8</td><td>-</td></tr><tr><td>CP·단기사채순발행5)</td><td>-1.1</td><td>1.1</td><td>-1.5</td><td>-0.6</td><td>-4.4</td><td>9.1</td><td>62.7</td></tr></table>\"\n",
      "}\n",
      "\u001b[32;1m\u001b[1;3m[chain/start]\u001b[0m \u001b[1m[chain:RunnableSequence > prompt:ChatPromptTemplate] Entering Prompt run with input:\n",
      "\u001b[0m{\n",
      "  \"question\": \"2024 하반기 은행 가계대출 변화량을 설명해봐\",\n",
      "  \"contexts\": \"가계대출\\n\\n1월 은행 가계대출은 전월에이어 소폭 감소 (24.12월-0.4조원→25.1월-0.5조원;24.1월+3.3조원)\\n\\n주택담보대출은 연초 은행들의 가계대출 취급이 재개되었으나 주택 거래 둔화 등으로 낮은 증가세 지속(+0.8조원→+1.7조원)\\n\\n※전세자금대출증감(조원):24.11월+0.1→12월–0.0→25.1월+0.4(24.1월–0.2)\\n\\n기타대출은 명절·성과상여금 유입 등으로 감소폭이 확대 (-1.1조원→-2.1조원)\\n\\n8월 9월 10월 11월 12월 25.1월 아파트매매거래량(전국, 만호)1) 4.3 3.0 3.8 3.1 2.7 .. 매매거래량(수도권, 만호)1) 2.2 1.3 1.5 1.2 1.0 .. 매매거래량(서울, 만호)1) 0.6 0.3 0.4 0.3 0.3 .. 전세거래량(전국, 〃) 5.1 4.3 5.2 4.4 4.1 .. 분양물량 (전국, 〃) 1.7 1.8 2.5 3.2 2.0 1.0 입주물량 (전국, 〃) 3.2 2.6 3.0 3.4 3.1 3.8\\n\\n주:1)계약일 기준(2.11일 조회 기준, 계약 해제 건 제외)\\n\\n자료:국토교통부, 부동산114\\n\\n은행 가계대출\\n\\n2023 연중 1월 2024 연중 1월 10월 11월 12월 1월 잔액 은행가계대출1) 36.9 -4.7 46.0 3.3 3.8 1.9 -0.4 -0.5 1,140.5 주택담보대출2) 51.6 0.0 52.1 4.9 3.6 1.5 0.8 1.7 904.3 기타대출3) -14.5 -4.6 -5.9 -1.5 0.3 0.4 -1.1 -2.1 235.3\\n\\n주:1)예금은행(은행신탁 포함) 기준, 종별대출은 신탁 제외\\n\\n2)전세자금대출, 이주비·중도금대출 등 주택담보로 취급되지 않은 주택 관련 대출을 포함\\n\\n한국주택금융공사 정책 모기지 양도분 및 이차보전 방식의 주택도시기금 정책 대출 포함\\n\\n3)일반신용대출, 신용한도대출(마이너스통장대출), 상업용부동산(상가·오피스텔 등) 담보 대출, 기타대출(예·적금담보대출, 주식담보대출 등) 등으로 구성\\n\\n제공된 표는 2023년 8월부터 12월까지의 아파트 매매 및 전세 거래량, 분양 및 입주 물량과 2023년과 2024년의 은행 가계 대출 변화를 보여줍니다. 아파트 매매 거래량은 전국적으로 8월에 4.3만 호에서 12월에 2.7만 호로 감소했습니다. 전세 거래량은 5.1만 호에서 4.1만 호로 비슷한 감소세를 보였습니다. 분양 물량은 1.7만 호에서 2.0만 호로 소폭 증가했고, 입주 물량은 3.2만 호에서 3.1만 호로 거의 변동이 없었습니다. 은행 가계 대출은 2023년에 감소했지만, 2024년에 다시 증가하는 추세를 보입니다. 주택담보대출은 2024년 1월에 1.7조원 증가하여 904.3조원의 잔액을 기록했습니다. 기타 대출은 감소세를 보였습니다.\\n\\n표는 2024년 8월부터 2025년 1월까지의 은행 가계대출, 기업대출, 회사채 및 CP·단기사채 순발행액 변동 추이를 보여줍니다. 가계대출은 점차 감소하는 추세이며, 기업대출은 변동성이 큽니다. 2025년 1월말 잔액은 가계대출이 1,140.5조원, 기업대출이 1,322.9조원입니다.\",\n",
      "  \"tables_html\": \"<table><tr><td/><td>8월</td><td>9월</td><td>10월</td><td>11월</td><td>12월</td><td>25.1월</td></tr><tr><td>아파트매매거래량(전국, 만호)1)</td><td>4.3</td><td>3.0</td><td>3.8</td><td>3.1</td><td>2.7</td><td>..</td></tr><tr><td>매매거래량(수도권, 만호)1)</td><td>2.2</td><td>1.3</td><td>1.5</td><td>1.2</td><td>1.0</td><td>..</td></tr><tr><td>매매거래량(서울, 만호)1)</td><td>0.6</td><td>0.3</td><td>0.4</td><td>0.3</td><td>0.3</td><td>..</td></tr><tr><td>전세거래량(전국, 〃)</td><td>5.1</td><td>4.3</td><td>5.2</td><td>4.4</td><td>4.1</td><td>..</td></tr><tr><td>분양물량 (전국, 〃)</td><td>1.7</td><td>1.8</td><td>2.5</td><td>3.2</td><td>2.0</td><td>1.0</td></tr><tr><td>입주물량 (전국, 〃)</td><td>3.2</td><td>2.6</td><td>3.0</td><td>3.4</td><td>3.1</td><td>3.8</td></tr></table> <table><tr><td/><td>2023</td><td>연중</td><td>1월</td><td>2024</td><td>연중</td><td>1월</td><td>10월</td><td>11월</td><td>12월</td><td>1월</td><td>잔액</td><td/><td/><td/><td/><td/><td/></tr><tr><td>은행가계대출1)</td><td>36.9</td><td>-4.7</td><td>46.0</td><td>3.3</td><td>3.8</td><td>1.9</td><td>-0.4</td><td>-0.5</td><td>1,140.5</td><td/><td/><td/><td/><td/><td/><td/><td/></tr><tr><td/><td>주택담보대출2)</td><td/><td/><td/><td/><td/><td>51.6</td><td/><td/><td>0.0</td><td>52.1</td><td>4.9</td><td>3.6</td><td>1.5</td><td>0.8</td><td>1.7</td><td>904.3</td></tr><tr><td/><td>기타대출3)</td><td/><td/><td/><td/><td/><td>-14.5</td><td/><td/><td>-4.6</td><td>-5.9</td><td>-1.5</td><td>0.3</td><td>0.4</td><td>-1.1</td><td>-2.1</td><td>235.3</td></tr></table>\\n\\n<table><tr><td/><td>8월</td><td>9월</td><td>10월</td><td>11월</td><td>12월</td><td>25.1월</td></tr><tr><td>아파트매매거래량(전국, 만호)1)</td><td>4.3</td><td>3.0</td><td>3.8</td><td>3.1</td><td>2.7</td><td>..</td></tr><tr><td>매매거래량(수도권, 만호)1)</td><td>2.2</td><td>1.3</td><td>1.5</td><td>1.2</td><td>1.0</td><td>..</td></tr><tr><td>매매거래량(서울, 만호)1)</td><td>0.6</td><td>0.3</td><td>0.4</td><td>0.3</td><td>0.3</td><td>..</td></tr><tr><td>전세거래량(전국, 〃)</td><td>5.1</td><td>4.3</td><td>5.2</td><td>4.4</td><td>4.1</td><td>..</td></tr><tr><td>분양물량 (전국, 〃)</td><td>1.7</td><td>1.8</td><td>2.5</td><td>3.2</td><td>2.0</td><td>1.0</td></tr><tr><td>입주물량 (전국, 〃)</td><td>3.2</td><td>2.6</td><td>3.0</td><td>3.4</td><td>3.1</td><td>3.8</td></tr></table> <table><tr><td/><td>2023</td><td>연중</td><td>1월</td><td>2024</td><td>연중</td><td>1월</td><td>10월</td><td>11월</td><td>12월</td><td>1월</td><td>잔액</td><td/><td/><td/><td/><td/><td/></tr><tr><td>은행가계대출1)</td><td>36.9</td><td>-4.7</td><td>46.0</td><td>3.3</td><td>3.8</td><td>1.9</td><td>-0.4</td><td>-0.5</td><td>1,140.5</td><td/><td/><td/><td/><td/><td/><td/><td/></tr><tr><td/><td>주택담보대출2)</td><td/><td/><td/><td/><td/><td>51.6</td><td/><td/><td>0.0</td><td>52.1</td><td>4.9</td><td>3.6</td><td>1.5</td><td>0.8</td><td>1.7</td><td>904.3</td></tr><tr><td/><td>기타대출3)</td><td/><td/><td/><td/><td/><td>-14.5</td><td/><td/><td>-4.6</td><td>-5.9</td><td>-1.5</td><td>0.3</td><td>0.4</td><td>-1.1</td><td>-2.1</td><td>235.3</td></tr></table>\\n\\n<table><tr><td>항목</td><td>24.8월</td><td>9월</td><td>10월</td><td>11월</td><td>12월</td><td>25.1월</td><td>25.1월말 잔액</td></tr><tr><td>은행가계대출1)</td><td>9.2</td><td>5.6</td><td>3.8</td><td>1.9</td><td>-0.4</td><td>-0.5</td><td>1,140.5</td></tr><tr><td>주택담보대출2)</td><td>8.2</td><td>6.1</td><td>3.6</td><td>1.5</td><td>0.8</td><td>1.7</td><td>904.3</td></tr><tr><td>기타대출3)</td><td>1.1</td><td>-0.5</td><td>0.3</td><td>0.4</td><td>-1.1</td><td>-2.1</td><td>235.3</td></tr><tr><td>은행기업대출1)</td><td>7.2</td><td>4.3</td><td>8.1</td><td>2.2</td><td>-11.5</td><td>7.8</td><td>1,322.9</td></tr><tr><td>대기업</td><td>1.9</td><td>0.8</td><td>2.9</td><td>0.2</td><td>-4.3</td><td>6.1</td><td>280.6</td></tr><tr><td>중소기업</td><td>5.3</td><td>3.5</td><td>5.3</td><td>2.0</td><td>-7.1</td><td>1.8</td><td>1,042.3</td></tr><tr><td>&lt;중소법인&gt;</td><td>4.5</td><td>3.3</td><td>4.9</td><td>1.5</td><td>-5.8</td><td>2.1</td><td>587.2</td></tr><tr><td>&lt;개인사업자&gt;</td><td>0.8</td><td>0.3</td><td>0.3</td><td>0.4</td><td>-1.3</td><td>-0.3</td><td>455.1</td></tr><tr><td>회사채 순발행4)</td><td>-0.5</td><td>-1.3</td><td>0.6</td><td>0.7</td><td>0.3</td><td>1.8</td><td>-</td></tr><tr><td>CP·단기사채순발행5)</td><td>-1.1</td><td>1.1</td><td>-1.5</td><td>-0.6</td><td>-4.4</td><td>9.1</td><td>62.7</td></tr></table>\"\n",
      "}\n",
      "\u001b[36;1m\u001b[1;3m[chain/end]\u001b[0m \u001b[1m[chain:RunnableSequence > prompt:ChatPromptTemplate] [7ms] Exiting Prompt run with output:\n",
      "\u001b[0m[outputs]\n",
      "\u001b[32;1m\u001b[1;3m[llm/start]\u001b[0m \u001b[1m[chain:RunnableSequence > llm:GoogleGenerativeAI] Entering LLM run with input:\n",
      "\u001b[0m{\n",
      "  \"prompts\": [\n",
      "    \"Human: You are a master answer bot designed to answer user's question.\\nI'm going to give you contexts which consist of texts, tables and images.\\nRead the contexts carefully, because I'm going to ask you a question about it.\\n\\nHuman: Here is the contexts as texts: <context>가계대출\\n\\n1월 은행 가계대출은 전월에이어 소폭 감소 (24.12월-0.4조원→25.1월-0.5조원;24.1월+3.3조원)\\n\\n주택담보대출은 연초 은행들의 가계대출 취급이 재개되었으나 주택 거래 둔화 등으로 낮은 증가세 지속(+0.8조원→+1.7조원)\\n\\n※전세자금대출증감(조원):24.11월+0.1→12월–0.0→25.1월+0.4(24.1월–0.2)\\n\\n기타대출은 명절·성과상여금 유입 등으로 감소폭이 확대 (-1.1조원→-2.1조원)\\n\\n8월 9월 10월 11월 12월 25.1월 아파트매매거래량(전국, 만호)1) 4.3 3.0 3.8 3.1 2.7 .. 매매거래량(수도권, 만호)1) 2.2 1.3 1.5 1.2 1.0 .. 매매거래량(서울, 만호)1) 0.6 0.3 0.4 0.3 0.3 .. 전세거래량(전국, 〃) 5.1 4.3 5.2 4.4 4.1 .. 분양물량 (전국, 〃) 1.7 1.8 2.5 3.2 2.0 1.0 입주물량 (전국, 〃) 3.2 2.6 3.0 3.4 3.1 3.8\\n\\n주:1)계약일 기준(2.11일 조회 기준, 계약 해제 건 제외)\\n\\n자료:국토교통부, 부동산114\\n\\n은행 가계대출\\n\\n2023 연중 1월 2024 연중 1월 10월 11월 12월 1월 잔액 은행가계대출1) 36.9 -4.7 46.0 3.3 3.8 1.9 -0.4 -0.5 1,140.5 주택담보대출2) 51.6 0.0 52.1 4.9 3.6 1.5 0.8 1.7 904.3 기타대출3) -14.5 -4.6 -5.9 -1.5 0.3 0.4 -1.1 -2.1 235.3\\n\\n주:1)예금은행(은행신탁 포함) 기준, 종별대출은 신탁 제외\\n\\n2)전세자금대출, 이주비·중도금대출 등 주택담보로 취급되지 않은 주택 관련 대출을 포함\\n\\n한국주택금융공사 정책 모기지 양도분 및 이차보전 방식의 주택도시기금 정책 대출 포함\\n\\n3)일반신용대출, 신용한도대출(마이너스통장대출), 상업용부동산(상가·오피스텔 등) 담보 대출, 기타대출(예·적금담보대출, 주식담보대출 등) 등으로 구성\\n\\n제공된 표는 2023년 8월부터 12월까지의 아파트 매매 및 전세 거래량, 분양 및 입주 물량과 2023년과 2024년의 은행 가계 대출 변화를 보여줍니다. 아파트 매매 거래량은 전국적으로 8월에 4.3만 호에서 12월에 2.7만 호로 감소했습니다. 전세 거래량은 5.1만 호에서 4.1만 호로 비슷한 감소세를 보였습니다. 분양 물량은 1.7만 호에서 2.0만 호로 소폭 증가했고, 입주 물량은 3.2만 호에서 3.1만 호로 거의 변동이 없었습니다. 은행 가계 대출은 2023년에 감소했지만, 2024년에 다시 증가하는 추세를 보입니다. 주택담보대출은 2024년 1월에 1.7조원 증가하여 904.3조원의 잔액을 기록했습니다. 기타 대출은 감소세를 보였습니다.\\n\\n표는 2024년 8월부터 2025년 1월까지의 은행 가계대출, 기업대출, 회사채 및 CP·단기사채 순발행액 변동 추이를 보여줍니다. 가계대출은 점차 감소하는 추세이며, 기업대출은 변동성이 큽니다. 2025년 1월말 잔액은 가계대출이 1,140.5조원, 기업대출이 1,322.9조원입니다.</context>\\nHere is the contexts as tables (table as html): <table_summary><table><tr><td/><td>8월</td><td>9월</td><td>10월</td><td>11월</td><td>12월</td><td>25.1월</td></tr><tr><td>아파트매매거래량(전국, 만호)1)</td><td>4.3</td><td>3.0</td><td>3.8</td><td>3.1</td><td>2.7</td><td>..</td></tr><tr><td>매매거래량(수도권, 만호)1)</td><td>2.2</td><td>1.3</td><td>1.5</td><td>1.2</td><td>1.0</td><td>..</td></tr><tr><td>매매거래량(서울, 만호)1)</td><td>0.6</td><td>0.3</td><td>0.4</td><td>0.3</td><td>0.3</td><td>..</td></tr><tr><td>전세거래량(전국, 〃)</td><td>5.1</td><td>4.3</td><td>5.2</td><td>4.4</td><td>4.1</td><td>..</td></tr><tr><td>분양물량 (전국, 〃)</td><td>1.7</td><td>1.8</td><td>2.5</td><td>3.2</td><td>2.0</td><td>1.0</td></tr><tr><td>입주물량 (전국, 〃)</td><td>3.2</td><td>2.6</td><td>3.0</td><td>3.4</td><td>3.1</td><td>3.8</td></tr></table> <table><tr><td/><td>2023</td><td>연중</td><td>1월</td><td>2024</td><td>연중</td><td>1월</td><td>10월</td><td>11월</td><td>12월</td><td>1월</td><td>잔액</td><td/><td/><td/><td/><td/><td/></tr><tr><td>은행가계대출1)</td><td>36.9</td><td>-4.7</td><td>46.0</td><td>3.3</td><td>3.8</td><td>1.9</td><td>-0.4</td><td>-0.5</td><td>1,140.5</td><td/><td/><td/><td/><td/><td/><td/><td/></tr><tr><td/><td>주택담보대출2)</td><td/><td/><td/><td/><td/><td>51.6</td><td/><td/><td>0.0</td><td>52.1</td><td>4.9</td><td>3.6</td><td>1.5</td><td>0.8</td><td>1.7</td><td>904.3</td></tr><tr><td/><td>기타대출3)</td><td/><td/><td/><td/><td/><td>-14.5</td><td/><td/><td>-4.6</td><td>-5.9</td><td>-1.5</td><td>0.3</td><td>0.4</td><td>-1.1</td><td>-2.1</td><td>235.3</td></tr></table>\\n\\n<table><tr><td/><td>8월</td><td>9월</td><td>10월</td><td>11월</td><td>12월</td><td>25.1월</td></tr><tr><td>아파트매매거래량(전국, 만호)1)</td><td>4.3</td><td>3.0</td><td>3.8</td><td>3.1</td><td>2.7</td><td>..</td></tr><tr><td>매매거래량(수도권, 만호)1)</td><td>2.2</td><td>1.3</td><td>1.5</td><td>1.2</td><td>1.0</td><td>..</td></tr><tr><td>매매거래량(서울, 만호)1)</td><td>0.6</td><td>0.3</td><td>0.4</td><td>0.3</td><td>0.3</td><td>..</td></tr><tr><td>전세거래량(전국, 〃)</td><td>5.1</td><td>4.3</td><td>5.2</td><td>4.4</td><td>4.1</td><td>..</td></tr><tr><td>분양물량 (전국, 〃)</td><td>1.7</td><td>1.8</td><td>2.5</td><td>3.2</td><td>2.0</td><td>1.0</td></tr><tr><td>입주물량 (전국, 〃)</td><td>3.2</td><td>2.6</td><td>3.0</td><td>3.4</td><td>3.1</td><td>3.8</td></tr></table> <table><tr><td/><td>2023</td><td>연중</td><td>1월</td><td>2024</td><td>연중</td><td>1월</td><td>10월</td><td>11월</td><td>12월</td><td>1월</td><td>잔액</td><td/><td/><td/><td/><td/><td/></tr><tr><td>은행가계대출1)</td><td>36.9</td><td>-4.7</td><td>46.0</td><td>3.3</td><td>3.8</td><td>1.9</td><td>-0.4</td><td>-0.5</td><td>1,140.5</td><td/><td/><td/><td/><td/><td/><td/><td/></tr><tr><td/><td>주택담보대출2)</td><td/><td/><td/><td/><td/><td>51.6</td><td/><td/><td>0.0</td><td>52.1</td><td>4.9</td><td>3.6</td><td>1.5</td><td>0.8</td><td>1.7</td><td>904.3</td></tr><tr><td/><td>기타대출3)</td><td/><td/><td/><td/><td/><td>-14.5</td><td/><td/><td>-4.6</td><td>-5.9</td><td>-1.5</td><td>0.3</td><td>0.4</td><td>-1.1</td><td>-2.1</td><td>235.3</td></tr></table>\\n\\n<table><tr><td>항목</td><td>24.8월</td><td>9월</td><td>10월</td><td>11월</td><td>12월</td><td>25.1월</td><td>25.1월말 잔액</td></tr><tr><td>은행가계대출1)</td><td>9.2</td><td>5.6</td><td>3.8</td><td>1.9</td><td>-0.4</td><td>-0.5</td><td>1,140.5</td></tr><tr><td>주택담보대출2)</td><td>8.2</td><td>6.1</td><td>3.6</td><td>1.5</td><td>0.8</td><td>1.7</td><td>904.3</td></tr><tr><td>기타대출3)</td><td>1.1</td><td>-0.5</td><td>0.3</td><td>0.4</td><td>-1.1</td><td>-2.1</td><td>235.3</td></tr><tr><td>은행기업대출1)</td><td>7.2</td><td>4.3</td><td>8.1</td><td>2.2</td><td>-11.5</td><td>7.8</td><td>1,322.9</td></tr><tr><td>대기업</td><td>1.9</td><td>0.8</td><td>2.9</td><td>0.2</td><td>-4.3</td><td>6.1</td><td>280.6</td></tr><tr><td>중소기업</td><td>5.3</td><td>3.5</td><td>5.3</td><td>2.0</td><td>-7.1</td><td>1.8</td><td>1,042.3</td></tr><tr><td>&lt;중소법인&gt;</td><td>4.5</td><td>3.3</td><td>4.9</td><td>1.5</td><td>-5.8</td><td>2.1</td><td>587.2</td></tr><tr><td>&lt;개인사업자&gt;</td><td>0.8</td><td>0.3</td><td>0.3</td><td>0.4</td><td>-1.3</td><td>-0.3</td><td>455.1</td></tr><tr><td>회사채 순발행4)</td><td>-0.5</td><td>-1.3</td><td>0.6</td><td>0.7</td><td>0.3</td><td>1.8</td><td>-</td></tr><tr><td>CP·단기사채순발행5)</td><td>-1.1</td><td>1.1</td><td>-1.5</td><td>-0.6</td><td>-4.4</td><td>9.1</td><td>62.7</td></tr></table></tables_summary>\\n\\nFirst, find a few paragraphs or sentences from the contexts that are most relevant to answering the question.\\nThen, answer the question as much as you can.\\n\\nSkip the preamble and go straight into the answer.\\nDon't insert any XML tag such as <contexts> and </contexts> when answering.\\nAnswer in Korean.\\n\\nHere is the question: <question>2024 하반기 은행 가계대출 변화량을 설명해봐</question>\\n\\nIf the question cannot be answered by the contexts. say \\\"No relevant contexts\\\".\"\n",
      "  ]\n",
      "}\n",
      "\u001b[36;1m\u001b[1;3m[llm/end]\u001b[0m \u001b[1m[chain:RunnableSequence > llm:GoogleGenerativeAI] [2.05s] Exiting LLM run with output:\n",
      "\u001b[0m{\n",
      "  \"generations\": [\n",
      "    [\n",
      "      {\n",
      "        \"text\": \"2024년 하반기(8월~12월) 은행 가계대출 변화량은 다음과 같습니다.\\n\\n*   **8월:** 9.2조원 증가\\n*   **9월:** 5.6조원 증가\\n*   **10월:** 3.8조원 증가\\n*   **11월:** 1.9조원 증가\\n*   **12월:** 0.4조원 감소\\n\",\n",
      "        \"generation_info\": {\n",
      "          \"usage_metadata\": {\n",
      "            \"prompt_token_count\": 3295,\n",
      "            \"candidates_token_count\": 110,\n",
      "            \"total_token_count\": 3405,\n",
      "            \"cached_content_token_count\": 0\n",
      "          }\n",
      "        },\n",
      "        \"type\": \"Generation\"\n",
      "      }\n",
      "    ]\n",
      "  ],\n",
      "  \"llm_output\": null,\n",
      "  \"run\": null,\n",
      "  \"type\": \"LLMResult\"\n",
      "}\n",
      "\u001b[32;1m\u001b[1;3m[chain/start]\u001b[0m \u001b[1m[chain:RunnableSequence > parser:StrOutputParser] Entering Parser run with input:\n",
      "\u001b[0m{\n",
      "  \"input\": \"2024년 하반기(8월~12월) 은행 가계대출 변화량은 다음과 같습니다.\\n\\n*   **8월:** 9.2조원 증가\\n*   **9월:** 5.6조원 증가\\n*   **10월:** 3.8조원 증가\\n*   **11월:** 1.9조원 증가\\n*   **12월:** 0.4조원 감소\\n\"\n",
      "}\n",
      "\u001b[36;1m\u001b[1;3m[chain/end]\u001b[0m \u001b[1m[chain:RunnableSequence > parser:StrOutputParser] [1ms] Exiting Parser run with output:\n",
      "\u001b[0m{\n",
      "  \"output\": \"2024년 하반기(8월~12월) 은행 가계대출 변화량은 다음과 같습니다.\\n\\n*   **8월:** 9.2조원 증가\\n*   **9월:** 5.6조원 증가\\n*   **10월:** 3.8조원 증가\\n*   **11월:** 1.9조원 증가\\n*   **12월:** 0.4조원 감소\\n\"\n",
      "}\n",
      "\u001b[36;1m\u001b[1;3m[chain/end]\u001b[0m \u001b[1m[chain:RunnableSequence] [2.08s] Exiting Chain run with output:\n",
      "\u001b[0m{\n",
      "  \"output\": \"2024년 하반기(8월~12월) 은행 가계대출 변화량은 다음과 같습니다.\\n\\n*   **8월:** 9.2조원 증가\\n*   **9월:** 5.6조원 증가\\n*   **10월:** 3.8조원 증가\\n*   **11월:** 1.9조원 증가\\n*   **12월:** 0.4조원 감소\\n\"\n",
      "}\n"
     ]
    }
   ],
   "source": [
    "verbose = True\n",
    "\n",
    "response = chain.invoke(\n",
    "    invoke_args,\n",
    "    config={'callbacks': [ConsoleCallbackHandler()]} if verbose else {}\n",
    ")"
   ]
  },
  {
   "cell_type": "code",
   "execution_count": 47,
   "metadata": {},
   "outputs": [
    {
     "data": {
      "text/plain": [
       "'2024년 하반기(8월~12월) 은행 가계대출 변화량은 다음과 같습니다.\\n\\n*   **8월:** 9.2조원 증가\\n*   **9월:** 5.6조원 증가\\n*   **10월:** 3.8조원 증가\\n*   **11월:** 1.9조원 증가\\n*   **12월:** 0.4조원 감소\\n'"
      ]
     },
     "execution_count": 47,
     "metadata": {},
     "output_type": "execute_result"
    }
   ],
   "source": [
    "response"
   ]
  }
 ],
 "metadata": {
  "kernelspec": {
   "display_name": "rag",
   "language": "python",
   "name": "python3"
  },
  "language_info": {
   "codemirror_mode": {
    "name": "ipython",
    "version": 3
   },
   "file_extension": ".py",
   "mimetype": "text/x-python",
   "name": "python",
   "nbconvert_exporter": "python",
   "pygments_lexer": "ipython3",
   "version": "3.13.2"
  }
 },
 "nbformat": 4,
 "nbformat_minor": 2
}
