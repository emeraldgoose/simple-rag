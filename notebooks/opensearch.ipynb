{
 "cells": [
  {
   "cell_type": "code",
   "execution_count": null,
   "metadata": {},
   "outputs": [],
   "source": [
    "from opensearchpy import OpenSearch\n",
    "\n",
    "client = OpenSearch(\n",
    "    hosts=[{'host': 'localhost', 'port': 9200}],\n",
    "    http_compress=True,\n",
    "    http_auth=('',''),\n",
    "    use_ssl=True,\n",
    "    verify_certs=False,\n",
    ")"
   ]
  },
  {
   "cell_type": "code",
   "execution_count": 9,
   "metadata": {},
   "outputs": [
    {
     "data": {
      "text/plain": [
       "{'name': 'opensearch',\n",
       " 'cluster_name': 'docker-cluster',\n",
       " 'cluster_uuid': '5Q3nu-KVR7GEp7JMnmG1kg',\n",
       " 'version': {'distribution': 'opensearch',\n",
       "  'number': '2.19.0',\n",
       "  'build_type': 'tar',\n",
       "  'build_hash': 'fd9a9d90df25bea1af2c6a85039692e815b894f5',\n",
       "  'build_date': '2025-02-05T16:13:36.244552508Z',\n",
       "  'build_snapshot': False,\n",
       "  'lucene_version': '9.12.1',\n",
       "  'minimum_wire_compatibility_version': '7.10.0',\n",
       "  'minimum_index_compatibility_version': '7.0.0'},\n",
       " 'tagline': 'The OpenSearch Project: https://opensearch.org/'}"
      ]
     },
     "execution_count": 9,
     "metadata": {},
     "output_type": "execute_result"
    }
   ],
   "source": [
    "client.info()"
   ]
  },
  {
   "cell_type": "code",
   "execution_count": 10,
   "metadata": {},
   "outputs": [
    {
     "data": {
      "text/plain": [
       "{'acknowledged': True, 'shards_acknowledged': True, 'index': 'sample'}"
      ]
     },
     "execution_count": 10,
     "metadata": {},
     "output_type": "execute_result"
    }
   ],
   "source": [
    "index_name = 'sample'\n",
    "index_body = {\n",
    "    'settings': {\n",
    "        'index': {\n",
    "            'number_of_shards': 4\n",
    "        }\n",
    "    }\n",
    "}\n",
    "\n",
    "response = client.indices.create(index_name, body=index_body)\n",
    "response"
   ]
  },
  {
   "cell_type": "code",
   "execution_count": 19,
   "metadata": {},
   "outputs": [
    {
     "name": "stdout",
     "output_type": "stream",
     "text": [
      "{'_index': 'sample', '_id': '2', '_version': 1, 'result': 'created', 'forced_refresh': True, '_shards': {'total': 2, 'successful': 1, 'failed': 0}, '_seq_no': 1, '_primary_term': 1}\n"
     ]
    }
   ],
   "source": [
    "document = {\n",
    "  'title': 'AAAAA',\n",
    "  'director': 'BB BBB',\n",
    "  'year': '2012'\n",
    "}\n",
    "\n",
    "id = '2'\n",
    "\n",
    "response = client.index(\n",
    "    index = index_name,\n",
    "    body = document,\n",
    "    id = id,\n",
    "    refresh = True\n",
    ")\n",
    "\n",
    "print(response)"
   ]
  },
  {
   "cell_type": "code",
   "execution_count": null,
   "metadata": {},
   "outputs": [],
   "source": [
    "q = 'miller'\n",
    "query = {\n",
    "  'size': 5,\n",
    "  'query': {\n",
    "    'multi_match': {\n",
    "      'query': q,\n",
    "      'fields': ['title^2', 'director']\n",
    "    }\n",
    "  }\n",
    "}\n",
    "\n",
    "response = client.search(\n",
    "    body = query,\n",
    "    index = index_name\n",
    ")\n",
    "\n",
    "related_document = []\n",
    "for doc in response[\"hits\"][\"hits\"]:\n",
    "    related_document.append(doc['_source'])\n",
    "print(related_document)"
   ]
  },
  {
   "cell_type": "code",
   "execution_count": null,
   "metadata": {},
   "outputs": [],
   "source": []
  }
 ],
 "metadata": {
  "kernelspec": {
   "display_name": "rag",
   "language": "python",
   "name": "python3"
  },
  "language_info": {
   "codemirror_mode": {
    "name": "ipython",
    "version": 3
   },
   "file_extension": ".py",
   "mimetype": "text/x-python",
   "name": "python",
   "nbconvert_exporter": "python",
   "pygments_lexer": "ipython3",
   "version": "3.13.2"
  }
 },
 "nbformat": 4,
 "nbformat_minor": 2
}
